{
 "cells": [
  {
   "cell_type": "markdown",
   "metadata": {},
   "source": [
    "# Continuing Graphs of Specimens Over Time - Continents and GBIF\n",
    "\n",
    "This notebook continues the work done in 01_iDigBio_Specimens_Collected_Over_Time.ipynb, you may want to review that notebook before contiuing. If you are interested in seeing what kinds of outputs are possible, you are welcome to skip to the graphs at the end of this notebook.\n",
    "\n",
    "Our goal for this notebook is to see how many specimens were collected on each continent during each year from 1817 to 2017. A stacked bar graph with a different color for each continent is a good way to view this data.\n",
    "\n",
    "We will introduce some additional concepts such as user defined functions, crosstabs, and how to write SQL statements instead of using the native pyspark methods. We'll move quickly though concepts already covered in earlier notebooks."
   ]
  },
  {
   "cell_type": "markdown",
   "metadata": {},
   "source": [
    "## Setup\n",
    "\n",
    "Import needed functions and libraries."
   ]
  },
  {
   "cell_type": "code",
   "execution_count": 1,
   "metadata": {
    "collapsed": true
   },
   "outputs": [],
   "source": [
    "# col() selects columns from a data frame, year() works on dates, and udf() creates user\n",
    "# defined functions\n",
    "from pyspark.sql.functions import col, year, udf\n",
    "\n",
    "# Plotting library and configuration to show graphs in the notebook\n",
    "import matplotlib.pyplot as plt\n",
    "%matplotlib inline"
   ]
  },
  {
   "cell_type": "markdown",
   "metadata": {},
   "source": [
    "# Loading the data set"
   ]
  },
  {
   "cell_type": "code",
   "execution_count": 2,
   "metadata": {
    "collapsed": false
   },
   "outputs": [],
   "source": [
    "df = sqlContext.read.load(\"/guoda/data/idigbio-20190612T171757.parquet\")"
   ]
  },
  {
   "cell_type": "code",
   "execution_count": 3,
   "metadata": {
    "collapsed": false
   },
   "outputs": [
    {
     "data": {
      "text/plain": [
       "105429263"
      ]
     },
     "execution_count": 3,
     "metadata": {},
     "output_type": "execute_result"
    }
   ],
   "source": [
    "df.count()"
   ]
  },
  {
   "cell_type": "markdown",
   "metadata": {},
   "source": [
    "## Year collected by continent\n",
    "\n",
    "To get a feel for what a summary of year and continent look like, we will again group by the year column but also add the continent column. The result will be a row for each unique combination of year and continent with the count of how many times that occurs."
   ]
  },
  {
   "cell_type": "code",
   "execution_count": 4,
   "metadata": {
    "collapsed": false
   },
   "outputs": [],
   "source": [
    "yc_sum = (df\n",
    "          .groupBy(year(\"datecollected\").cast(\"integer\").alias(\"yearcollected\"),\n",
    "                   \"continent\")\n",
    "          .count()\n",
    "          .orderBy(\"yearcollected\")\n",
    "          )"
   ]
  },
  {
   "cell_type": "code",
   "execution_count": 5,
   "metadata": {
    "collapsed": false
   },
   "outputs": [
    {
     "data": {
      "text/plain": [
       "[Row(yearcollected=None, continent='australia', count=1390303),\n",
       " Row(yearcollected=None, continent='east indies', count=268),\n",
       " Row(yearcollected=None, continent='eurasie', count=33),\n",
       " Row(yearcollected=None, continent='afrotropique', count=252),\n",
       " Row(yearcollected=None, continent='middle of america, westcoast', count=1),\n",
       " Row(yearcollected=None, continent='europe, europe', count=1636),\n",
       " Row(yearcollected=None, continent='océanien', count=16203),\n",
       " Row(yearcollected=None, continent='sw pacific', count=3),\n",
       " Row(yearcollected=None, continent='arctic ocean', count=19825),\n",
       " Row(yearcollected=None, continent='northern america', count=2408),\n",
       " Row(yearcollected=None, continent='néotropique', count=384),\n",
       " Row(yearcollected=None, continent='sem informação', count=2),\n",
       " Row(yearcollected=None, continent='asia, europe', count=3),\n",
       " Row(yearcollected=None, continent='asia temperate', count=3),\n",
       " Row(yearcollected=None, continent='australia?', count=1),\n",
       " Row(yearcollected=None, continent='south american', count=4),\n",
       " Row(yearcollected=None, continent='samoa islands', count=8),\n",
       " Row(yearcollected=None, continent='tweedia', count=1),\n",
       " Row(yearcollected=None, continent='funastrum', count=1),\n",
       " Row(yearcollected=None, continent='indian o.', count=29)]"
      ]
     },
     "execution_count": 5,
     "metadata": {},
     "output_type": "execute_result"
    }
   ],
   "source": [
    "yc_sum.head(20)"
   ]
  },
  {
   "cell_type": "markdown",
   "metadata": {
    "collapsed": true
   },
   "source": [
    "There are a lot of things that are not continents there! While iDigBio cleans stuff up a bit before indexing it, not everything is obvious to do. For the purposes of our graph, we will make an \"other\" continent and group things that are not one of the 7 continents (plus \"oceania\" which GBIF uses and we'll look at GBIF data lower down) into that category.\n"
   ]
  },
  {
   "cell_type": "markdown",
   "metadata": {},
   "source": [
    "## Fixing continent with a user defined function\n",
    "\n",
    "To create a new column that has a fixed continent field, we will write a user defined function in Python and apply that function to every row in the data frame. This is exactly how the year() function from the pyspark library works. But, since we are writing the function in Python, we need to convert it into a data frame aware function with the pyspark function udf(). Once we do that, we can use our custom function just the same way we used year() above.\n",
    "\n",
    "So let's write our Python function:"
   ]
  },
  {
   "cell_type": "code",
   "execution_count": 6,
   "metadata": {
    "collapsed": false
   },
   "outputs": [
    {
     "name": "stdout",
     "output_type": "stream",
     "text": [
      "other\n",
      "europe\n",
      "oceania\n",
      "north america\n",
      "north america\n",
      "other\n",
      "asia\n"
     ]
    }
   ],
   "source": [
    "# allowed continents\n",
    "continents = set([\"africa\", \"australia\", \"asia\", \"oceania\", \"europe\", \"north america\", \"south america\"])\n",
    "\n",
    "def fix_continent(c):\n",
    "    \"\"\"\n",
    "    If the given string contains one of the continents, return which one. If not\n",
    "    then return \"other\". Lower case the string and also replace \"_\" with \" \" to\n",
    "    be able to clean up GBIF's representation of continents that contain spaces.\n",
    "    \"\"\"\n",
    "    for continent in continents:\n",
    "        if (c) and (continent in c.lower().replace(\"_\", \" \")):\n",
    "            return continent\n",
    "    return \"other\"\n",
    "\n",
    "# Some example calls to this function\n",
    "print(fix_continent(None)) \n",
    "print(fix_continent(\"europe\"))    \n",
    "print(fix_continent(\"oceania\"))\n",
    "print(fix_continent(\"NORTH_AMERICA\"))\n",
    "print(fix_continent(\"North America, Canada, Manitoba, Churchill\"))\n",
    "print(fix_continent(\"East Indies, Indonesia: Pulo Pandjang, off Sumatra\"))\n",
    "print(fix_continent(\"Asia; Thailand; Pathum Thani\"))"
   ]
  },
  {
   "cell_type": "markdown",
   "metadata": {},
   "source": [
    "That output looks right. So now let's make a user defined function for Spark from our Python function. Notice that we pass the Python function as an argument to udf() and udf() returns to us a new function. In Python, functions are what's called \"first class objects\" and we can pass them around and manipulate them just like a variable."
   ]
  },
  {
   "cell_type": "code",
   "execution_count": 7,
   "metadata": {
    "collapsed": true
   },
   "outputs": [],
   "source": [
    "fix_continent_udf = udf(fix_continent)"
   ]
  },
  {
   "cell_type": "markdown",
   "metadata": {
    "collapsed": true
   },
   "source": [
    "Now re-run our grouping. This time use the fix_continent_udf() function to calculate a new column and add it to the dataframe with the withColumn() method. Then we can refer to that new column in the group by method. (Yes, we could have put the fix_continent_udf() call into the group by just like we put the year() call but this is an opportunity to introduce withColumn().)"
   ]
  },
  {
   "cell_type": "code",
   "execution_count": 8,
   "metadata": {
    "collapsed": true
   },
   "outputs": [],
   "source": [
    "yc_sum = (df\n",
    "          .withColumn(\"fixed\", fix_continent_udf(df.continent))\n",
    "          .groupBy(year(\"datecollected\").cast(\"integer\").alias(\"yearcollected\"),\n",
    "                   \"fixed\")\n",
    "          .count()\n",
    "          .orderBy(\"yearcollected\")\n",
    "          )"
   ]
  },
  {
   "cell_type": "code",
   "execution_count": 9,
   "metadata": {
    "collapsed": false
   },
   "outputs": [
    {
     "data": {
      "text/plain": [
       "[Row(yearcollected=None, fixed='africa', count=807947),\n",
       " Row(yearcollected=None, fixed='australia', count=1391203),\n",
       " Row(yearcollected=None, fixed='other', count=12824527),\n",
       " Row(yearcollected=None, fixed='south america', count=1414561),\n",
       " Row(yearcollected=None, fixed='europe', count=2324110),\n",
       " Row(yearcollected=None, fixed='north america', count=6798184),\n",
       " Row(yearcollected=None, fixed='oceania', count=446901),\n",
       " Row(yearcollected=None, fixed='asia', count=1480784),\n",
       " Row(yearcollected=100, fixed='north america', count=1),\n",
       " Row(yearcollected=100, fixed='other', count=1),\n",
       " Row(yearcollected=100, fixed='south america', count=1),\n",
       " Row(yearcollected=102, fixed='north america', count=1),\n",
       " Row(yearcollected=103, fixed='asia', count=1),\n",
       " Row(yearcollected=103, fixed='north america', count=1),\n",
       " Row(yearcollected=104, fixed='other', count=2),\n",
       " Row(yearcollected=105, fixed='other', count=5),\n",
       " Row(yearcollected=106, fixed='africa', count=3),\n",
       " Row(yearcollected=106, fixed='other', count=6),\n",
       " Row(yearcollected=107, fixed='europe', count=1),\n",
       " Row(yearcollected=107, fixed='north america', count=2)]"
      ]
     },
     "execution_count": 9,
     "metadata": {},
     "output_type": "execute_result"
    }
   ],
   "source": [
    "yc_sum.head(20)"
   ]
  },
  {
   "cell_type": "markdown",
   "metadata": {},
   "source": [
    "That looks much better. Notice now that we can actually see all of the yearcollected=None values. Before there were many continents so they went well past the top 20 results we were looking at. Now we can see all 8 counts, one for each continent."
   ]
  },
  {
   "cell_type": "markdown",
   "metadata": {},
   "source": [
    "## Cross tabs to make plottable data\n",
    "\n",
    "What we have created at this point is a long list of year, continent, and count combinations. This representation of the data is normalized and can be thought of as the \"long\" form. Plotting wants to see each variable in one column though so the better represenation would the de-normalized or \"wide\" form. We can do this in Pandas with piviot() or in R you can use one of the reformating functions. We can also do this in Spark directly.\n",
    "\n",
    "We will also take this opportunity to show how more typically a full data pipeline is shown in Spark. We will calculate the Pandas data frame all at once starting from the original df we loaded, filtering on years, creating the new fixed continents, and summarizing with group by. Each line in the pipeline below becomes the input for the next lower line. \n",
    "\n",
    "Notice that we first select only the columns of interest to let Spark know we don't need the other 200+ fields in iDigBio. Then we filter on year to cut down on the rows we need to work with. Only then do we run our udf which only runs on the filtered rows.\n",
    "\n",
    "The new step in here is the crosstab() method. This is the method that takes all values in the column that is the second argument and makes them in to columns. You'll see the output after."
   ]
  },
  {
   "cell_type": "code",
   "execution_count": 10,
   "metadata": {
    "collapsed": false
   },
   "outputs": [],
   "source": [
    "pandas_yc_cross = (df\n",
    "            .select(year(\"datecollected\").cast(\"integer\").alias(\"yearcollected\"),\n",
    "                    df.continent)\n",
    "            .filter(col(\"yearcollected\") >= 1817)\n",
    "            .filter(col(\"yearcollected\") <= 2017)\n",
    "            .withColumn(\"fixed\", fix_continent_udf(df.continent))\n",
    "            .crosstab(\"yearcollected\", \"fixed\")\n",
    "            .orderBy(col(\"yearcollected_fixed\"))\n",
    "            .toPandas()\n",
    "            )"
   ]
  },
  {
   "cell_type": "code",
   "execution_count": 11,
   "metadata": {
    "collapsed": false
   },
   "outputs": [
    {
     "data": {
      "text/html": [
       "<div>\n",
       "<table border=\"1\" class=\"dataframe\">\n",
       "  <thead>\n",
       "    <tr style=\"text-align: right;\">\n",
       "      <th></th>\n",
       "      <th>yearcollected_fixed</th>\n",
       "      <th>africa</th>\n",
       "      <th>asia</th>\n",
       "      <th>australia</th>\n",
       "      <th>europe</th>\n",
       "      <th>north america</th>\n",
       "      <th>oceania</th>\n",
       "      <th>other</th>\n",
       "      <th>south america</th>\n",
       "    </tr>\n",
       "  </thead>\n",
       "  <tbody>\n",
       "    <tr>\n",
       "      <th>0</th>\n",
       "      <td>1817</td>\n",
       "      <td>77</td>\n",
       "      <td>139</td>\n",
       "      <td>391</td>\n",
       "      <td>534</td>\n",
       "      <td>471</td>\n",
       "      <td>100</td>\n",
       "      <td>290</td>\n",
       "      <td>1454</td>\n",
       "    </tr>\n",
       "    <tr>\n",
       "      <th>1</th>\n",
       "      <td>1818</td>\n",
       "      <td>43</td>\n",
       "      <td>250</td>\n",
       "      <td>480</td>\n",
       "      <td>805</td>\n",
       "      <td>5365</td>\n",
       "      <td>16</td>\n",
       "      <td>4246</td>\n",
       "      <td>361</td>\n",
       "    </tr>\n",
       "    <tr>\n",
       "      <th>2</th>\n",
       "      <td>1819</td>\n",
       "      <td>76</td>\n",
       "      <td>333</td>\n",
       "      <td>488</td>\n",
       "      <td>1065</td>\n",
       "      <td>560</td>\n",
       "      <td>42</td>\n",
       "      <td>873</td>\n",
       "      <td>313</td>\n",
       "    </tr>\n",
       "    <tr>\n",
       "      <th>3</th>\n",
       "      <td>1820</td>\n",
       "      <td>51</td>\n",
       "      <td>156</td>\n",
       "      <td>218</td>\n",
       "      <td>1745</td>\n",
       "      <td>644</td>\n",
       "      <td>8</td>\n",
       "      <td>1001</td>\n",
       "      <td>211</td>\n",
       "    </tr>\n",
       "    <tr>\n",
       "      <th>4</th>\n",
       "      <td>1821</td>\n",
       "      <td>79</td>\n",
       "      <td>715</td>\n",
       "      <td>115</td>\n",
       "      <td>1870</td>\n",
       "      <td>466</td>\n",
       "      <td>35</td>\n",
       "      <td>848</td>\n",
       "      <td>653</td>\n",
       "    </tr>\n",
       "  </tbody>\n",
       "</table>\n",
       "</div>"
      ],
      "text/plain": [
       "  yearcollected_fixed  africa  asia  australia  europe  north america  \\\n",
       "0                1817      77   139        391     534            471   \n",
       "1                1818      43   250        480     805           5365   \n",
       "2                1819      76   333        488    1065            560   \n",
       "3                1820      51   156        218    1745            644   \n",
       "4                1821      79   715        115    1870            466   \n",
       "\n",
       "   oceania  other  south america  \n",
       "0      100    290           1454  \n",
       "1       16   4246            361  \n",
       "2       42    873            313  \n",
       "3        8   1001            211  \n",
       "4       35    848            653  "
      ]
     },
     "execution_count": 11,
     "metadata": {},
     "output_type": "execute_result"
    }
   ],
   "source": [
    "pandas_yc_cross.head(5)"
   ]
  },
  {
   "cell_type": "markdown",
   "metadata": {},
   "source": [
    "That looks pretty intuitive and we made the whole thing with one Spark statement. You can tell it's a Pandas dataframe now because the display is nice and tabular."
   ]
  },
  {
   "cell_type": "markdown",
   "metadata": {},
   "source": [
    "## Making the graph\n",
    "\n",
    "Plotting isn't the focus of this notebook. Briefly, we'll make a function that stacks up multiple variables (continent counts) on top of each other and shades them different colors."
   ]
  },
  {
   "cell_type": "code",
   "execution_count": 12,
   "metadata": {
    "collapsed": true
   },
   "outputs": [],
   "source": [
    "import pandas as pd\n",
    "import numpy as np\n",
    "\n",
    "def stack_bar_plot(pdf, columns, colors):\n",
    "    \"\"\"\n",
    "    Matplotlib needs to have the bars stacked on top of each other by hand.\n",
    "    First, we plot one column of data, then we make a ...\n",
    "    \"\"\"\n",
    "    plots = []\n",
    "    bottoms = pd.DataFrame(np.zeros((len(pdf['yearcollected_fixed']), 1)))\n",
    "    for c in columns:\n",
    "        plots.append(\n",
    "          plt.bar(pdf['yearcollected_fixed'], pdf[c], \n",
    "                  color=colors[len(plots)], edgecolor='none',\n",
    "                  width=1.0, bottom=bottoms[0])\n",
    "        )\n",
    "        bottoms[0] += pdf[c]\n",
    "    return plots"
   ]
  },
  {
   "cell_type": "markdown",
   "metadata": {},
   "source": [
    "and then we'll call our function to make the graph and add some axes."
   ]
  },
  {
   "cell_type": "code",
   "execution_count": 13,
   "metadata": {
    "collapsed": false
   },
   "outputs": [
    {
     "data": {
      "image/png": "[encoded data removed]",
      "text/plain": [
       "<matplotlib.figure.Figure at 0x7f3da5cd0668>"
      ]
     },
     "metadata": {},
     "output_type": "display_data"
    }
   ],
   "source": [
    "# set up ordering of continents and their colors\n",
    "continents_list = sorted(continents)\n",
    "continents_list.insert(0, \"other\")\n",
    "colors = [\"#888888\", \"#a75902\", \"#00e5c8\", \"#1bcda7\", \"#37b686\", \"#539f65\", \"#51827c\", \"#bf6603\"]\n",
    "\n",
    "plots = stack_bar_plot(pandas_yc_cross, continents_list, colors)\n",
    "        \n",
    "# Start of WWI\n",
    "plt.axvline(x=1914)\n",
    "# Start of WWII\n",
    "plt.axvline(x=1939)\n",
    "# \"1988 - October 31: President Reagan signs the NSF Authorization Act of 1988,\n",
    "# thereby authorizing the doubling of the NSF budget over the next five years.\"\n",
    "plt.axvline(x=1988)\n",
    "\n",
    "plt.legend(plots, continents_list, loc=2)\n",
    "plt.title(\"Specimens in iDigBio by Collection Year and Continent\")\n",
    "plt.ylabel(\"Number of Specimen Records\")\n",
    "plt.xlabel(\"Year\")\n",
    "axes = plt.gca()\n",
    "axes.set_xlim([1815, 2020])\n",
    "axes.set_ylim([0, 1200000])\n",
    "fig = plt.gcf()\n",
    "fig.set_size_inches(12, 4)"
   ]
  },
  {
   "cell_type": "markdown",
   "metadata": {},
   "source": [
    "There it is, the number of specimen records in iDigBio by collection date and continent. We chose to add some vertical lines to the graph at particularly interesting dates. You can read the code comments to see what those are."
   ]
  },
  {
   "cell_type": "markdown",
   "metadata": {
    "collapsed": true
   },
   "source": [
    "## Doing the same with GBIF data\n",
    "\n",
    "GBIF periocdically produces a similar graph to the above on their [analytics page](http://www.gbif.org/analytics/global) titled \"Records by year of occurrence\" but it's not very comparable because it include observation records as well. It would be great if we could run the same process on their data after filtering it for only specimens so we can look at how the contents of different occurrance record aggregators differs. (This is an expected and healthy thing. One of the goals of the GUODA collaboration is to begin to characterize the relationships between sets of aggregated data across domains without that work being done by one entity. Notice too that this copy of GBIF is pretty old. Again this is GUODA's fault as we have not been running our import regularly while we worked on improving other parts of our system.)"
   ]
  },
  {
   "cell_type": "markdown",
   "metadata": {},
   "source": [
    "We can start by reading in the GBIF data that is stored in GUODA."
   ]
  },
  {
   "cell_type": "code",
   "execution_count": 14,
   "metadata": {
    "collapsed": true
   },
   "outputs": [],
   "source": [
    "gbif_df = sqlContext.read.parquet(\"/guoda/data/gbif-idigbio.parquet/source=gbif/date=20160825\")"
   ]
  },
  {
   "cell_type": "markdown",
   "metadata": {},
   "source": [
    "We use a different process for formating GBIF data and as part of GUODA's process, the columns are named with a syntax that can be difficult to work with in Python. First let's use the SQL \"as\" syntax to rename the columns.\n",
    "\n",
    "Spark data frames can also be manupulated with SQL statements instead of the pyspark functions. Note that Spark does not support the full SQL standard, it only supports syntx similar to the native functions.\n",
    "\n",
    "The first step is to tell Spark what name we want to use to refer to our data frame with in the SQL. That is the createOrReplaceTempView() method. After than we can send our SQL as a string to the SQL Context associated with our Spark Context and we will get back a data frame. Because we'll use this data frame more than once, we'll persist it so it will not be recalculated."
   ]
  },
  {
   "cell_type": "markdown",
   "metadata": {},
   "source": [
    "As part of our SQL statement we will also filter for only those records that contain the string \"SPECIMEN\" in the basisOfRecord field. This may or may not be the best way to select only specimens from GBIF but for our graph it's good enough."
   ]
  },
  {
   "cell_type": "code",
   "execution_count": 15,
   "metadata": {
    "collapsed": true
   },
   "outputs": [],
   "source": [
    "gbif_df.createOrReplaceTempView(\"gbif_df\")\n",
    "\n",
    "renamed_df = sqlContext.sql(\"\"\"\n",
    "SELECT `http://rs.tdwg.org/dwc/terms/eventDate` as eventDate,\n",
    "       `http://rs.tdwg.org/dwc/terms/continent` as continent\n",
    "FROM gbif_df\n",
    "WHERE `http://rs.tdwg.org/dwc/terms/basisOfRecord` LIKE \"%SPECIMEN%\"\n",
    "\"\"\").persist()"
   ]
  },
  {
   "cell_type": "code",
   "execution_count": 16,
   "metadata": {
    "collapsed": false
   },
   "outputs": [
    {
     "data": {
      "text/plain": [
       "63184115"
      ]
     },
     "execution_count": 16,
     "metadata": {},
     "output_type": "execute_result"
    }
   ],
   "source": [
    "renamed_df.count()"
   ]
  },
  {
   "cell_type": "markdown",
   "metadata": {},
   "source": [
    "We will again run the crosstab all at once on this data frame with renamed columns. This is exactly the same summarization we ran on the iDigBio data frame."
   ]
  },
  {
   "cell_type": "code",
   "execution_count": 17,
   "metadata": {
    "collapsed": false
   },
   "outputs": [],
   "source": [
    "pandas_yc_cross_gbif = (renamed_df\n",
    "            .select(year(\"eventDate\").cast(\"integer\").alias(\"yearcollected\"),\n",
    "                    renamed_df.continent)\n",
    "            .filter(col(\"yearcollected\") >= 1817)\n",
    "            .filter(col(\"yearcollected\") <= 2017)\n",
    "            .withColumn(\"fixed\", fix_continent_udf(renamed_df.continent))\n",
    "            .crosstab(\"yearcollected\", \"fixed\")\n",
    "            .orderBy(col(\"yearcollected_fixed\"))\n",
    "            .toPandas()\n",
    "            )\n"
   ]
  },
  {
   "cell_type": "code",
   "execution_count": 18,
   "metadata": {
    "collapsed": false
   },
   "outputs": [
    {
     "data": {
      "text/html": [
       "<div>\n",
       "<table border=\"1\" class=\"dataframe\">\n",
       "  <thead>\n",
       "    <tr style=\"text-align: right;\">\n",
       "      <th></th>\n",
       "      <th>yearcollected_fixed</th>\n",
       "      <th>africa</th>\n",
       "      <th>asia</th>\n",
       "      <th>europe</th>\n",
       "      <th>north america</th>\n",
       "      <th>oceania</th>\n",
       "      <th>other</th>\n",
       "      <th>south america</th>\n",
       "    </tr>\n",
       "  </thead>\n",
       "  <tbody>\n",
       "    <tr>\n",
       "      <th>0</th>\n",
       "      <td>1817</td>\n",
       "      <td>5</td>\n",
       "      <td>7</td>\n",
       "      <td>67</td>\n",
       "      <td>14</td>\n",
       "      <td>23</td>\n",
       "      <td>344</td>\n",
       "      <td>72</td>\n",
       "    </tr>\n",
       "    <tr>\n",
       "      <th>1</th>\n",
       "      <td>1818</td>\n",
       "      <td>5</td>\n",
       "      <td>108</td>\n",
       "      <td>69</td>\n",
       "      <td>7</td>\n",
       "      <td>43</td>\n",
       "      <td>423</td>\n",
       "      <td>112</td>\n",
       "    </tr>\n",
       "    <tr>\n",
       "      <th>2</th>\n",
       "      <td>1819</td>\n",
       "      <td>14</td>\n",
       "      <td>140</td>\n",
       "      <td>91</td>\n",
       "      <td>19</td>\n",
       "      <td>45</td>\n",
       "      <td>400</td>\n",
       "      <td>83</td>\n",
       "    </tr>\n",
       "    <tr>\n",
       "      <th>3</th>\n",
       "      <td>1820</td>\n",
       "      <td>4</td>\n",
       "      <td>31</td>\n",
       "      <td>265</td>\n",
       "      <td>225</td>\n",
       "      <td>38</td>\n",
       "      <td>505</td>\n",
       "      <td>79</td>\n",
       "    </tr>\n",
       "    <tr>\n",
       "      <th>4</th>\n",
       "      <td>1821</td>\n",
       "      <td>5</td>\n",
       "      <td>121</td>\n",
       "      <td>273</td>\n",
       "      <td>203</td>\n",
       "      <td>10</td>\n",
       "      <td>297</td>\n",
       "      <td>81</td>\n",
       "    </tr>\n",
       "  </tbody>\n",
       "</table>\n",
       "</div>"
      ],
      "text/plain": [
       "  yearcollected_fixed  africa  asia  europe  north america  oceania  other  \\\n",
       "0                1817       5     7      67             14       23    344   \n",
       "1                1818       5   108      69              7       43    423   \n",
       "2                1819      14   140      91             19       45    400   \n",
       "3                1820       4    31     265            225       38    505   \n",
       "4                1821       5   121     273            203       10    297   \n",
       "\n",
       "   south america  \n",
       "0             72  \n",
       "1            112  \n",
       "2             83  \n",
       "3             79  \n",
       "4             81  "
      ]
     },
     "execution_count": 18,
     "metadata": {},
     "output_type": "execute_result"
    }
   ],
   "source": [
    "pandas_yc_cross_gbif.head(5)"
   ]
  },
  {
   "cell_type": "markdown",
   "metadata": {},
   "source": [
    "And we'll use the exact same code for graphing as well. We just need to remove the \"australia\" and it's color from our continent list because GBIF doesn't use it."
   ]
  },
  {
   "cell_type": "code",
   "execution_count": 19,
   "metadata": {
    "collapsed": false
   },
   "outputs": [
    {
     "data": {
      "image/png": "[encoded data removed]",
      "text/plain": [
       "<matplotlib.figure.Figure at 0x7f3da5a96eb8>"
      ]
     },
     "metadata": {},
     "output_type": "display_data"
    }
   ],
   "source": [
    "# GBIF doesn't have \"australia\"\n",
    "try:\n",
    "    continents_list.remove(\"australia\")\n",
    "    colors.remove(\"#1bcda7\")\n",
    "except:\n",
    "    pass\n",
    "\n",
    "plots = stack_bar_plot(pandas_yc_cross_gbif, continents_list, colors)\n",
    "\n",
    "# Start of WWI\n",
    "plt.axvline(x=1914)\n",
    "\n",
    "# Start of WWII\n",
    "plt.axvline(x=1939)\n",
    "\n",
    "# \"1988 - October 31: President Reagan signs the NSF Authorization Act of 1988, thereby authorizing the doubling of the NSF budget over the next five years.\"\n",
    "plt.axvline(x=1988)\n",
    "\n",
    "plt.legend(plots, continents_list, loc=2)\n",
    "plt.title(\"Specimens in GBIF by Collection Year and Continent\")\n",
    "plt.ylabel(\"Number of Specimen Records\")\n",
    "plt.xlabel(\"Year\")\n",
    "axes = plt.gca()\n",
    "axes.set_xlim([1815, 2020])\n",
    "axes.set_ylim([0, 1200000])\n",
    "fig = plt.gcf()\n",
    "fig.set_size_inches(12, 4)"
   ]
  },
  {
   "cell_type": "markdown",
   "metadata": {
    "collapsed": true
   },
   "source": []
  }
 ],
 "metadata": {
  "kernelspec": {
   "display_name": "3 - PySpark Python3 Medium",
   "language": "python",
   "name": "pyspark3-med"
  },
  "language_info": {
   "codemirror_mode": {
    "name": "ipython",
    "version": 3
   },
   "file_extension": ".py",
   "mimetype": "text/x-python",
   "name": "python",
   "nbconvert_exporter": "python",
   "pygments_lexer": "ipython3",
   "version": "3.5.2"
  }
 },
 "nbformat": 4,
 "nbformat_minor": 1
}

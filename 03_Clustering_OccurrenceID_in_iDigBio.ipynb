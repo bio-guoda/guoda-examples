{
 "cells": [
  {
   "cell_type": "markdown",
   "metadata": {},
   "source": [
    "# Clustering occurrenceid in iDigBio data\n",
    "\n",
    "Spark has an entire machine learning library for clustering, classification, inferance, and modeling on large data sets. We'll use some very simple clustering to explore what kinds of identifiers people use in the occurrenceid field in iDigBio.\n",
    "\n",
    "If you would like to follow the code, please review 01_iDigBio_Specimens_Collected_Over_Time.ipynb and 02_iDigBio_and_GBIF_Specimens_By_Continent_Over_Time.ipynb first as the ideas presented there will be skipped over in this notebook.\n",
    "\n",
    "If you are just interested in the final results, feel free to skip to the end."
   ]
  },
  {
   "cell_type": "code",
   "execution_count": 20,
   "metadata": {
    "collapsed": true
   },
   "outputs": [],
   "source": [
    "import re\n",
    "\n",
    "from pyspark.sql.functions import col, length, udf\n",
    "from pyspark.ml.clustering import KMeans\n",
    "from pyspark.ml.linalg import Vectors, VectorUDT\n",
    "\n",
    "import pandas as pd\n",
    "import matplotlib.pyplot as plt\n",
    "from mpl_toolkits.mplot3d import Axes3D\n",
    "%matplotlib inline"
   ]
  },
  {
   "cell_type": "code",
   "execution_count": 21,
   "metadata": {
    "collapsed": true
   },
   "outputs": [],
   "source": [
    "df = sqlContext.read.load(\"/guoda/data/idigbio-20190426T013311-100k.parquet\")"
   ]
  },
  {
   "cell_type": "markdown",
   "metadata": {},
   "source": [
    "## Features\n",
    "\n",
    "When clustering, the algorithm used needs to know what aspects of the data to consider when trying to decide how similar two things are. These aspects are refered to as \"features\". In the algorithm we are going to use, k-means, features must be numeric and the distance between the numbers must be related to how similar the data are to each other. That is, for three data points A, B, and C with feature values 0, 1, and 10, then points A and C are 10 times less related than points A and B. \n",
    "\n",
    "We need to pick these features in advance according to our intuition and understanding of the data. There are methods of finding the best features and neural networks actually make up their own features with no input at all.\n",
    "\n",
    "For this notebook we are going to use three features:\n",
    "\n",
    "1. The total lenght of the occurrenceid\n",
    "2. The number of characters that are valid for a hexadecimal number (0-1 and A-F)\n",
    "3. The number of special characters"
   ]
  },
  {
   "cell_type": "markdown",
   "metadata": {},
   "source": [
    "We have to calculate these features from the raw data ourselves. Fortunately they're all simple calculations. The Spark machine learning libraries need to have them represented as a dataframe with a column named \"features\" that contains a vector with the values of each feature for the record.\n",
    "\n",
    "This is where we will again use a user defined function to do this."
   ]
  },
  {
   "cell_type": "code",
   "execution_count": 22,
   "metadata": {
    "collapsed": false
   },
   "outputs": [],
   "source": [
    "# compile regular expressions in advance for a bit of speed\n",
    "hex_chars = re.compile(r'[0-9a-fA-F]')\n",
    "special_chars = re.compile(r'[\\:\\\\\\-_ ]')\n",
    "\n",
    "def make_features(occurrenceid):\n",
    "    return Vectors.dense(\n",
    "        len(occurrenceid),\n",
    "        len(re.findall(hex_chars, occurrenceid)),\n",
    "        len(re.findall(special_chars, occurrenceid))\n",
    "    )\n",
    "\n",
    "make_features_udf = udf(make_features, VectorUDT())"
   ]
  },
  {
   "cell_type": "code",
   "execution_count": 23,
   "metadata": {
    "collapsed": true
   },
   "outputs": [],
   "source": [
    "features = (df\n",
    "            .select(col(\"occurrenceid\"),\n",
    "                    make_features_udf(col(\"occurrenceid\")).alias(\"features\"))\n",
    "            .persist()\n",
    "            )"
   ]
  },
  {
   "cell_type": "code",
   "execution_count": 24,
   "metadata": {
    "collapsed": false
   },
   "outputs": [
    {
     "data": {
      "text/plain": [
       "[Row(occurrenceid='urn:uuid:856b9c56-d8e1-11e2-99a2-0026552be7ea', features=DenseVector([45.0, 33.0, 6.0])),\n",
       " Row(occurrenceid='urn:uuid:83a78218-d8e1-11e2-99a2-0026552be7ea', features=DenseVector([45.0, 33.0, 6.0])),\n",
       " Row(occurrenceid='urn:uuid:841d3b34-d8e1-11e2-99a2-0026552be7ea', features=DenseVector([45.0, 33.0, 6.0])),\n",
       " Row(occurrenceid='urn:uuid:871242ee-d8e1-11e2-99a2-0026552be7ea', features=DenseVector([45.0, 33.0, 6.0])),\n",
       " Row(occurrenceid='urn:uuid:863e9d4a-d8e1-11e2-99a2-0026552be7ea', features=DenseVector([45.0, 33.0, 6.0])),\n",
       " Row(occurrenceid='urn:uuid:cb6a253a-003f-11e3-8e88-0026552be7ea', features=DenseVector([45.0, 33.0, 6.0])),\n",
       " Row(occurrenceid='urn:uuid:82cc4888-d8e1-11e2-99a2-0026552be7ea', features=DenseVector([45.0, 33.0, 6.0])),\n",
       " Row(occurrenceid='urn:uuid:84be62b6-d8e1-11e2-99a2-0026552be7ea', features=DenseVector([45.0, 33.0, 6.0])),\n",
       " Row(occurrenceid='urn:uuid:8517336e-d8e1-11e2-99a2-0026552be7ea', features=DenseVector([45.0, 33.0, 6.0])),\n",
       " Row(occurrenceid='urn:uuid:857c3020-d8e1-11e2-99a2-0026552be7ea', features=DenseVector([45.0, 33.0, 6.0]))]"
      ]
     },
     "execution_count": 24,
     "metadata": {},
     "output_type": "execute_result"
    }
   ],
   "source": [
    "features.head(10)"
   ]
  },
  {
   "cell_type": "markdown",
   "metadata": {},
   "source": [
    "The `features` data frame now has the original occurrenceid along with a vector of features for each one. You can count up some characters in the output above to check it.\n",
    "\n",
    "Notice that persisted() this data frame. One of the great advantages of  Spark over other distributed processing engines is that it can preserve data frames like this in memory as they are repeatedly used and accessed which machine learning does a lot."
   ]
  },
  {
   "cell_type": "markdown",
   "metadata": {},
   "source": [
    "## k-means and selecting k\n",
    "\n",
    "You can read more about [k-means works here](https://en.wikipedia.org/wiki/K-means_clustering). In a nutshell, it tries to minimize the SSE distances from a fixed number of cluster centroids in the feature space.\n",
    "\n",
    "Huh?\n",
    "\n",
    "It assumes there are a fixed number of cluster centers and it picks a random location as a guess for where each one is. Then it calculates the sum of the squares of all the distances from the data to those points. Then it moves the centers a bit and sees if the distances go down.\n",
    "\n",
    "One of the drawbacks here is that you need to give the algorithm a number of clusters to try to optimize to. This makes sense because if you didn't the optimal solution would be for each data point to be its own cluster.\n",
    "\n",
    "Fortunately picking a k for a comparatively small data set like these can be done by simply trying a range of them and graphing k vs the sum of the squared errors. The point at which there is an elbow in the graph is probably a good k value to use.\n",
    "\n",
    "We'll just take a guess and let k vary from 5 to 20."
   ]
  },
  {
   "cell_type": "code",
   "execution_count": 25,
   "metadata": {
    "collapsed": false
   },
   "outputs": [],
   "source": [
    "# parallel arrays for the win\n",
    "ks = []\n",
    "models = []\n",
    "centers = []\n",
    "costs = []\n",
    "\n",
    "for i in range(5, 21):\n",
    "    kmeans = KMeans(k=i, seed=1)\n",
    "    model = kmeans.fit(features)\n",
    "    ks.append(i)\n",
    "    models.append(model)\n",
    "    centers.append(model.clusterCenters())\n",
    "    costs.append(model.computeCost(features))"
   ]
  },
  {
   "cell_type": "markdown",
   "metadata": {
    "collapsed": true
   },
   "source": [
    "For the 100k parquet and a small allocation, that takes about 20-30 seconds. For the entire 100 million row iDigBio data frame and using the whole cluster it takes about 15 minutes.\n",
    "\n",
    "We now have four arrays that are all lined up. Let's look at the costs first. These are the total SSE values added up for all the points in the data set."
   ]
  },
  {
   "cell_type": "code",
   "execution_count": 26,
   "metadata": {
    "collapsed": false
   },
   "outputs": [
    {
     "name": "stdout",
     "output_type": "stream",
     "text": [
      "[478134.4818440371, 396891.6318830741, 212132.97895124086, 180022.46220084443, 146277.97113583615, 125794.83001545875, 124069.20752218677, 98241.41719851004, 96300.72588614676, 96300.72588614676, 64801.92774630434, 58450.79080184875, 56725.17823214374, 62447.164582512865, 66363.23671686856, 54455.531069584955]\n"
     ]
    }
   ],
   "source": [
    "print(costs)"
   ]
  },
  {
   "cell_type": "markdown",
   "metadata": {},
   "source": [
    "Now let's plot k vs the total costs."
   ]
  },
  {
   "cell_type": "code",
   "execution_count": 27,
   "metadata": {
    "collapsed": false,
    "scrolled": true
   },
   "outputs": [
    {
     "data": {
      "text/plain": [
       "[<matplotlib.lines.Line2D at 0x7fe6facfe7f0>]"
      ]
     },
     "execution_count": 27,
     "metadata": {},
     "output_type": "execute_result"
    },
    {
     "data": {
      "image/png": "[encoded data removed]",
      "text/plain": [
       "<matplotlib.figure.Figure at 0x7fe6fc770400>"
      ]
     },
     "metadata": {},
     "output_type": "display_data"
    }
   ],
   "source": [
    "plt.plot(ks, costs)"
   ]
  },
  {
   "cell_type": "markdown",
   "metadata": {},
   "source": [
    "Returns in reducint the sum of the errors certainly have fallen off by k=15 so we'll pick that as our final k."
   ]
  },
  {
   "cell_type": "code",
   "execution_count": 28,
   "metadata": {
    "collapsed": true
   },
   "outputs": [],
   "source": [
    "final_k = 15"
   ]
  },
  {
   "cell_type": "markdown",
   "metadata": {},
   "source": [
    "# Looking at the model output"
   ]
  },
  {
   "cell_type": "code",
   "execution_count": 29,
   "metadata": {
    "collapsed": false
   },
   "outputs": [
    {
     "data": {
      "text/html": [
       "<div>\n",
       "<table border=\"1\" class=\"dataframe\">\n",
       "  <thead>\n",
       "    <tr style=\"text-align: right;\">\n",
       "      <th></th>\n",
       "      <th>0</th>\n",
       "      <th>1</th>\n",
       "      <th>2</th>\n",
       "    </tr>\n",
       "  </thead>\n",
       "  <tbody>\n",
       "    <tr>\n",
       "      <th>0</th>\n",
       "      <td>50.935868</td>\n",
       "      <td>16.926079</td>\n",
       "      <td>1.031349</td>\n",
       "    </tr>\n",
       "    <tr>\n",
       "      <th>1</th>\n",
       "      <td>24.399227</td>\n",
       "      <td>9.272392</td>\n",
       "      <td>4.005010</td>\n",
       "    </tr>\n",
       "    <tr>\n",
       "      <th>2</th>\n",
       "      <td>45.008303</td>\n",
       "      <td>33.008303</td>\n",
       "      <td>6.000000</td>\n",
       "    </tr>\n",
       "    <tr>\n",
       "      <th>3</th>\n",
       "      <td>36.000000</td>\n",
       "      <td>32.000000</td>\n",
       "      <td>4.000000</td>\n",
       "    </tr>\n",
       "    <tr>\n",
       "      <th>4</th>\n",
       "      <td>14.997839</td>\n",
       "      <td>8.996111</td>\n",
       "      <td>1.003889</td>\n",
       "    </tr>\n",
       "    <tr>\n",
       "      <th>5</th>\n",
       "      <td>17.000000</td>\n",
       "      <td>10.274566</td>\n",
       "      <td>1.000000</td>\n",
       "    </tr>\n",
       "    <tr>\n",
       "      <th>6</th>\n",
       "      <td>31.204960</td>\n",
       "      <td>16.142232</td>\n",
       "      <td>4.000000</td>\n",
       "    </tr>\n",
       "    <tr>\n",
       "      <th>7</th>\n",
       "      <td>30.180260</td>\n",
       "      <td>10.468423</td>\n",
       "      <td>4.999365</td>\n",
       "    </tr>\n",
       "    <tr>\n",
       "      <th>8</th>\n",
       "      <td>22.228219</td>\n",
       "      <td>8.916049</td>\n",
       "      <td>4.000000</td>\n",
       "    </tr>\n",
       "    <tr>\n",
       "      <th>9</th>\n",
       "      <td>58.841398</td>\n",
       "      <td>21.053763</td>\n",
       "      <td>5.451613</td>\n",
       "    </tr>\n",
       "    <tr>\n",
       "      <th>10</th>\n",
       "      <td>7.000000</td>\n",
       "      <td>7.000000</td>\n",
       "      <td>0.000000</td>\n",
       "    </tr>\n",
       "    <tr>\n",
       "      <th>11</th>\n",
       "      <td>52.468636</td>\n",
       "      <td>18.465488</td>\n",
       "      <td>1.777670</td>\n",
       "    </tr>\n",
       "    <tr>\n",
       "      <th>12</th>\n",
       "      <td>12.158890</td>\n",
       "      <td>5.984868</td>\n",
       "      <td>2.001261</td>\n",
       "    </tr>\n",
       "    <tr>\n",
       "      <th>13</th>\n",
       "      <td>17.672727</td>\n",
       "      <td>7.600000</td>\n",
       "      <td>3.072727</td>\n",
       "    </tr>\n",
       "    <tr>\n",
       "      <th>14</th>\n",
       "      <td>26.262837</td>\n",
       "      <td>11.034018</td>\n",
       "      <td>4.146021</td>\n",
       "    </tr>\n",
       "  </tbody>\n",
       "</table>\n",
       "</div>"
      ],
      "text/plain": [
       "            0          1         2\n",
       "0   50.935868  16.926079  1.031349\n",
       "1   24.399227   9.272392  4.005010\n",
       "2   45.008303  33.008303  6.000000\n",
       "3   36.000000  32.000000  4.000000\n",
       "4   14.997839   8.996111  1.003889\n",
       "5   17.000000  10.274566  1.000000\n",
       "6   31.204960  16.142232  4.000000\n",
       "7   30.180260  10.468423  4.999365\n",
       "8   22.228219   8.916049  4.000000\n",
       "9   58.841398  21.053763  5.451613\n",
       "10   7.000000   7.000000  0.000000\n",
       "11  52.468636  18.465488  1.777670\n",
       "12  12.158890   5.984868  2.001261\n",
       "13  17.672727   7.600000  3.072727\n",
       "14  26.262837  11.034018  4.146021"
      ]
     },
     "execution_count": 29,
     "metadata": {},
     "output_type": "execute_result"
    }
   ],
   "source": [
    "centers_df = pd.DataFrame(centers[ks.index(final_k)])\n",
    "centers_df"
   ]
  },
  {
   "cell_type": "markdown",
   "metadata": {},
   "source": [
    "Notice that one of the clusters has a total length of 36, number of hex characters of 32, and special characters of 4. This exactly matches the format of a uuid when we know many providers use so it looks like our model found some useful information."
   ]
  },
  {
   "cell_type": "markdown",
   "metadata": {},
   "source": [
    "## Displaying results\n",
    "\n",
    "We happen to have three features so we can plot our cluster centers in 3D. To make the display a little nicer, let's make the sizes of the points relative to the number of occurrenceids that are in the cluster.\n",
    "\n",
    "One of the things we saved from the k-means clustering process is the actual model itself. This is an object that contains the results of all the calculations done and it includes a dataframe of the predictions that the model made for each occurenceid.\n",
    "\n",
    "Let's take a look:"
   ]
  },
  {
   "cell_type": "code",
   "execution_count": 30,
   "metadata": {
    "collapsed": false
   },
   "outputs": [
    {
     "data": {
      "text/plain": [
       "[Row(occurrenceid='urn:uuid:856b9c56-d8e1-11e2-99a2-0026552be7ea', features=DenseVector([45.0, 33.0, 6.0]), prediction=2),\n",
       " Row(occurrenceid='urn:uuid:83a78218-d8e1-11e2-99a2-0026552be7ea', features=DenseVector([45.0, 33.0, 6.0]), prediction=2),\n",
       " Row(occurrenceid='urn:uuid:841d3b34-d8e1-11e2-99a2-0026552be7ea', features=DenseVector([45.0, 33.0, 6.0]), prediction=2),\n",
       " Row(occurrenceid='urn:uuid:871242ee-d8e1-11e2-99a2-0026552be7ea', features=DenseVector([45.0, 33.0, 6.0]), prediction=2),\n",
       " Row(occurrenceid='urn:uuid:863e9d4a-d8e1-11e2-99a2-0026552be7ea', features=DenseVector([45.0, 33.0, 6.0]), prediction=2),\n",
       " Row(occurrenceid='urn:uuid:cb6a253a-003f-11e3-8e88-0026552be7ea', features=DenseVector([45.0, 33.0, 6.0]), prediction=2),\n",
       " Row(occurrenceid='urn:uuid:82cc4888-d8e1-11e2-99a2-0026552be7ea', features=DenseVector([45.0, 33.0, 6.0]), prediction=2),\n",
       " Row(occurrenceid='urn:uuid:84be62b6-d8e1-11e2-99a2-0026552be7ea', features=DenseVector([45.0, 33.0, 6.0]), prediction=2),\n",
       " Row(occurrenceid='urn:uuid:8517336e-d8e1-11e2-99a2-0026552be7ea', features=DenseVector([45.0, 33.0, 6.0]), prediction=2),\n",
       " Row(occurrenceid='urn:uuid:857c3020-d8e1-11e2-99a2-0026552be7ea', features=DenseVector([45.0, 33.0, 6.0]), prediction=2)]"
      ]
     },
     "execution_count": 30,
     "metadata": {},
     "output_type": "execute_result"
    }
   ],
   "source": [
    "final_model = models[ks.index(final_k)]\n",
    "\n",
    "final_model.summary.predictions.head(10)"
   ]
  },
  {
   "cell_type": "markdown",
   "metadata": {},
   "source": [
    "We can summarize these predictions by the cluster number and convert it to Pandas for plotting. We will also scale the counts to a range that makes sense for the range of values that our plotting function expects:"
   ]
  },
  {
   "cell_type": "code",
   "execution_count": 31,
   "metadata": {
    "collapsed": false
   },
   "outputs": [],
   "source": [
    "sizes = (final_model.summary.predictions\n",
    "         .groupBy(col(\"prediction\"))\n",
    "         .count()\n",
    "         .orderBy(col(\"prediction\"))\n",
    "         .toPandas()\n",
    "         )\n",
    "max_size = 1000\n",
    "sizes[\"scaled\"] = (sizes[\"count\"] / sizes[\"count\"].max() ) * max_size"
   ]
  },
  {
   "cell_type": "code",
   "execution_count": 32,
   "metadata": {
    "collapsed": false
   },
   "outputs": [
    {
     "data": {
      "text/html": [
       "<div>\n",
       "<table border=\"1\" class=\"dataframe\">\n",
       "  <thead>\n",
       "    <tr style=\"text-align: right;\">\n",
       "      <th></th>\n",
       "      <th>prediction</th>\n",
       "      <th>count</th>\n",
       "      <th>scaled</th>\n",
       "    </tr>\n",
       "  </thead>\n",
       "  <tbody>\n",
       "    <tr>\n",
       "      <th>0</th>\n",
       "      <td>0</td>\n",
       "      <td>23701</td>\n",
       "      <td>655.974094</td>\n",
       "    </tr>\n",
       "    <tr>\n",
       "      <th>1</th>\n",
       "      <td>1</td>\n",
       "      <td>11377</td>\n",
       "      <td>314.881957</td>\n",
       "    </tr>\n",
       "    <tr>\n",
       "      <th>2</th>\n",
       "      <td>2</td>\n",
       "      <td>36131</td>\n",
       "      <td>1000.000000</td>\n",
       "    </tr>\n",
       "    <tr>\n",
       "      <th>3</th>\n",
       "      <td>3</td>\n",
       "      <td>5134</td>\n",
       "      <td>142.094047</td>\n",
       "    </tr>\n",
       "    <tr>\n",
       "      <th>4</th>\n",
       "      <td>4</td>\n",
       "      <td>2314</td>\n",
       "      <td>64.044726</td>\n",
       "    </tr>\n",
       "    <tr>\n",
       "      <th>5</th>\n",
       "      <td>5</td>\n",
       "      <td>1038</td>\n",
       "      <td>28.728792</td>\n",
       "    </tr>\n",
       "    <tr>\n",
       "      <th>6</th>\n",
       "      <td>6</td>\n",
       "      <td>1371</td>\n",
       "      <td>37.945255</td>\n",
       "    </tr>\n",
       "    <tr>\n",
       "      <th>7</th>\n",
       "      <td>7</td>\n",
       "      <td>3151</td>\n",
       "      <td>87.210429</td>\n",
       "    </tr>\n",
       "    <tr>\n",
       "      <th>8</th>\n",
       "      <td>8</td>\n",
       "      <td>5670</td>\n",
       "      <td>156.928953</td>\n",
       "    </tr>\n",
       "    <tr>\n",
       "      <th>9</th>\n",
       "      <td>9</td>\n",
       "      <td>372</td>\n",
       "      <td>10.295868</td>\n",
       "    </tr>\n",
       "  </tbody>\n",
       "</table>\n",
       "</div>"
      ],
      "text/plain": [
       "   prediction  count       scaled\n",
       "0           0  23701   655.974094\n",
       "1           1  11377   314.881957\n",
       "2           2  36131  1000.000000\n",
       "3           3   5134   142.094047\n",
       "4           4   2314    64.044726\n",
       "5           5   1038    28.728792\n",
       "6           6   1371    37.945255\n",
       "7           7   3151    87.210429\n",
       "8           8   5670   156.928953\n",
       "9           9    372    10.295868"
      ]
     },
     "execution_count": 32,
     "metadata": {},
     "output_type": "execute_result"
    }
   ],
   "source": [
    "sizes.head(10)"
   ]
  },
  {
   "cell_type": "markdown",
   "metadata": {},
   "source": [
    "Finally we can graph our cluster centers. This graph is a little unusual in that we can actually label the axes. Often times clustering uses many features and grphical displays will use virtually calculated axes from principle component analysis or some other dimensionallity reduction method."
   ]
  },
  {
   "cell_type": "code",
   "execution_count": 33,
   "metadata": {
    "collapsed": false
   },
   "outputs": [
    {
     "data": {
      "text/plain": [
       "<matplotlib.text.Text at 0x7fe6facc17f0>"
      ]
     },
     "execution_count": 33,
     "metadata": {},
     "output_type": "execute_result"
    },
    {
     "data": {
      "image/png": "[encoded data removed]",
      "text/plain": [
       "<matplotlib.figure.Figure at 0x7fe6facadf98>"
      ]
     },
     "metadata": {},
     "output_type": "display_data"
    }
   ],
   "source": [
    "fig = plt.figure()\n",
    "ax = fig.add_subplot(111, projection='3d')\n",
    "ax.scatter(xs=centers_df[0], ys=centers_df[1], zs=centers_df[2],\n",
    "           s=sizes[\"scaled\"], edgecolor='')\n",
    "\n",
    "plt.title(\"Relative Cluster Sizes of Occurrence IDs in iDigBio\")\n",
    "plt.xlabel(\"Length\")\n",
    "plt.ylabel(\"Hex Characters\")\n",
    "ax.set_zlabel(\"Special Characters\")"
   ]
  },
  {
   "cell_type": "markdown",
   "metadata": {},
   "source": [
    "We can also look at the actual values in the predictions data frame to get some examples of the kinds of identifiers that were clustered together."
   ]
  },
  {
   "cell_type": "code",
   "execution_count": 34,
   "metadata": {
    "collapsed": false
   },
   "outputs": [
    {
     "name": "stdout",
     "output_type": "stream",
     "text": [
      "Cluster 0\n",
      "                                        occurrenceid\n",
      "0   http://coldb.mnhn.fr/catalognumber/mnhn/ey/ey241\n",
      "1  http://coldb.mnhn.fr/catalognumber/mnhn/ey/ey6475\n",
      "2  http://coldb.mnhn.fr/catalognumber/mnhn/ey/ey9659\n",
      "3  http://coldb.mnhn.fr/catalognumber/mnhn/ey/ey9618\n",
      "4  http://coldb.mnhn.fr/catalognumber/mnhn/ey/ey8863\n",
      "Cluster 1\n",
      "                occurrenceid\n",
      "0  urn:catalog:trom:v:961366\n",
      "1   urn:catalog:cas:ds:84042\n",
      "2   urn:catalog:cas:ds:68327\n",
      "3   urn:catalog:cas:ds:40983\n",
      "4   urn:catalog:cas:ds:45273\n",
      "Cluster 2\n",
      "                                    occurrenceid\n",
      "0  urn:uuid:856b9c56-d8e1-11e2-99a2-0026552be7ea\n",
      "1  urn:uuid:83a78218-d8e1-11e2-99a2-0026552be7ea\n",
      "2  urn:uuid:841d3b34-d8e1-11e2-99a2-0026552be7ea\n",
      "3  urn:uuid:871242ee-d8e1-11e2-99a2-0026552be7ea\n",
      "4  urn:uuid:863e9d4a-d8e1-11e2-99a2-0026552be7ea\n",
      "Cluster 3\n",
      "                           occurrenceid\n",
      "0  18ed8d3e-c9c3-4224-853b-9a4d055ced87\n",
      "1  9e7021b7-a4e4-4d27-8f88-0b4dd3b7d880\n",
      "2  756a4299-96e3-4bb7-9160-5b35b49fcde8\n",
      "3  93f4f870-7d84-4dc3-a287-a08958492a47\n",
      "4  eef50af0-3220-444b-bc62-661549b8260c\n"
     ]
    }
   ],
   "source": [
    "for i in [0, 1, 2, 3]:\n",
    "    print(\"Cluster {0}\".format(i))\n",
    "    print(final_model.summary.predictions\n",
    "     .filter(col(\"prediction\") == i)\n",
    "     .select(col(\"occurrenceid\"))\n",
    "     .limit(5)\n",
    "     .toPandas()\n",
    "     )"
   ]
  }
 ],
 "metadata": {
  "kernelspec": {
   "display_name": "1 - PySpark Python3 Small",
   "language": "python",
   "name": "pyspark3-small"
  },
  "language_info": {
   "codemirror_mode": {
    "name": "ipython",
    "version": 3
   },
   "file_extension": ".py",
   "mimetype": "text/x-python",
   "name": "python",
   "nbconvert_exporter": "python",
   "pygments_lexer": "ipython3",
   "version": "3.5.2"
  }
 },
 "nbformat": 4,
 "nbformat_minor": 1
}

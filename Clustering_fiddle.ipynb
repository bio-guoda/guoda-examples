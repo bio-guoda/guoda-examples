{
 "cells": [
  {
   "cell_type": "code",
   "execution_count": 24,
   "metadata": {
    "collapsed": true
   },
   "outputs": [],
   "source": [
    "%matplotlib inline\n",
    "import matplotlib.pyplot as plt\n",
    "from mpl_toolkits.mplot3d import Axes3D"
   ]
  },
  {
   "cell_type": "code",
   "execution_count": 25,
   "metadata": {
    "collapsed": true
   },
   "outputs": [],
   "source": [
    "df = (sqlContext.read.load(\"/guoda/data/idigbio-20190612T171757.parquet\")\n",
    "    )"
   ]
  },
  {
   "cell_type": "markdown",
   "metadata": {},
   "source": [
    "Calculate features"
   ]
  },
  {
   "cell_type": "code",
   "execution_count": 26,
   "metadata": {
    "collapsed": false
   },
   "outputs": [],
   "source": [
    "from pyspark.ml.linalg import Vectors, VectorUDT\n",
    "\n",
    "#data = [(Vectors.dense([0.0, 0.0]),), (Vectors.dense([1.0, 1.0]),),\n",
    "#       (Vectors.dense([9.0, 8.0]),), (Vectors.dense([8.0, 9.0]),)]\n",
    "#print(spark.createDataFrame(data, [\"features\"]).head(10))"
   ]
  },
  {
   "cell_type": "code",
   "execution_count": 27,
   "metadata": {
    "collapsed": false
   },
   "outputs": [],
   "source": [
    "from pyspark.sql.functions import col, length, udf\n",
    "import re\n",
    "\n",
    "hex_chars = re.compile(r'[0-9a-fA-F]')\n",
    "special_chars = re.compile(r'[\\:\\\\\\-_ ]')\n",
    "\n",
    "def make_features(occurrenceid):\n",
    "    return Vectors.dense(\n",
    "        len(occurrenceid),\n",
    "        len(re.findall(hex_chars, occurrenceid)),\n",
    "        len(re.findall(special_chars, occurrenceid))\n",
    "    )\n",
    "    #return [float(len(occurrenceid)), 5.0]\n",
    "\n",
    "make_features_udf = udf(make_features, VectorUDT())\n",
    "    \n",
    "# length(col(\"occurrenceid\")\n",
    "features = (df\n",
    "            .select(col(\"occurrenceid\"),\n",
    "                make_features_udf(col(\"occurrenceid\")).alias(\"features\"))\n",
    "            .persist()\n",
    "            )\n",
    "\n",
    "#features = df.rdd.map(lambda x: Vectors.dense(len(x[\"occurrenceid\"])))"
   ]
  },
  {
   "cell_type": "code",
   "execution_count": 28,
   "metadata": {
    "collapsed": false
   },
   "outputs": [
    {
     "data": {
      "text/plain": [
       "[Row(occurrenceid='urn:uuid:9372ac72-aeab-11e3-8259-0026552be7ea', features=DenseVector([45.0, 33.0, 6.0])),\n",
       " Row(occurrenceid='urn:uuid:854d29a6-d8e1-11e2-99a2-0026552be7ea', features=DenseVector([45.0, 33.0, 6.0])),\n",
       " Row(occurrenceid='urn:uuid:8380600c-d8e1-11e2-99a2-0026552be7ea', features=DenseVector([45.0, 33.0, 6.0])),\n",
       " Row(occurrenceid='urn:uuid:8477e052-d8e1-11e2-99a2-0026552be7ea', features=DenseVector([45.0, 33.0, 6.0])),\n",
       " Row(occurrenceid='urn:uuid:8423b018-d8e1-11e2-99a2-0026552be7ea', features=DenseVector([45.0, 33.0, 6.0])),\n",
       " Row(occurrenceid='urn:uuid:868baa7c-d8e1-11e2-99a2-0026552be7ea', features=DenseVector([45.0, 33.0, 6.0])),\n",
       " Row(occurrenceid='urn:uuid:85a4303e-d8e1-11e2-99a2-0026552be7ea', features=DenseVector([45.0, 33.0, 6.0])),\n",
       " Row(occurrenceid='urn:uuid:88037dd0-d8e1-11e2-99a2-0026552be7ea', features=DenseVector([45.0, 33.0, 6.0])),\n",
       " Row(occurrenceid='urn:uuid:846d0bdc-d8e1-11e2-99a2-0026552be7ea', features=DenseVector([45.0, 33.0, 6.0])),\n",
       " Row(occurrenceid='urn:uuid:37f5e682-7e2e-11e3-935e-0026552be7ea', features=DenseVector([45.0, 33.0, 6.0]))]"
      ]
     },
     "execution_count": 28,
     "metadata": {},
     "output_type": "execute_result"
    }
   ],
   "source": [
    "features.head(10)"
   ]
  },
  {
   "cell_type": "code",
   "execution_count": 29,
   "metadata": {
    "collapsed": false
   },
   "outputs": [],
   "source": [
    "from pyspark.ml.clustering import KMeans\n",
    "\n",
    "kmeans = KMeans(k=4, seed=1)\n",
    "model = kmeans.fit(features)"
   ]
  },
  {
   "cell_type": "code",
   "execution_count": null,
   "metadata": {
    "collapsed": true
   },
   "outputs": [],
   "source": []
  },
  {
   "cell_type": "code",
   "execution_count": null,
   "metadata": {
    "collapsed": true
   },
   "outputs": [],
   "source": []
  },
  {
   "cell_type": "code",
   "execution_count": null,
   "metadata": {
    "collapsed": true
   },
   "outputs": [],
   "source": []
  },
  {
   "cell_type": "code",
   "execution_count": 30,
   "metadata": {
    "collapsed": false
   },
   "outputs": [
    {
     "name": "stdout",
     "output_type": "stream",
     "text": [
      "[array([ 36.94971975,  32.00587473,   4.21890485]), array([ 60.77813604,  26.27229552,   3.02054589]), array([ 12.7707872 ,   7.79042064,   1.39948822]), array([ 28.68818093,  11.90653144,   4.04075096])]\n"
     ]
    }
   ],
   "source": [
    "centers = model.clusterCenters()\n",
    "print(centers)"
   ]
  },
  {
   "cell_type": "code",
   "execution_count": 31,
   "metadata": {
    "collapsed": false
   },
   "outputs": [
    {
     "data": {
      "text/html": [
       "<div>\n",
       "<table border=\"1\" class=\"dataframe\">\n",
       "  <thead>\n",
       "    <tr style=\"text-align: right;\">\n",
       "      <th></th>\n",
       "      <th>0</th>\n",
       "      <th>1</th>\n",
       "      <th>2</th>\n",
       "    </tr>\n",
       "  </thead>\n",
       "  <tbody>\n",
       "    <tr>\n",
       "      <th>0</th>\n",
       "      <td>36.949720</td>\n",
       "      <td>32.005875</td>\n",
       "      <td>4.218905</td>\n",
       "    </tr>\n",
       "    <tr>\n",
       "      <th>1</th>\n",
       "      <td>60.778136</td>\n",
       "      <td>26.272296</td>\n",
       "      <td>3.020546</td>\n",
       "    </tr>\n",
       "    <tr>\n",
       "      <th>2</th>\n",
       "      <td>12.770787</td>\n",
       "      <td>7.790421</td>\n",
       "      <td>1.399488</td>\n",
       "    </tr>\n",
       "    <tr>\n",
       "      <th>3</th>\n",
       "      <td>28.688181</td>\n",
       "      <td>11.906531</td>\n",
       "      <td>4.040751</td>\n",
       "    </tr>\n",
       "  </tbody>\n",
       "</table>\n",
       "</div>"
      ],
      "text/plain": [
       "           0          1         2\n",
       "0  36.949720  32.005875  4.218905\n",
       "1  60.778136  26.272296  3.020546\n",
       "2  12.770787   7.790421  1.399488\n",
       "3  28.688181  11.906531  4.040751"
      ]
     },
     "execution_count": 31,
     "metadata": {},
     "output_type": "execute_result"
    }
   ],
   "source": [
    "import pandas as pd\n",
    "centers_df = pd.DataFrame(centers)\n",
    "centers_df"
   ]
  },
  {
   "cell_type": "code",
   "execution_count": 32,
   "metadata": {
    "collapsed": true
   },
   "outputs": [],
   "source": [
    "# graph centers"
   ]
  },
  {
   "cell_type": "code",
   "execution_count": null,
   "metadata": {
    "collapsed": true
   },
   "outputs": [],
   "source": []
  },
  {
   "cell_type": "code",
   "execution_count": 33,
   "metadata": {
    "collapsed": true
   },
   "outputs": [],
   "source": [
    "# what are the most important axes? pca"
   ]
  },
  {
   "cell_type": "code",
   "execution_count": 34,
   "metadata": {
    "collapsed": true
   },
   "outputs": [],
   "source": [
    "# select those dimensions from graph centers and plot in 2 dimensions"
   ]
  },
  {
   "cell_type": "markdown",
   "metadata": {},
   "source": [
    "That's cool, how do we know 4 is a good k?"
   ]
  },
  {
   "cell_type": "code",
   "execution_count": 35,
   "metadata": {
    "collapsed": false
   },
   "outputs": [],
   "source": [
    "# parallel arrays for the win\n",
    "ks = []\n",
    "models = []\n",
    "centers = []\n",
    "costs = []\n",
    "\n",
    "for i in range(5, 21):\n",
    "    kmeans = KMeans(k=i, seed=1)\n",
    "    model = kmeans.fit(features)\n",
    "    ks.append(i)\n",
    "    models.append(model)\n",
    "    centers.append(model.clusterCenters())\n",
    "    costs.append(model.computeCost(features))\n",
    "\n"
   ]
  },
  {
   "cell_type": "code",
   "execution_count": 36,
   "metadata": {
    "collapsed": true
   },
   "outputs": [],
   "source": [
    "# predict as a UDF to run on all data to find examples of things in the clusters"
   ]
  },
  {
   "cell_type": "code",
   "execution_count": 37,
   "metadata": {
    "collapsed": false
   },
   "outputs": [
    {
     "name": "stdout",
     "output_type": "stream",
     "text": [
      "[5517516631.12075, 2717303410.0655875, 1833910073.2626684, 1551452657.0152106, 1339107975.7685483, 1046085711.3787776, 1102391410.4102342, 807424472.9293461, 591909130.3742176, 518034490.4488958, 451134474.92578864, 411460514.6268028, 365942039.9499283, 420079481.6905408, 343392345.5673457, 322801372.64355814]\n"
     ]
    }
   ],
   "source": [
    "#print(models)\n",
    "print(costs)"
   ]
  },
  {
   "cell_type": "code",
   "execution_count": 38,
   "metadata": {
    "collapsed": false
   },
   "outputs": [
    {
     "data": {
      "text/plain": [
       "[<matplotlib.lines.Line2D at 0x7f4eb15fe748>]"
      ]
     },
     "execution_count": 38,
     "metadata": {},
     "output_type": "execute_result"
    },
    {
     "data": {
      "image/png": "[encoded data removed]",
      "text/plain": [
       "<matplotlib.figure.Figure at 0x7f4eb67759e8>"
      ]
     },
     "metadata": {},
     "output_type": "display_data"
    }
   ],
   "source": [
    "plt.plot(ks, costs)"
   ]
  },
  {
   "cell_type": "code",
   "execution_count": 39,
   "metadata": {
    "collapsed": true
   },
   "outputs": [],
   "source": [
    "final_k = 15"
   ]
  },
  {
   "cell_type": "code",
   "execution_count": 40,
   "metadata": {
    "collapsed": false
   },
   "outputs": [
    {
     "data": {
      "text/html": [
       "<div>\n",
       "<table border=\"1\" class=\"dataframe\">\n",
       "  <thead>\n",
       "    <tr style=\"text-align: right;\">\n",
       "      <th></th>\n",
       "      <th>0</th>\n",
       "      <th>1</th>\n",
       "      <th>2</th>\n",
       "    </tr>\n",
       "  </thead>\n",
       "  <tbody>\n",
       "    <tr>\n",
       "      <th>0</th>\n",
       "      <td>36.001007</td>\n",
       "      <td>32.000000</td>\n",
       "      <td>4.000000</td>\n",
       "    </tr>\n",
       "    <tr>\n",
       "      <th>1</th>\n",
       "      <td>63.001644</td>\n",
       "      <td>41.000653</td>\n",
       "      <td>6.000219</td>\n",
       "    </tr>\n",
       "    <tr>\n",
       "      <th>2</th>\n",
       "      <td>24.868540</td>\n",
       "      <td>9.992323</td>\n",
       "      <td>3.866530</td>\n",
       "    </tr>\n",
       "    <tr>\n",
       "      <th>3</th>\n",
       "      <td>30.219772</td>\n",
       "      <td>10.968493</td>\n",
       "      <td>4.135722</td>\n",
       "    </tr>\n",
       "    <tr>\n",
       "      <th>4</th>\n",
       "      <td>87.950355</td>\n",
       "      <td>44.184145</td>\n",
       "      <td>6.437326</td>\n",
       "    </tr>\n",
       "    <tr>\n",
       "      <th>5</th>\n",
       "      <td>51.085162</td>\n",
       "      <td>16.813212</td>\n",
       "      <td>1.299206</td>\n",
       "    </tr>\n",
       "    <tr>\n",
       "      <th>6</th>\n",
       "      <td>67.419288</td>\n",
       "      <td>23.032467</td>\n",
       "      <td>2.056481</td>\n",
       "    </tr>\n",
       "    <tr>\n",
       "      <th>7</th>\n",
       "      <td>43.406230</td>\n",
       "      <td>16.408471</td>\n",
       "      <td>6.556142</td>\n",
       "    </tr>\n",
       "    <tr>\n",
       "      <th>8</th>\n",
       "      <td>60.892954</td>\n",
       "      <td>22.374162</td>\n",
       "      <td>2.188133</td>\n",
       "    </tr>\n",
       "    <tr>\n",
       "      <th>9</th>\n",
       "      <td>80.678496</td>\n",
       "      <td>25.824196</td>\n",
       "      <td>1.365853</td>\n",
       "    </tr>\n",
       "    <tr>\n",
       "      <th>10</th>\n",
       "      <td>24.399741</td>\n",
       "      <td>15.089453</td>\n",
       "      <td>3.052562</td>\n",
       "    </tr>\n",
       "    <tr>\n",
       "      <th>11</th>\n",
       "      <td>34.545900</td>\n",
       "      <td>13.605058</td>\n",
       "      <td>4.837051</td>\n",
       "    </tr>\n",
       "    <tr>\n",
       "      <th>12</th>\n",
       "      <td>7.795328</td>\n",
       "      <td>7.206256</td>\n",
       "      <td>0.095458</td>\n",
       "    </tr>\n",
       "    <tr>\n",
       "      <th>13</th>\n",
       "      <td>45.002044</td>\n",
       "      <td>33.000755</td>\n",
       "      <td>6.000136</td>\n",
       "    </tr>\n",
       "    <tr>\n",
       "      <th>14</th>\n",
       "      <td>15.350480</td>\n",
       "      <td>8.039289</td>\n",
       "      <td>2.113677</td>\n",
       "    </tr>\n",
       "  </tbody>\n",
       "</table>\n",
       "</div>"
      ],
      "text/plain": [
       "            0          1         2\n",
       "0   36.001007  32.000000  4.000000\n",
       "1   63.001644  41.000653  6.000219\n",
       "2   24.868540   9.992323  3.866530\n",
       "3   30.219772  10.968493  4.135722\n",
       "4   87.950355  44.184145  6.437326\n",
       "5   51.085162  16.813212  1.299206\n",
       "6   67.419288  23.032467  2.056481\n",
       "7   43.406230  16.408471  6.556142\n",
       "8   60.892954  22.374162  2.188133\n",
       "9   80.678496  25.824196  1.365853\n",
       "10  24.399741  15.089453  3.052562\n",
       "11  34.545900  13.605058  4.837051\n",
       "12   7.795328   7.206256  0.095458\n",
       "13  45.002044  33.000755  6.000136\n",
       "14  15.350480   8.039289  2.113677"
      ]
     },
     "execution_count": 40,
     "metadata": {},
     "output_type": "execute_result"
    }
   ],
   "source": [
    "centers_df = pd.DataFrame(centers[ks.index(final_k)])\n",
    "centers_df"
   ]
  },
  {
   "cell_type": "markdown",
   "metadata": {},
   "source": [
    "Need to count number of records for each cluster"
   ]
  },
  {
   "cell_type": "code",
   "execution_count": 41,
   "metadata": {
    "collapsed": false
   },
   "outputs": [
    {
     "data": {
      "text/plain": [
       "[Row(occurrenceid='urn:uuid:9372ac72-aeab-11e3-8259-0026552be7ea', features=DenseVector([45.0, 33.0, 6.0]), prediction=13),\n",
       " Row(occurrenceid='urn:uuid:854d29a6-d8e1-11e2-99a2-0026552be7ea', features=DenseVector([45.0, 33.0, 6.0]), prediction=13),\n",
       " Row(occurrenceid='urn:uuid:8380600c-d8e1-11e2-99a2-0026552be7ea', features=DenseVector([45.0, 33.0, 6.0]), prediction=13),\n",
       " Row(occurrenceid='urn:uuid:8477e052-d8e1-11e2-99a2-0026552be7ea', features=DenseVector([45.0, 33.0, 6.0]), prediction=13),\n",
       " Row(occurrenceid='urn:uuid:8423b018-d8e1-11e2-99a2-0026552be7ea', features=DenseVector([45.0, 33.0, 6.0]), prediction=13),\n",
       " Row(occurrenceid='urn:uuid:868baa7c-d8e1-11e2-99a2-0026552be7ea', features=DenseVector([45.0, 33.0, 6.0]), prediction=13),\n",
       " Row(occurrenceid='urn:uuid:85a4303e-d8e1-11e2-99a2-0026552be7ea', features=DenseVector([45.0, 33.0, 6.0]), prediction=13),\n",
       " Row(occurrenceid='urn:uuid:88037dd0-d8e1-11e2-99a2-0026552be7ea', features=DenseVector([45.0, 33.0, 6.0]), prediction=13),\n",
       " Row(occurrenceid='urn:uuid:846d0bdc-d8e1-11e2-99a2-0026552be7ea', features=DenseVector([45.0, 33.0, 6.0]), prediction=13),\n",
       " Row(occurrenceid='urn:uuid:37f5e682-7e2e-11e3-935e-0026552be7ea', features=DenseVector([45.0, 33.0, 6.0]), prediction=13)]"
      ]
     },
     "execution_count": 41,
     "metadata": {},
     "output_type": "execute_result"
    }
   ],
   "source": [
    "final_model = models[ks.index(final_k)]\n",
    "\n",
    "#.predict([51, 17, 1.1])\n",
    "\n",
    "final_model.summary.predictions.head(10)"
   ]
  },
  {
   "cell_type": "code",
   "execution_count": 42,
   "metadata": {
    "collapsed": false
   },
   "outputs": [],
   "source": [
    "sizes = (final_model.summary.predictions\n",
    "         .groupBy(col(\"prediction\"))\n",
    "         .count()\n",
    "         .orderBy(col(\"prediction\"))\n",
    "         .toPandas()\n",
    "         )\n",
    "\n",
    "max_size = 1000\n",
    "sizes[\"scaled\"] = (sizes[\"count\"] / sizes[\"count\"].max() ) * max_size"
   ]
  },
  {
   "cell_type": "code",
   "execution_count": 43,
   "metadata": {
    "collapsed": false
   },
   "outputs": [
    {
     "data": {
      "text/html": [
       "<div>\n",
       "<table border=\"1\" class=\"dataframe\">\n",
       "  <thead>\n",
       "    <tr style=\"text-align: right;\">\n",
       "      <th></th>\n",
       "      <th>prediction</th>\n",
       "      <th>count</th>\n",
       "      <th>scaled</th>\n",
       "    </tr>\n",
       "  </thead>\n",
       "  <tbody>\n",
       "    <tr>\n",
       "      <th>0</th>\n",
       "      <td>0</td>\n",
       "      <td>34001812</td>\n",
       "      <td>1000.000000</td>\n",
       "    </tr>\n",
       "    <tr>\n",
       "      <th>1</th>\n",
       "      <td>1</td>\n",
       "      <td>6972256</td>\n",
       "      <td>205.055425</td>\n",
       "    </tr>\n",
       "    <tr>\n",
       "      <th>2</th>\n",
       "      <td>2</td>\n",
       "      <td>9066940</td>\n",
       "      <td>266.660494</td>\n",
       "    </tr>\n",
       "    <tr>\n",
       "      <th>3</th>\n",
       "      <td>3</td>\n",
       "      <td>8206210</td>\n",
       "      <td>241.346255</td>\n",
       "    </tr>\n",
       "    <tr>\n",
       "      <th>4</th>\n",
       "      <td>4</td>\n",
       "      <td>719122</td>\n",
       "      <td>21.149520</td>\n",
       "    </tr>\n",
       "    <tr>\n",
       "      <th>5</th>\n",
       "      <td>5</td>\n",
       "      <td>7541086</td>\n",
       "      <td>221.784827</td>\n",
       "    </tr>\n",
       "    <tr>\n",
       "      <th>6</th>\n",
       "      <td>6</td>\n",
       "      <td>4136471</td>\n",
       "      <td>121.654428</td>\n",
       "    </tr>\n",
       "    <tr>\n",
       "      <th>7</th>\n",
       "      <td>7</td>\n",
       "      <td>1444498</td>\n",
       "      <td>42.482971</td>\n",
       "    </tr>\n",
       "    <tr>\n",
       "      <th>8</th>\n",
       "      <td>8</td>\n",
       "      <td>8002105</td>\n",
       "      <td>235.343487</td>\n",
       "    </tr>\n",
       "    <tr>\n",
       "      <th>9</th>\n",
       "      <td>9</td>\n",
       "      <td>519506</td>\n",
       "      <td>15.278774</td>\n",
       "    </tr>\n",
       "  </tbody>\n",
       "</table>\n",
       "</div>"
      ],
      "text/plain": [
       "   prediction     count       scaled\n",
       "0           0  34001812  1000.000000\n",
       "1           1   6972256   205.055425\n",
       "2           2   9066940   266.660494\n",
       "3           3   8206210   241.346255\n",
       "4           4    719122    21.149520\n",
       "5           5   7541086   221.784827\n",
       "6           6   4136471   121.654428\n",
       "7           7   1444498    42.482971\n",
       "8           8   8002105   235.343487\n",
       "9           9    519506    15.278774"
      ]
     },
     "execution_count": 43,
     "metadata": {},
     "output_type": "execute_result"
    }
   ],
   "source": [
    "sizes.head(10)"
   ]
  },
  {
   "cell_type": "code",
   "execution_count": 44,
   "metadata": {
    "collapsed": false
   },
   "outputs": [
    {
     "data": {
      "text/plain": [
       "<matplotlib.text.Text at 0x7f4eb15b4748>"
      ]
     },
     "execution_count": 44,
     "metadata": {},
     "output_type": "execute_result"
    },
    {
     "data": {
      "image/png": "[encoded data removed]",
      "text/plain": [
       "<matplotlib.figure.Figure at 0x7f4eb15ac240>"
      ]
     },
     "metadata": {},
     "output_type": "display_data"
    }
   ],
   "source": [
    "\n",
    "fig = plt.figure()\n",
    "ax = fig.add_subplot(111, projection='3d')\n",
    "ax.scatter(xs=centers_df[0], ys=centers_df[1], zs=centers_df[2], s=sizes[\"scaled\"])\n",
    "\n",
    "plt.title(\"Relative Cluster Sizes of Occurrence IDs in iDigBio\")\n",
    "plt.xlabel(\"Length\")\n",
    "plt.ylabel(\"Hex Characters\")\n",
    "ax.set_zlabel(\"Special Characters\")"
   ]
  },
  {
   "cell_type": "markdown",
   "metadata": {},
   "source": [
    "lets take a look at a sampling of these clusters"
   ]
  },
  {
   "cell_type": "code",
   "execution_count": 46,
   "metadata": {
    "collapsed": false
   },
   "outputs": [
    {
     "name": "stdout",
     "output_type": "stream",
     "text": [
      "Cluster 0\n",
      "                           occurrenceid\n",
      "0  ab4b824f-cb32-4870-85a1-cfba5863f181\n",
      "1  c45321af-1b2d-4a6b-86db-10c0caf9e5a7\n",
      "2  c2d06f51-8ffc-482a-b0fe-eb83886fad05\n",
      "3  d13e61da-1c73-4c69-93d4-9a8853b26052\n",
      "4  500dd1ae-b7f3-4256-9f5e-5f2b465c80b7\n",
      "Cluster 1\n",
      "                                        occurrenceid\n",
      "0  http://n2t.net/ark:/65665/3260ff981-245b-4289-...\n",
      "1  http://n2t.net/ark:/65665/32610ab90-905d-43ce-...\n",
      "2  http://n2t.net/ark:/65665/32610b145-58a0-4015-...\n",
      "3  http://n2t.net/ark:/65665/32610b21c-1f1b-408c-...\n",
      "4  http://n2t.net/ark:/65665/32610e9e1-c9c3-4180-...\n",
      "Cluster 2\n",
      "                 occurrenceid\n",
      "0  urn:catalog:cas:bot:476352\n",
      "1   urn:catalog:cas:ds:371295\n",
      "2  urn:catalog:cas:bot:573557\n",
      "3  urn:catalog:cas:bot:759879\n",
      "4  urn:catalog:cas:bot:900371\n",
      "Cluster 3\n",
      "                   occurrenceid\n",
      "0  urn:catalog:zmbn:ent:c-18558\n",
      "1  urn:catalog:zmbn:ent:c-18562\n",
      "2  urn:catalog:zmbn:ent:c-18568\n",
      "3  urn:catalog:zmbn:ent:c-18583\n",
      "4  urn:catalog:zmbn:ent:c-18585\n"
     ]
    }
   ],
   "source": [
    "for i in [0, 1, 2, 3]:\n",
    "    print(\"Cluster {0}\".format(i))\n",
    "    print(final_model.summary.predictions\n",
    "     .filter(col(\"prediction\") == i)\n",
    "     .select(col(\"occurrenceid\"))\n",
    "     .limit(5)\n",
    "     .toPandas()\n",
    "     )"
   ]
  }
 ],
 "metadata": {
  "kernelspec": {
   "display_name": "3 - PySpark Python3 Medium",
   "language": "python",
   "name": "pyspark3-med"
  },
  "language_info": {
   "codemirror_mode": {
    "name": "ipython",
    "version": 3
   },
   "file_extension": ".py",
   "mimetype": "text/x-python",
   "name": "python",
   "nbconvert_exporter": "python",
   "pygments_lexer": "ipython3",
   "version": "3.5.2"
  }
 },
 "nbformat": 4,
 "nbformat_minor": 1
}

{
 "cells": [
  {
   "cell_type": "code",
   "execution_count": 1,
   "metadata": {
    "collapsed": true
   },
   "outputs": [],
   "source": [
    "df = (sqlContext.read.load(\"/guoda/data/idigbio-20170607T183747-1M.parquet\")\n",
    "    )"
   ]
  },
  {
   "cell_type": "markdown",
   "metadata": {},
   "source": [
    "Calculate features"
   ]
  },
  {
   "cell_type": "code",
   "execution_count": 2,
   "metadata": {
    "collapsed": false
   },
   "outputs": [],
   "source": [
    "from pyspark.ml.linalg import Vectors, VectorUDT\n",
    "\n",
    "#data = [(Vectors.dense([0.0, 0.0]),), (Vectors.dense([1.0, 1.0]),),\n",
    "#       (Vectors.dense([9.0, 8.0]),), (Vectors.dense([8.0, 9.0]),)]\n",
    "#print(spark.createDataFrame(data, [\"features\"]).head(10))"
   ]
  },
  {
   "cell_type": "code",
   "execution_count": 13,
   "metadata": {
    "collapsed": false
   },
   "outputs": [],
   "source": [
    "from pyspark.sql.functions import col, length, udf\n",
    "import re\n",
    "\n",
    "hex_chars = re.compile(r'[0-9a-fA-F]')\n",
    "special_chars = re.compile(r'[\\:\\\\\\-_ ]')\n",
    "\n",
    "def make_features(occurrenceid):\n",
    "    return Vectors.dense(\n",
    "        len(occurrenceid),\n",
    "        len(re.findall(hex_chars, occurrenceid)),\n",
    "        len(re.findall(special_chars, occurrenceid))\n",
    "    )\n",
    "    #return [float(len(occurrenceid)), 5.0]\n",
    "\n",
    "make_features_udf = udf(make_features, VectorUDT())\n",
    "    \n",
    "# length(col(\"occurrenceid\")\n",
    "features = (df\n",
    "            .select(col(\"occurrenceid\"),\n",
    "                make_features_udf(col(\"occurrenceid\")).alias(\"features\"))\n",
    "            .persist()\n",
    "            )\n",
    "\n",
    "#features = df.rdd.map(lambda x: Vectors.dense(len(x[\"occurrenceid\"])))"
   ]
  },
  {
   "cell_type": "code",
   "execution_count": 14,
   "metadata": {
    "collapsed": false
   },
   "outputs": [
    {
     "data": {
      "text/plain": [
       "[Row(occurrenceid='urn:uuid:856b9c56-d8e1-11e2-99a2-0026552be7ea', features=DenseVector([45.0, 33.0, 6.0])),\n",
       " Row(occurrenceid='urn:uuid:83a78218-d8e1-11e2-99a2-0026552be7ea', features=DenseVector([45.0, 33.0, 6.0])),\n",
       " Row(occurrenceid='urn:uuid:841d3b34-d8e1-11e2-99a2-0026552be7ea', features=DenseVector([45.0, 33.0, 6.0])),\n",
       " Row(occurrenceid='urn:uuid:871242ee-d8e1-11e2-99a2-0026552be7ea', features=DenseVector([45.0, 33.0, 6.0])),\n",
       " Row(occurrenceid='urn:uuid:863e9d4a-d8e1-11e2-99a2-0026552be7ea', features=DenseVector([45.0, 33.0, 6.0])),\n",
       " Row(occurrenceid='urn:uuid:cb6a253a-003f-11e3-8e88-0026552be7ea', features=DenseVector([45.0, 33.0, 6.0])),\n",
       " Row(occurrenceid='urn:uuid:82cc4888-d8e1-11e2-99a2-0026552be7ea', features=DenseVector([45.0, 33.0, 6.0])),\n",
       " Row(occurrenceid='urn:uuid:84be62b6-d8e1-11e2-99a2-0026552be7ea', features=DenseVector([45.0, 33.0, 6.0])),\n",
       " Row(occurrenceid='urn:uuid:8517336e-d8e1-11e2-99a2-0026552be7ea', features=DenseVector([45.0, 33.0, 6.0])),\n",
       " Row(occurrenceid='urn:uuid:857c3020-d8e1-11e2-99a2-0026552be7ea', features=DenseVector([45.0, 33.0, 6.0]))]"
      ]
     },
     "execution_count": 14,
     "metadata": {},
     "output_type": "execute_result"
    }
   ],
   "source": [
    "features.head(10)"
   ]
  },
  {
   "cell_type": "code",
   "execution_count": 5,
   "metadata": {
    "collapsed": false
   },
   "outputs": [],
   "source": [
    "from pyspark.ml.clustering import KMeans\n",
    "\n",
    "kmeans = KMeans(k=4, seed=1)\n",
    "model = kmeans.fit(features)"
   ]
  },
  {
   "cell_type": "code",
   "execution_count": null,
   "metadata": {
    "collapsed": true
   },
   "outputs": [],
   "source": []
  },
  {
   "cell_type": "code",
   "execution_count": null,
   "metadata": {
    "collapsed": true
   },
   "outputs": [],
   "source": []
  },
  {
   "cell_type": "code",
   "execution_count": null,
   "metadata": {
    "collapsed": true
   },
   "outputs": [],
   "source": []
  },
  {
   "cell_type": "code",
   "execution_count": 6,
   "metadata": {
    "collapsed": false
   },
   "outputs": [
    {
     "name": "stdout",
     "output_type": "stream",
     "text": [
      "[array([ 51.26455571,  17.20590738,   1.19892206]), array([ 25.25105314,   9.94661374,   4.14829067]), array([ 43.88753181,  32.88285472,   5.75116927]), array([ 12.73601369,   8.24037639,   0.87339607])]\n"
     ]
    }
   ],
   "source": [
    "centers = model.clusterCenters()\n",
    "print(centers)"
   ]
  },
  {
   "cell_type": "code",
   "execution_count": 10,
   "metadata": {
    "collapsed": false
   },
   "outputs": [
    {
     "data": {
      "text/html": [
       "<div>\n",
       "<table border=\"1\" class=\"dataframe\">\n",
       "  <thead>\n",
       "    <tr style=\"text-align: right;\">\n",
       "      <th></th>\n",
       "      <th>0</th>\n",
       "      <th>1</th>\n",
       "      <th>2</th>\n",
       "    </tr>\n",
       "  </thead>\n",
       "  <tbody>\n",
       "    <tr>\n",
       "      <th>0</th>\n",
       "      <td>51.264556</td>\n",
       "      <td>17.205907</td>\n",
       "      <td>1.198922</td>\n",
       "    </tr>\n",
       "    <tr>\n",
       "      <th>1</th>\n",
       "      <td>25.251053</td>\n",
       "      <td>9.946614</td>\n",
       "      <td>4.148291</td>\n",
       "    </tr>\n",
       "    <tr>\n",
       "      <th>2</th>\n",
       "      <td>43.887532</td>\n",
       "      <td>32.882855</td>\n",
       "      <td>5.751169</td>\n",
       "    </tr>\n",
       "    <tr>\n",
       "      <th>3</th>\n",
       "      <td>12.736014</td>\n",
       "      <td>8.240376</td>\n",
       "      <td>0.873396</td>\n",
       "    </tr>\n",
       "  </tbody>\n",
       "</table>\n",
       "</div>"
      ],
      "text/plain": [
       "           0          1         2\n",
       "0  51.264556  17.205907  1.198922\n",
       "1  25.251053   9.946614  4.148291\n",
       "2  43.887532  32.882855  5.751169\n",
       "3  12.736014   8.240376  0.873396"
      ]
     },
     "execution_count": 10,
     "metadata": {},
     "output_type": "execute_result"
    }
   ],
   "source": [
    "import pandas as pd\n",
    "centers_df = pd.DataFrame(centers)\n",
    "centers_df"
   ]
  },
  {
   "cell_type": "code",
   "execution_count": null,
   "metadata": {
    "collapsed": true
   },
   "outputs": [],
   "source": [
    "# graph centers"
   ]
  },
  {
   "cell_type": "code",
   "execution_count": null,
   "metadata": {
    "collapsed": true
   },
   "outputs": [],
   "source": [
    "# what are the most important axes? pca"
   ]
  },
  {
   "cell_type": "code",
   "execution_count": null,
   "metadata": {
    "collapsed": true
   },
   "outputs": [],
   "source": [
    "# select those dimensions from graph centers and plot in 2 dimensions"
   ]
  },
  {
   "cell_type": "markdown",
   "metadata": {},
   "source": [
    "That's cool, how do we know 4 is a good k?"
   ]
  },
  {
   "cell_type": "code",
   "execution_count": 62,
   "metadata": {
    "collapsed": false
   },
   "outputs": [],
   "source": [
    "# parallel arrays for the win\n",
    "ks = []\n",
    "models = []\n",
    "centers = []\n",
    "costs = []\n",
    "\n",
    "for i in range(5, 21):\n",
    "    kmeans = KMeans(k=i, seed=1)\n",
    "    model = kmeans.fit(features)\n",
    "    ks.append(i)\n",
    "    models.append(model)\n",
    "    centers.append(model.clusterCenters())\n",
    "    costs.append(model.computeCost(features))\n",
    "\n"
   ]
  },
  {
   "cell_type": "code",
   "execution_count": null,
   "metadata": {
    "collapsed": true
   },
   "outputs": [],
   "source": [
    "# predict as a UDF to run on all data to find examples of things in the clusters"
   ]
  },
  {
   "cell_type": "code",
   "execution_count": 60,
   "metadata": {
    "collapsed": false
   },
   "outputs": [
    {
     "name": "stdout",
     "output_type": "stream",
     "text": [
      "[478134.4818440371, 396891.6318830741, 212132.97895124086, 180022.46220084443, 146277.97113583615, 125794.83001545875, 124069.20752218677, 98241.41719851004, 96300.72588614676, 96300.72588614676, 64801.92774630434, 58450.79080184875, 56725.17823214374, 62447.164582512865, 66363.23671686856]\n"
     ]
    }
   ],
   "source": [
    "#print(models)\n",
    "print(costs)"
   ]
  },
  {
   "cell_type": "code",
   "execution_count": 63,
   "metadata": {
    "collapsed": false
   },
   "outputs": [
    {
     "data": {
      "text/plain": [
       "[<matplotlib.lines.Line2D at 0x7fbe7bba4278>]"
      ]
     },
     "execution_count": 63,
     "metadata": {},
     "output_type": "execute_result"
    },
    {
     "data": {
      "image/png": "[encoded data removed]",
      "text/plain": [
       "<matplotlib.figure.Figure at 0x7fbe7bde8710>"
      ]
     },
     "metadata": {},
     "output_type": "display_data"
    }
   ],
   "source": [
    "plt.plot(ks, costs)"
   ]
  },
  {
   "cell_type": "code",
   "execution_count": 103,
   "metadata": {
    "collapsed": true
   },
   "outputs": [],
   "source": [
    "final_k = 15"
   ]
  },
  {
   "cell_type": "code",
   "execution_count": 104,
   "metadata": {
    "collapsed": false
   },
   "outputs": [
    {
     "data": {
      "text/html": [
       "<div>\n",
       "<table border=\"1\" class=\"dataframe\">\n",
       "  <thead>\n",
       "    <tr style=\"text-align: right;\">\n",
       "      <th></th>\n",
       "      <th>0</th>\n",
       "      <th>1</th>\n",
       "      <th>2</th>\n",
       "    </tr>\n",
       "  </thead>\n",
       "  <tbody>\n",
       "    <tr>\n",
       "      <th>0</th>\n",
       "      <td>50.935868</td>\n",
       "      <td>16.926079</td>\n",
       "      <td>1.031349</td>\n",
       "    </tr>\n",
       "    <tr>\n",
       "      <th>1</th>\n",
       "      <td>24.399227</td>\n",
       "      <td>9.272392</td>\n",
       "      <td>4.005010</td>\n",
       "    </tr>\n",
       "    <tr>\n",
       "      <th>2</th>\n",
       "      <td>45.008303</td>\n",
       "      <td>33.008303</td>\n",
       "      <td>6.000000</td>\n",
       "    </tr>\n",
       "    <tr>\n",
       "      <th>3</th>\n",
       "      <td>36.000000</td>\n",
       "      <td>32.000000</td>\n",
       "      <td>4.000000</td>\n",
       "    </tr>\n",
       "    <tr>\n",
       "      <th>4</th>\n",
       "      <td>14.997839</td>\n",
       "      <td>8.996111</td>\n",
       "      <td>1.003889</td>\n",
       "    </tr>\n",
       "    <tr>\n",
       "      <th>5</th>\n",
       "      <td>17.000000</td>\n",
       "      <td>10.274566</td>\n",
       "      <td>1.000000</td>\n",
       "    </tr>\n",
       "    <tr>\n",
       "      <th>6</th>\n",
       "      <td>31.204960</td>\n",
       "      <td>16.142232</td>\n",
       "      <td>4.000000</td>\n",
       "    </tr>\n",
       "    <tr>\n",
       "      <th>7</th>\n",
       "      <td>30.180260</td>\n",
       "      <td>10.468423</td>\n",
       "      <td>4.999365</td>\n",
       "    </tr>\n",
       "    <tr>\n",
       "      <th>8</th>\n",
       "      <td>22.228219</td>\n",
       "      <td>8.916049</td>\n",
       "      <td>4.000000</td>\n",
       "    </tr>\n",
       "    <tr>\n",
       "      <th>9</th>\n",
       "      <td>58.841398</td>\n",
       "      <td>21.053763</td>\n",
       "      <td>5.451613</td>\n",
       "    </tr>\n",
       "    <tr>\n",
       "      <th>10</th>\n",
       "      <td>7.000000</td>\n",
       "      <td>7.000000</td>\n",
       "      <td>0.000000</td>\n",
       "    </tr>\n",
       "    <tr>\n",
       "      <th>11</th>\n",
       "      <td>52.468636</td>\n",
       "      <td>18.465488</td>\n",
       "      <td>1.777670</td>\n",
       "    </tr>\n",
       "    <tr>\n",
       "      <th>12</th>\n",
       "      <td>12.158890</td>\n",
       "      <td>5.984868</td>\n",
       "      <td>2.001261</td>\n",
       "    </tr>\n",
       "    <tr>\n",
       "      <th>13</th>\n",
       "      <td>17.672727</td>\n",
       "      <td>7.600000</td>\n",
       "      <td>3.072727</td>\n",
       "    </tr>\n",
       "    <tr>\n",
       "      <th>14</th>\n",
       "      <td>26.262837</td>\n",
       "      <td>11.034018</td>\n",
       "      <td>4.146021</td>\n",
       "    </tr>\n",
       "  </tbody>\n",
       "</table>\n",
       "</div>"
      ],
      "text/plain": [
       "            0          1         2\n",
       "0   50.935868  16.926079  1.031349\n",
       "1   24.399227   9.272392  4.005010\n",
       "2   45.008303  33.008303  6.000000\n",
       "3   36.000000  32.000000  4.000000\n",
       "4   14.997839   8.996111  1.003889\n",
       "5   17.000000  10.274566  1.000000\n",
       "6   31.204960  16.142232  4.000000\n",
       "7   30.180260  10.468423  4.999365\n",
       "8   22.228219   8.916049  4.000000\n",
       "9   58.841398  21.053763  5.451613\n",
       "10   7.000000   7.000000  0.000000\n",
       "11  52.468636  18.465488  1.777670\n",
       "12  12.158890   5.984868  2.001261\n",
       "13  17.672727   7.600000  3.072727\n",
       "14  26.262837  11.034018  4.146021"
      ]
     },
     "execution_count": 104,
     "metadata": {},
     "output_type": "execute_result"
    }
   ],
   "source": [
    "centers_df = pd.DataFrame(centers[ks.index(final_k)])\n",
    "centers_df"
   ]
  },
  {
   "cell_type": "markdown",
   "metadata": {},
   "source": [
    "Need to count number of records for each cluster"
   ]
  },
  {
   "cell_type": "code",
   "execution_count": 105,
   "metadata": {
    "collapsed": false
   },
   "outputs": [
    {
     "data": {
      "text/plain": [
       "[Row(occurrenceid='urn:uuid:856b9c56-d8e1-11e2-99a2-0026552be7ea', features=DenseVector([45.0, 33.0, 6.0]), prediction=2),\n",
       " Row(occurrenceid='urn:uuid:83a78218-d8e1-11e2-99a2-0026552be7ea', features=DenseVector([45.0, 33.0, 6.0]), prediction=2),\n",
       " Row(occurrenceid='urn:uuid:841d3b34-d8e1-11e2-99a2-0026552be7ea', features=DenseVector([45.0, 33.0, 6.0]), prediction=2),\n",
       " Row(occurrenceid='urn:uuid:871242ee-d8e1-11e2-99a2-0026552be7ea', features=DenseVector([45.0, 33.0, 6.0]), prediction=2),\n",
       " Row(occurrenceid='urn:uuid:863e9d4a-d8e1-11e2-99a2-0026552be7ea', features=DenseVector([45.0, 33.0, 6.0]), prediction=2),\n",
       " Row(occurrenceid='urn:uuid:cb6a253a-003f-11e3-8e88-0026552be7ea', features=DenseVector([45.0, 33.0, 6.0]), prediction=2),\n",
       " Row(occurrenceid='urn:uuid:82cc4888-d8e1-11e2-99a2-0026552be7ea', features=DenseVector([45.0, 33.0, 6.0]), prediction=2),\n",
       " Row(occurrenceid='urn:uuid:84be62b6-d8e1-11e2-99a2-0026552be7ea', features=DenseVector([45.0, 33.0, 6.0]), prediction=2),\n",
       " Row(occurrenceid='urn:uuid:8517336e-d8e1-11e2-99a2-0026552be7ea', features=DenseVector([45.0, 33.0, 6.0]), prediction=2),\n",
       " Row(occurrenceid='urn:uuid:857c3020-d8e1-11e2-99a2-0026552be7ea', features=DenseVector([45.0, 33.0, 6.0]), prediction=2)]"
      ]
     },
     "execution_count": 105,
     "metadata": {},
     "output_type": "execute_result"
    }
   ],
   "source": [
    "final_model = models[ks.index(final_k)]\n",
    "\n",
    "#.predict([51, 17, 1.1])\n",
    "\n",
    "final_model.summary.predictions.head(10)"
   ]
  },
  {
   "cell_type": "code",
   "execution_count": 109,
   "metadata": {
    "collapsed": false
   },
   "outputs": [],
   "source": [
    "sizes = (final_model.summary.predictions\n",
    "         .groupBy(col(\"prediction\"))\n",
    "         .count()\n",
    "         .orderBy(col(\"prediction\"))\n",
    "         .toPandas()\n",
    "         )\n",
    "\n",
    "max_size = 1000\n",
    "sizes[\"scaled\"] = (sizes[\"count\"] / sizes[\"count\"].max() ) * max_size"
   ]
  },
  {
   "cell_type": "code",
   "execution_count": 110,
   "metadata": {
    "collapsed": false
   },
   "outputs": [
    {
     "data": {
      "text/html": [
       "<div>\n",
       "<table border=\"1\" class=\"dataframe\">\n",
       "  <thead>\n",
       "    <tr style=\"text-align: right;\">\n",
       "      <th></th>\n",
       "      <th>prediction</th>\n",
       "      <th>count</th>\n",
       "      <th>scaled</th>\n",
       "    </tr>\n",
       "  </thead>\n",
       "  <tbody>\n",
       "    <tr>\n",
       "      <th>0</th>\n",
       "      <td>0</td>\n",
       "      <td>23701</td>\n",
       "      <td>655.974094</td>\n",
       "    </tr>\n",
       "    <tr>\n",
       "      <th>1</th>\n",
       "      <td>1</td>\n",
       "      <td>11377</td>\n",
       "      <td>314.881957</td>\n",
       "    </tr>\n",
       "    <tr>\n",
       "      <th>2</th>\n",
       "      <td>2</td>\n",
       "      <td>36131</td>\n",
       "      <td>1000.000000</td>\n",
       "    </tr>\n",
       "    <tr>\n",
       "      <th>3</th>\n",
       "      <td>3</td>\n",
       "      <td>5134</td>\n",
       "      <td>142.094047</td>\n",
       "    </tr>\n",
       "    <tr>\n",
       "      <th>4</th>\n",
       "      <td>4</td>\n",
       "      <td>2314</td>\n",
       "      <td>64.044726</td>\n",
       "    </tr>\n",
       "    <tr>\n",
       "      <th>5</th>\n",
       "      <td>5</td>\n",
       "      <td>1038</td>\n",
       "      <td>28.728792</td>\n",
       "    </tr>\n",
       "    <tr>\n",
       "      <th>6</th>\n",
       "      <td>6</td>\n",
       "      <td>1371</td>\n",
       "      <td>37.945255</td>\n",
       "    </tr>\n",
       "    <tr>\n",
       "      <th>7</th>\n",
       "      <td>7</td>\n",
       "      <td>3151</td>\n",
       "      <td>87.210429</td>\n",
       "    </tr>\n",
       "    <tr>\n",
       "      <th>8</th>\n",
       "      <td>8</td>\n",
       "      <td>5670</td>\n",
       "      <td>156.928953</td>\n",
       "    </tr>\n",
       "    <tr>\n",
       "      <th>9</th>\n",
       "      <td>9</td>\n",
       "      <td>372</td>\n",
       "      <td>10.295868</td>\n",
       "    </tr>\n",
       "  </tbody>\n",
       "</table>\n",
       "</div>"
      ],
      "text/plain": [
       "   prediction  count       scaled\n",
       "0           0  23701   655.974094\n",
       "1           1  11377   314.881957\n",
       "2           2  36131  1000.000000\n",
       "3           3   5134   142.094047\n",
       "4           4   2314    64.044726\n",
       "5           5   1038    28.728792\n",
       "6           6   1371    37.945255\n",
       "7           7   3151    87.210429\n",
       "8           8   5670   156.928953\n",
       "9           9    372    10.295868"
      ]
     },
     "execution_count": 110,
     "metadata": {},
     "output_type": "execute_result"
    }
   ],
   "source": [
    "sizes.head(10)"
   ]
  },
  {
   "cell_type": "code",
   "execution_count": 115,
   "metadata": {
    "collapsed": false
   },
   "outputs": [
    {
     "data": {
      "text/plain": [
       "<matplotlib.text.Text at 0x7fbe79e2e278>"
      ]
     },
     "execution_count": 115,
     "metadata": {},
     "output_type": "execute_result"
    },
    {
     "data": {
      "image/png": "[encoded data removed]",
      "text/plain": [
       "<matplotlib.figure.Figure at 0x7fbe79e18c88>"
      ]
     },
     "metadata": {},
     "output_type": "display_data"
    }
   ],
   "source": [
    "%matplotlib inline\n",
    "import matplotlib.pyplot as plt\n",
    "from mpl_toolkits.mplot3d import Axes3D\n",
    "fig = plt.figure()\n",
    "ax = fig.add_subplot(111, projection='3d')\n",
    "ax.scatter(xs=centers_df[0], ys=centers_df[1], zs=centers_df[2], s=sizes[\"scaled\"])\n",
    "\n",
    "plt.title(\"Relative Cluster Sizes of Occurrence IDs in iDigBio\")\n",
    "plt.xlabel(\"Length\")\n",
    "plt.ylabel(\"Hex Characters\")\n",
    "ax.set_zlabel(\"Special Characters\")"
   ]
  },
  {
   "cell_type": "markdown",
   "metadata": {},
   "source": [
    "lets take a look at a sampling of these clusters"
   ]
  },
  {
   "cell_type": "code",
   "execution_count": 122,
   "metadata": {
    "collapsed": false
   },
   "outputs": [
    {
     "name": "stdout",
     "output_type": "stream",
     "text": [
      "Cluster 0\n",
      "   prediction                                       occurrenceid\n",
      "0           0   http://coldb.mnhn.fr/catalognumber/mnhn/ey/ey241\n",
      "1           0  http://coldb.mnhn.fr/catalognumber/mnhn/ey/ey6475\n",
      "2           0  http://coldb.mnhn.fr/catalognumber/mnhn/ey/ey9659\n",
      "3           0  http://coldb.mnhn.fr/catalognumber/mnhn/ey/ey9618\n",
      "4           0  http://coldb.mnhn.fr/catalognumber/mnhn/ey/ey8863\n",
      "Cluster 1\n",
      "   prediction               occurrenceid\n",
      "0           1  urn:catalog:trom:v:961366\n",
      "1           1   urn:catalog:cas:ds:84042\n",
      "2           1   urn:catalog:cas:ds:68327\n",
      "3           1   urn:catalog:cas:ds:40983\n",
      "4           1   urn:catalog:cas:ds:45273\n",
      "Cluster 2\n",
      "   prediction                                   occurrenceid\n",
      "0           2  urn:uuid:856b9c56-d8e1-11e2-99a2-0026552be7ea\n",
      "1           2  urn:uuid:83a78218-d8e1-11e2-99a2-0026552be7ea\n",
      "2           2  urn:uuid:841d3b34-d8e1-11e2-99a2-0026552be7ea\n",
      "3           2  urn:uuid:871242ee-d8e1-11e2-99a2-0026552be7ea\n",
      "4           2  urn:uuid:863e9d4a-d8e1-11e2-99a2-0026552be7ea\n",
      "Cluster 3\n",
      "   prediction                          occurrenceid\n",
      "0           3  18ed8d3e-c9c3-4224-853b-9a4d055ced87\n",
      "1           3  9e7021b7-a4e4-4d27-8f88-0b4dd3b7d880\n",
      "2           3  756a4299-96e3-4bb7-9160-5b35b49fcde8\n",
      "3           3  93f4f870-7d84-4dc3-a287-a08958492a47\n",
      "4           3  eef50af0-3220-444b-bc62-661549b8260c\n"
     ]
    }
   ],
   "source": [
    "for i in [0, 1, 2, 3]:\n",
    "    print(\"Cluster {0}\".format(i))\n",
    "    print(final_model.summary.predictions\n",
    "     .filter(col(\"prediction\") == i)\n",
    "     .select(col(\"prediction\"), col(\"occurrenceid\"))\n",
    "     .limit(5)\n",
    "     .toPandas()\n",
    "     )"
   ]
  }
 ],
 "metadata": {
  "kernelspec": {
   "display_name": "3 - PySpark Python3 Medium",
   "language": "python",
   "name": "pyspark3-med"
  },
  "language_info": {
   "codemirror_mode": {
    "name": "ipython",
    "version": 3
   },
   "file_extension": ".py",
   "mimetype": "text/x-python",
   "name": "python",
   "nbconvert_exporter": "python",
   "pygments_lexer": "ipython3",
   "version": "3.5.2"
  }
 },
 "nbformat": 4,
 "nbformat_minor": 1
}

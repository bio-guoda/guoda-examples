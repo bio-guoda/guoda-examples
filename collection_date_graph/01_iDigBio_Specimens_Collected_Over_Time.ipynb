{
 "cells": [
  {
   "cell_type": "markdown",
   "metadata": {},
   "source": [
    "# Graph of iDigBio Specimens over Time\n",
    "\n",
    "This notebook introduces the basics of loading and analyzing iDigBio data on the [GUODA](http://guoda.bio/) infrastructure hosted by the [ACIS Lab](https://www.acis.ufl.edu/) and [iDigBio](https://www.idigbio.org/). This service is documented in the [GUODA Jupyter service wiki](https://github.com/bio-guoda/guoda-services/wiki/Jupyter-Notebooks) on Github.\n",
    "\n",
    "As an example, we will create a graph that shows how many specimens in iDigBio were collected during each the past 200 years. The data for this graph is a random sample of 100,000 records from an export of the iDigBio. The field used to determine the year is the interpreted `datecollected` field that iDigBio populates based on Darwin Core terms like `dwc:year` and `dwc:eventDate`.\n",
    "\n",
    "If you are interested in the capabilities of GUODA, you may want to scroll to the end of this notebook to view the final graph. If you are interested in doing this work yourself, please keep reading."
   ]
  },
  {
   "cell_type": "markdown",
   "metadata": {},
   "source": [
    "## Set up\n",
    "\n",
    "In this document, narrative describing what the code is intended to do and observations about the results is written in [Markdown](https://daringfireball.net/projects/markdown/syntax) cells. Markdown is a simple wiki-style language that can be used for formating text. Comments about the actual code are written inside the code cells themselves and prefixed with \"#\" so the are not run.\n",
    "\n",
    "The code for this document is written in [Python](https://docs.python.org/3/tutorial/) and uses the [Apache Spark](https://spark.apache.org/) data analytics framework. The code written in this [Jupyter notebook](http://jupyter-notebook.readthedocs.io/en/latest/) is actually run on servers located at the ACIS lab. All of the needed libraries and Spark configuration are already done and there is nothing to install.\n",
    "\n",
    "It is customary to import libraries used and set configuration options at the top of scripts. In the next cell, we import and set up the Python packages needed by this notebook."
   ]
  },
  {
   "cell_type": "code",
   "execution_count": 1,
   "metadata": {
    "collapsed": true
   },
   "outputs": [],
   "source": [
    "# The Python Spark (pyspark) libraries include functions designed to be run on columns of data\n",
    "# stored in Spark data frames. They need to be imported in order to use them. Here we\n",
    "# are going to use \n",
    "from pyspark.sql.functions import year\n",
    "\n",
    "# The matplotlib package is used for graphing. The next line tells Jupyter that when a\n",
    "# graphing function is used, it should draw the graph here inline in the notebook.\n",
    "import matplotlib.pyplot as plt\n",
    "%matplotlib inline"
   ]
  },
  {
   "cell_type": "markdown",
   "metadata": {},
   "source": [
    "## Loading the data set\n",
    "\n",
    "Data in GUODA is stored on a clustered file system called [HDFS](https://hortonworks.com/apache/hdfs/). The Jupyter notebooks are all configured to read and write to HDFS automatically so all file paths are in the HDFS system.\n",
    "\n",
    "You can read more about working with files and how to see what data sets are availible on the Jupyter service wiki.\n",
    "\n",
    "This line will load the contents of the file that contains a 100,000 record sub-set of iDigBio into a Spark [data frame](https://github.com/mobileink/data.frame/wiki/What-is-a-Data-Frame%3F). Then we can look at how many records are in the data frame to confirm that we are working with the 100k subset."
   ]
  },
  {
   "cell_type": "code",
   "execution_count": 2,
   "metadata": {
    "collapsed": true
   },
   "outputs": [],
   "source": [
    "df = sqlContext.read.load(\"/guoda/data/idigbio-20170607T183747-100k.parquet\")"
   ]
  },
  {
   "cell_type": "code",
   "execution_count": 3,
   "metadata": {
    "collapsed": false
   },
   "outputs": [
    {
     "data": {
      "text/plain": [
       "100000"
      ]
     },
     "execution_count": 3,
     "metadata": {},
     "output_type": "execute_result"
    }
   ],
   "source": [
    "df.count()"
   ]
  },
  {
   "cell_type": "markdown",
   "metadata": {},
   "source": [
    "## Examining the data\n",
    "\n",
    "Now that the data is in memory, let's look at some of the methods availible to examine it before we move on to summarizing it. This will let you see how data is represented both in Spark and Python as well as what kind of data is availible in the iDigBio data frames."
   ]
  },
  {
   "cell_type": "markdown",
   "metadata": {},
   "source": [
    "### Data frame structure\n",
    "\n",
    "First we can look at the columns in the data frame. This is all of iDigBio so there are a lot of them. \n",
    "\n",
    "Also printed by Python is the data type for each column and if a column contains a nested structure (like the \"data\" structure which has the raw data originally sent to iDigBio) then it is indented."
   ]
  },
  {
   "cell_type": "code",
   "execution_count": 7,
   "metadata": {
    "collapsed": false,
    "scrolled": true
   },
   "outputs": [
    {
     "name": "stdout",
     "output_type": "stream",
     "text": [
      "root\n",
      " |-- barcodevalue: string (nullable = true)\n",
      " |-- basisofrecord: string (nullable = true)\n",
      " |-- bed: string (nullable = true)\n",
      " |-- canonicalname: string (nullable = true)\n",
      " |-- catalognumber: string (nullable = true)\n",
      " |-- class: string (nullable = true)\n",
      " |-- collectioncode: string (nullable = true)\n",
      " |-- collectionid: string (nullable = true)\n",
      " |-- collectionname: string (nullable = true)\n",
      " |-- collector: string (nullable = true)\n",
      " |-- commonname: string (nullable = true)\n",
      " |-- continent: string (nullable = true)\n",
      " |-- coordinateuncertainty: float (nullable = true)\n",
      " |-- country: string (nullable = true)\n",
      " |-- countrycode: string (nullable = true)\n",
      " |-- county: string (nullable = true)\n",
      " |-- data: struct (nullable = true)\n",
      " |    |-- coreid: string (nullable = true)\n",
      " |    |-- dc:rights: string (nullable = true)\n",
      " |    |-- dcterms:accessRights: string (nullable = true)\n",
      " |    |-- dcterms:bibliographicCitation: string (nullable = true)\n",
      " |    |-- dcterms:language: string (nullable = true)\n",
      " |    |-- dcterms:license: string (nullable = true)\n",
      " |    |-- dcterms:modified: string (nullable = true)\n",
      " |    |-- dcterms:references: string (nullable = true)\n",
      " |    |-- dcterms:rights: string (nullable = true)\n",
      " |    |-- dcterms:rightsHolder: string (nullable = true)\n",
      " |    |-- dcterms:source: string (nullable = true)\n",
      " |    |-- dcterms:type: string (nullable = true)\n",
      " |    |-- dwc:VerbatimEventDate: string (nullable = true)\n",
      " |    |-- dwc:acceptedNameUsage: string (nullable = true)\n",
      " |    |-- dwc:accessRights: string (nullable = true)\n",
      " |    |-- dwc:associatedMedia: string (nullable = true)\n",
      " |    |-- dwc:associatedOccurrences: string (nullable = true)\n",
      " |    |-- dwc:associatedReferences: string (nullable = true)\n",
      " |    |-- dwc:associatedSequences: string (nullable = true)\n",
      " |    |-- dwc:associatedTaxa: string (nullable = true)\n",
      " |    |-- dwc:basisOfRecord: string (nullable = true)\n",
      " |    |-- dwc:bed: string (nullable = true)\n",
      " |    |-- dwc:behavior: string (nullable = true)\n",
      " |    |-- dwc:catalogNumber: string (nullable = true)\n",
      " |    |-- dwc:class: string (nullable = true)\n",
      " |    |-- dwc:collectionCode: string (nullable = true)\n",
      " |    |-- dwc:collectionID: string (nullable = true)\n",
      " |    |-- dwc:continent: string (nullable = true)\n",
      " |    |-- dwc:coordinatePrecision: string (nullable = true)\n",
      " |    |-- dwc:coordinateUncertaintyInMeters: string (nullable = true)\n",
      " |    |-- dwc:country: string (nullable = true)\n",
      " |    |-- dwc:countryCode: string (nullable = true)\n",
      " |    |-- dwc:county: string (nullable = true)\n",
      " |    |-- dwc:dataGeneralizations: string (nullable = true)\n",
      " |    |-- dwc:datasetID: string (nullable = true)\n",
      " |    |-- dwc:datasetName: string (nullable = true)\n",
      " |    |-- dwc:dateIdentified: string (nullable = true)\n",
      " |    |-- dwc:day: string (nullable = true)\n",
      " |    |-- dwc:decimalLatitude: string (nullable = true)\n",
      " |    |-- dwc:decimalLongitude: string (nullable = true)\n",
      " |    |-- dwc:disposition: string (nullable = true)\n",
      " |    |-- dwc:dynamicProperties: string (nullable = true)\n",
      " |    |-- dwc:earliestAgeOrLowestStage: string (nullable = true)\n",
      " |    |-- dwc:earliestEonOrLowestEonothem: string (nullable = true)\n",
      " |    |-- dwc:earliestEpochOrLowestSeries: string (nullable = true)\n",
      " |    |-- dwc:earliestEraOrLowestErathem: string (nullable = true)\n",
      " |    |-- dwc:earliestPeriodOrLowestSystem: string (nullable = true)\n",
      " |    |-- dwc:endDayOfYear: string (nullable = true)\n",
      " |    |-- dwc:establishmentMeans: string (nullable = true)\n",
      " |    |-- dwc:eventDate: string (nullable = true)\n",
      " |    |-- dwc:eventID: string (nullable = true)\n",
      " |    |-- dwc:eventRemarks: string (nullable = true)\n",
      " |    |-- dwc:eventTime: string (nullable = true)\n",
      " |    |-- dwc:family: string (nullable = true)\n",
      " |    |-- dwc:fieldNotes: string (nullable = true)\n",
      " |    |-- dwc:fieldNumber: string (nullable = true)\n",
      " |    |-- dwc:footprintSRS: string (nullable = true)\n",
      " |    |-- dwc:footprintSpatialFit: string (nullable = true)\n",
      " |    |-- dwc:footprintWKT: string (nullable = true)\n",
      " |    |-- dwc:formation: string (nullable = true)\n",
      " |    |-- dwc:genus: string (nullable = true)\n",
      " |    |-- dwc:geodeticDatum: string (nullable = true)\n",
      " |    |-- dwc:geologicalContextID: string (nullable = true)\n",
      " |    |-- dwc:georeferenceProtocol: string (nullable = true)\n",
      " |    |-- dwc:georeferenceRemarks: string (nullable = true)\n",
      " |    |-- dwc:georeferenceSources: string (nullable = true)\n",
      " |    |-- dwc:georeferenceVerificationStatus: string (nullable = true)\n",
      " |    |-- dwc:georeferencedBy: string (nullable = true)\n",
      " |    |-- dwc:georeferencedDate: string (nullable = true)\n",
      " |    |-- dwc:group: string (nullable = true)\n",
      " |    |-- dwc:habitat: string (nullable = true)\n",
      " |    |-- dwc:higherClassification: string (nullable = true)\n",
      " |    |-- dwc:higherGeography: string (nullable = true)\n",
      " |    |-- dwc:higherGeographyID: string (nullable = true)\n",
      " |    |-- dwc:highestBiostratigraphicZone: string (nullable = true)\n",
      " |    |-- dwc:identificationID: string (nullable = true)\n",
      " |    |-- dwc:identificationQualifier: string (nullable = true)\n",
      " |    |-- dwc:identificationReferences: string (nullable = true)\n",
      " |    |-- dwc:identificationRemarks: string (nullable = true)\n",
      " |    |-- dwc:identificationVerificationStatus: string (nullable = true)\n",
      " |    |-- dwc:identifiedBy: string (nullable = true)\n",
      " |    |-- dwc:individualCount: string (nullable = true)\n",
      " |    |-- dwc:informationWithheld: string (nullable = true)\n",
      " |    |-- dwc:infraspecificEpithet: string (nullable = true)\n",
      " |    |-- dwc:institutionCode: string (nullable = true)\n",
      " |    |-- dwc:institutionID: string (nullable = true)\n",
      " |    |-- dwc:island: string (nullable = true)\n",
      " |    |-- dwc:islandGroup: string (nullable = true)\n",
      " |    |-- dwc:kingdom: string (nullable = true)\n",
      " |    |-- dwc:latestAgeOrHighestStage: string (nullable = true)\n",
      " |    |-- dwc:latestEonOrHighestEonothem: string (nullable = true)\n",
      " |    |-- dwc:latestEpochOrHighestSeries: string (nullable = true)\n",
      " |    |-- dwc:latestEraOrHighestErathem: string (nullable = true)\n",
      " |    |-- dwc:latestPeriodOrHighestSystem: string (nullable = true)\n",
      " |    |-- dwc:lifeStage: string (nullable = true)\n",
      " |    |-- dwc:lithostratigraphicTerms: string (nullable = true)\n",
      " |    |-- dwc:locality: string (nullable = true)\n",
      " |    |-- dwc:locationAccordingTo: string (nullable = true)\n",
      " |    |-- dwc:locationID: string (nullable = true)\n",
      " |    |-- dwc:locationRemarks: string (nullable = true)\n",
      " |    |-- dwc:lowestBiostratigraphicZone: string (nullable = true)\n",
      " |    |-- dwc:materialSampleID: string (nullable = true)\n",
      " |    |-- dwc:maximumDepthInMeters: string (nullable = true)\n",
      " |    |-- dwc:maximumElevationInMeters: string (nullable = true)\n",
      " |    |-- dwc:member: string (nullable = true)\n",
      " |    |-- dwc:minimumDepthInMeters: string (nullable = true)\n",
      " |    |-- dwc:minimumElevationInMeters: string (nullable = true)\n",
      " |    |-- dwc:month: string (nullable = true)\n",
      " |    |-- dwc:municipality: string (nullable = true)\n",
      " |    |-- dwc:nameAccordingTo: string (nullable = true)\n",
      " |    |-- dwc:nameAccordingToID: string (nullable = true)\n",
      " |    |-- dwc:namePublishedIn: string (nullable = true)\n",
      " |    |-- dwc:namePublishedInID: string (nullable = true)\n",
      " |    |-- dwc:namePublishedInYear: string (nullable = true)\n",
      " |    |-- dwc:nomenclaturalCode: string (nullable = true)\n",
      " |    |-- dwc:nomenclaturalStatus: string (nullable = true)\n",
      " |    |-- dwc:occurrenceDetails: string (nullable = true)\n",
      " |    |-- dwc:occurrenceID: string (nullable = true)\n",
      " |    |-- dwc:occurrenceRemarks: string (nullable = true)\n",
      " |    |-- dwc:occurrenceStatus: string (nullable = true)\n",
      " |    |-- dwc:order: string (nullable = true)\n",
      " |    |-- dwc:organismID: string (nullable = true)\n",
      " |    |-- dwc:organismName: string (nullable = true)\n",
      " |    |-- dwc:organismQuantity: string (nullable = true)\n",
      " |    |-- dwc:organismQuantityType: string (nullable = true)\n",
      " |    |-- dwc:originalNameUsage: string (nullable = true)\n",
      " |    |-- dwc:otherCatalogNumbers: string (nullable = true)\n",
      " |    |-- dwc:ownerInstitutionCode: string (nullable = true)\n",
      " |    |-- dwc:parentNameUsage: string (nullable = true)\n",
      " |    |-- dwc:phylum: string (nullable = true)\n",
      " |    |-- dwc:pointRadiusSpatialFit: string (nullable = true)\n",
      " |    |-- dwc:preparations: string (nullable = true)\n",
      " |    |-- dwc:previousIdentifications: string (nullable = true)\n",
      " |    |-- dwc:recordNumber: string (nullable = true)\n",
      " |    |-- dwc:recordedBy: string (nullable = true)\n",
      " |    |-- dwc:reproductiveCondition: string (nullable = true)\n",
      " |    |-- dwc:rights: string (nullable = true)\n",
      " |    |-- dwc:rightsHolder: string (nullable = true)\n",
      " |    |-- dwc:samplingEffort: string (nullable = true)\n",
      " |    |-- dwc:samplingProtocol: string (nullable = true)\n",
      " |    |-- dwc:scientificName: string (nullable = true)\n",
      " |    |-- dwc:scientificNameAuthorship: string (nullable = true)\n",
      " |    |-- dwc:scientificNameID: string (nullable = true)\n",
      " |    |-- dwc:sex: string (nullable = true)\n",
      " |    |-- dwc:specificEpithet: string (nullable = true)\n",
      " |    |-- dwc:startDayOfYear: string (nullable = true)\n",
      " |    |-- dwc:stateProvince: string (nullable = true)\n",
      " |    |-- dwc:subgenus: string (nullable = true)\n",
      " |    |-- dwc:taxonID: string (nullable = true)\n",
      " |    |-- dwc:taxonRank: string (nullable = true)\n",
      " |    |-- dwc:taxonRemarks: string (nullable = true)\n",
      " |    |-- dwc:taxonomicStatus: string (nullable = true)\n",
      " |    |-- dwc:typeStatus: string (nullable = true)\n",
      " |    |-- dwc:verbatimCoordinateSystem: string (nullable = true)\n",
      " |    |-- dwc:verbatimCoordinates: string (nullable = true)\n",
      " |    |-- dwc:verbatimDepth: string (nullable = true)\n",
      " |    |-- dwc:verbatimElevation: string (nullable = true)\n",
      " |    |-- dwc:verbatimEventDate: string (nullable = true)\n",
      " |    |-- dwc:verbatimLatitude: string (nullable = true)\n",
      " |    |-- dwc:verbatimLocality: string (nullable = true)\n",
      " |    |-- dwc:verbatimLongitude: string (nullable = true)\n",
      " |    |-- dwc:verbatimSRS: string (nullable = true)\n",
      " |    |-- dwc:verbatimTaxonRank: string (nullable = true)\n",
      " |    |-- dwc:vernacularName: string (nullable = true)\n",
      " |    |-- dwc:waterBody: string (nullable = true)\n",
      " |    |-- dwc:year: string (nullable = true)\n",
      " |    |-- fcc:datePicked: string (nullable = true)\n",
      " |    |-- fcc:pickedBy: string (nullable = true)\n",
      " |    |-- id: string (nullable = true)\n",
      " |    |-- idigbio:preservative: string (nullable = true)\n",
      " |    |-- idigbio:recordId: string (nullable = true)\n",
      " |    |-- idigbio:subfamily: string (nullable = true)\n",
      " |    |-- idigbio:substrate: string (nullable = true)\n",
      " |    |-- idigbio:superfamily: string (nullable = true)\n",
      " |    |-- symbiota:recordEnteredBy: string (nullable = true)\n",
      " |    |-- symbiota:verbatimScientificName: string (nullable = true)\n",
      " |-- datecollected: timestamp (nullable = true)\n",
      " |-- datemodified: timestamp (nullable = true)\n",
      " |-- dqs: float (nullable = true)\n",
      " |-- earliestageorloweststage: string (nullable = true)\n",
      " |-- earliesteonorlowesteonothem: string (nullable = true)\n",
      " |-- earliestepochorlowestseries: string (nullable = true)\n",
      " |-- earliesteraorlowesterathem: string (nullable = true)\n",
      " |-- earliestperiodorlowestsystem: string (nullable = true)\n",
      " |-- etag: string (nullable = true)\n",
      " |-- eventdate: string (nullable = true)\n",
      " |-- family: string (nullable = true)\n",
      " |-- fieldnumber: string (nullable = true)\n",
      " |-- formation: string (nullable = true)\n",
      " |-- genus: string (nullable = true)\n",
      " |-- geologicalcontextid: string (nullable = true)\n",
      " |-- geopoint: struct (nullable = true)\n",
      " |    |-- lat: double (nullable = true)\n",
      " |    |-- lon: double (nullable = true)\n",
      " |-- group: string (nullable = true)\n",
      " |-- hasImage: boolean (nullable = true)\n",
      " |-- hasMedia: boolean (nullable = true)\n",
      " |-- highertaxon: string (nullable = true)\n",
      " |-- highestbiostratigraphiczone: string (nullable = true)\n",
      " |-- individualcount: float (nullable = true)\n",
      " |-- infraspecificepithet: string (nullable = true)\n",
      " |-- institutioncode: string (nullable = true)\n",
      " |-- institutionid: string (nullable = true)\n",
      " |-- institutionname: string (nullable = true)\n",
      " |-- kingdom: string (nullable = true)\n",
      " |-- latestageorhigheststage: string (nullable = true)\n",
      " |-- latesteonorhighesteonothem: string (nullable = true)\n",
      " |-- latestepochorhighestseries: string (nullable = true)\n",
      " |-- latesteraorhighesterathem: string (nullable = true)\n",
      " |-- latestperiodorhighestsystem: string (nullable = true)\n",
      " |-- lithostratigraphicterms: string (nullable = true)\n",
      " |-- locality: string (nullable = true)\n",
      " |-- lowestbiostratigraphiczone: string (nullable = true)\n",
      " |-- maxdepth: float (nullable = true)\n",
      " |-- maxelevation: float (nullable = true)\n",
      " |-- member: string (nullable = true)\n",
      " |-- mindepth: float (nullable = true)\n",
      " |-- minelevation: float (nullable = true)\n",
      " |-- municipality: string (nullable = true)\n",
      " |-- occurrenceid: string (nullable = true)\n",
      " |-- order: string (nullable = true)\n",
      " |-- phylum: string (nullable = true)\n",
      " |-- recordnumber: string (nullable = true)\n",
      " |-- recordset: string (nullable = true)\n",
      " |-- scientificname: string (nullable = true)\n",
      " |-- specificepithet: string (nullable = true)\n",
      " |-- startdayofyear: integer (nullable = true)\n",
      " |-- stateprovince: string (nullable = true)\n",
      " |-- taxonid: string (nullable = true)\n",
      " |-- taxonomicstatus: string (nullable = true)\n",
      " |-- taxonrank: string (nullable = true)\n",
      " |-- typestatus: string (nullable = true)\n",
      " |-- uuid: string (nullable = true)\n",
      " |-- verbatimeventdate: string (nullable = true)\n",
      " |-- verbatimlocality: string (nullable = true)\n",
      " |-- version: integer (nullable = true)\n",
      " |-- waterbody: string (nullable = true)\n",
      "\n"
     ]
    }
   ],
   "source": [
    "df.printSchema()"
   ]
  },
  {
   "cell_type": "markdown",
   "metadata": {},
   "source": [
    "Next we can look at the first row of data. The `(1)` after `head` tells Python how many rows to print. Since this is all iDigBio data, the rows are pretty big so we'll only show one."
   ]
  },
  {
   "cell_type": "code",
   "execution_count": 6,
   "metadata": {
    "collapsed": false,
    "scrolled": true
   },
   "outputs": [
    {
     "data": {
      "text/plain": [
       "[Row(barcodevalue=None, basisofrecord='preservedspecimen', bed=None, canonicalname='melissodes paroselae', catalognumber='amnh_bee 00152512', class='insecta', collectioncode=None, collectionid=None, collectionname=None, collector='j. g. rozen', commonname=None, continent='north america', coordinateuncertainty=None, country='united states', countrycode='usa', county='yavapai', data=Row(coreid=None, dc:rights=None, dcterms:accessRights=None, dcterms:bibliographicCitation=None, dcterms:language=None, dcterms:license=None, dcterms:modified='2011-05-24', dcterms:references='Digital Bee Collections Network, 2014 (and updates). Version: 2016-03-08. National Science Foundation grant DBI 0956388', dcterms:rights=None, dcterms:rightsHolder=None, dcterms:source=None, dcterms:type=None, dwc:VerbatimEventDate=None, dwc:acceptedNameUsage=None, dwc:accessRights=None, dwc:associatedMedia=None, dwc:associatedOccurrences=None, dwc:associatedReferences=None, dwc:associatedSequences=None, dwc:associatedTaxa=None, dwc:basisOfRecord='PreservedSpecimen', dwc:bed=None, dwc:behavior=None, dwc:catalogNumber='AMNH_BEE 00152512', dwc:class=None, dwc:collectionCode=None, dwc:collectionID=None, dwc:continent=None, dwc:coordinatePrecision=None, dwc:coordinateUncertaintyInMeters=None, dwc:country='UNITED STATES', dwc:countryCode=None, dwc:county='Yavapai', dwc:dataGeneralizations=None, dwc:datasetID='urn:uuid:13674fa4-8611-11e4-8259-0026552be7ea', dwc:datasetName='Collaborative databasing of North American bee collections within a global informatics network project', dwc:dateIdentified='2011', dwc:day=None, dwc:decimalLatitude='34.14728', dwc:decimalLongitude='-112.88989', dwc:disposition=None, dwc:dynamicProperties=None, dwc:earliestAgeOrLowestStage=None, dwc:earliestEonOrLowestEonothem=None, dwc:earliestEpochOrLowestSeries=None, dwc:earliestEraOrLowestErathem=None, dwc:earliestPeriodOrLowestSystem=None, dwc:endDayOfYear=None, dwc:establishmentMeans=None, dwc:eventDate='1995-08-11', dwc:eventID=None, dwc:eventRemarks=None, dwc:eventTime=None, dwc:family='Apidae', dwc:fieldNotes=None, dwc:fieldNumber=None, dwc:footprintSRS=None, dwc:footprintSpatialFit=None, dwc:footprintWKT=None, dwc:formation=None, dwc:genus='Melissodes', dwc:geodeticDatum=None, dwc:geologicalContextID=None, dwc:georeferenceProtocol=None, dwc:georeferenceRemarks=None, dwc:georeferenceSources=None, dwc:georeferenceVerificationStatus=None, dwc:georeferencedBy=None, dwc:georeferencedDate=None, dwc:group=None, dwc:habitat=None, dwc:higherClassification='Animalia;Arthropoda;Apidae;Apinae;Eucerini', dwc:higherGeography=None, dwc:higherGeographyID=None, dwc:highestBiostratigraphicZone=None, dwc:identificationID=None, dwc:identificationQualifier=None, dwc:identificationReferences=None, dwc:identificationRemarks=None, dwc:identificationVerificationStatus=None, dwc:identifiedBy='J. S. Ascher', dwc:individualCount='1', dwc:informationWithheld=None, dwc:infraspecificEpithet=None, dwc:institutionCode='AMNH', dwc:institutionID=None, dwc:island=None, dwc:islandGroup=None, dwc:kingdom=None, dwc:latestAgeOrHighestStage=None, dwc:latestEonOrHighestEonothem=None, dwc:latestEpochOrHighestSeries=None, dwc:latestEraOrHighestErathem=None, dwc:latestPeriodOrHighestSystem=None, dwc:lifeStage='Adult', dwc:lithostratigraphicTerms=None, dwc:locality='4 km SW of Congress', dwc:locationAccordingTo='GeoLocate Software', dwc:locationID=None, dwc:locationRemarks=None, dwc:lowestBiostratigraphicZone=None, dwc:materialSampleID=None, dwc:maximumDepthInMeters=None, dwc:maximumElevationInMeters=None, dwc:member=None, dwc:minimumDepthInMeters=None, dwc:minimumElevationInMeters=None, dwc:month=None, dwc:municipality=None, dwc:nameAccordingTo=None, dwc:nameAccordingToID=None, dwc:namePublishedIn=None, dwc:namePublishedInID=None, dwc:namePublishedInYear=None, dwc:nomenclaturalCode=None, dwc:nomenclaturalStatus=None, dwc:occurrenceDetails=None, dwc:occurrenceID='urn:uuid:856b9c56-d8e1-11e2-99a2-0026552be7ea', dwc:occurrenceRemarks=None, dwc:occurrenceStatus=None, dwc:order=None, dwc:organismID=None, dwc:organismName=None, dwc:organismQuantity=None, dwc:organismQuantityType=None, dwc:originalNameUsage=None, dwc:otherCatalogNumbers=None, dwc:ownerInstitutionCode='American Museum of Natural History', dwc:parentNameUsage=None, dwc:phylum=None, dwc:pointRadiusSpatialFit=None, dwc:preparations=None, dwc:previousIdentifications=None, dwc:recordNumber=None, dwc:recordedBy='J. G. Rozen', dwc:reproductiveCondition=None, dwc:rights=None, dwc:rightsHolder=None, dwc:samplingEffort=None, dwc:samplingProtocol='Netting', dwc:scientificName='Melissodes paroselae', dwc:scientificNameAuthorship='Cockerell,1905', dwc:scientificNameID=None, dwc:sex='Male', dwc:specificEpithet='paroselae', dwc:startDayOfYear=None, dwc:stateProvince='Arizona', dwc:subgenus=None, dwc:taxonID=None, dwc:taxonRank=None, dwc:taxonRemarks=None, dwc:taxonomicStatus=None, dwc:typeStatus='None', dwc:verbatimCoordinateSystem=None, dwc:verbatimCoordinates=None, dwc:verbatimDepth=None, dwc:verbatimElevation=None, dwc:verbatimEventDate=None, dwc:verbatimLatitude=None, dwc:verbatimLocality=None, dwc:verbatimLongitude=None, dwc:verbatimSRS=None, dwc:verbatimTaxonRank=None, dwc:vernacularName=None, dwc:waterBody=None, dwc:year='1995', fcc:datePicked=None, fcc:pickedBy=None, id='urn:uuid:856b9c56-d8e1-11e2-99a2-0026552be7ea_RID', idigbio:preservative=None, idigbio:recordId=None, idigbio:subfamily=None, idigbio:substrate=None, idigbio:superfamily=None, symbiota:recordEnteredBy=None, symbiota:verbatimScientificName=None), datecollected=datetime.datetime(1995, 8, 10, 20, 0), datemodified=datetime.datetime(2016, 3, 9, 4, 17, 27, 393000), dqs=0.20588235557079315, earliestageorloweststage=None, earliesteonorlowesteonothem=None, earliestepochorlowestseries=None, earliesteraorlowesterathem=None, earliestperiodorlowestsystem=None, etag='deef0752f90d1b8c8d603365c2643e17de1bc735', eventdate='1995-08-11', family='apidae', fieldnumber=None, formation=None, genus='melissodes', geologicalcontextid=None, geopoint=Row(lat=34.14728, lon=-112.88989), group=None, hasImage=False, hasMedia=False, highertaxon='animalia;arthropoda;apidae;apinae;eucerini', highestbiostratigraphiczone=None, individualcount=1.0, infraspecificepithet=None, institutioncode='amnh', institutionid=None, institutionname=None, kingdom='animalia', latestageorhigheststage=None, latesteonorhighesteonothem=None, latestepochorhighestseries=None, latesteraorhighesterathem=None, latestperiodorhighestsystem=None, lithostratigraphicterms=None, locality='4 km sw of congress', lowestbiostratigraphiczone=None, maxdepth=None, maxelevation=None, member=None, mindepth=None, minelevation=None, municipality=None, occurrenceid='urn:uuid:856b9c56-d8e1-11e2-99a2-0026552be7ea', order='hymenoptera', phylum='arthropoda', recordnumber=None, recordset='8919571f-205a-4aed-b9f2-96ccd0108e4c', scientificname='melissodes paroselae', specificepithet='paroselae', startdayofyear=223, stateprovince='arizona', taxonid='5040720', taxonomicstatus='accepted', taxonrank='species', typestatus='none', uuid='c47f542a-57a3-47c2-956b-a4c67ba2cabb', verbatimeventdate=None, verbatimlocality=None, version=None, waterbody=None)]"
      ]
     },
     "execution_count": 6,
     "metadata": {},
     "output_type": "execute_result"
    }
   ],
   "source": [
    "df.head(1)"
   ]
  },
  {
   "cell_type": "markdown",
   "metadata": {},
   "source": [
    "### Summarizing the data\n",
    "\n",
    "That's certainly more data than we need to make the graph. Since there is one row in the data frame for each specimen record, what we need to do is group the records by the year they were collected and then count the number of records in each group and associate that with the year. The data frame we want to have as a result should have two columns, one for year and one for the count of the records collected in that year.\n",
    "\n",
    "This is a common chain of operations often refered to as select, group by, and count which comes from the [SQL](https://www.w3schools.com/sql/) syntax for doing this operation.\n",
    "\n",
    "Working with the year complicated by the fact that iDigBio has a `datecollected` field and not a `yearcollected` field. While we are often provided a year in the raw data, we assemble and convert all the date information from the Darwin Core fields into a date-type object and store that as `datecollected`. Because this object is a date type we can sort it and search for ranges. (Consider what would happen if we tried that with raw data strings like \"2004-01-14\" and \"March 15, 2015\".)\n",
    "\n",
    "We need to extract the year part of `datecollected` and we need to convert it to a number so we can sort on it."
   ]
  },
  {
   "cell_type": "code",
   "execution_count": 9,
   "metadata": {
    "collapsed": false
   },
   "outputs": [],
   "source": [
    "# The outer \"(\" and \")\" surround the chain of Python method calls to allow them to \n",
    "# span lines. This is a common convention and makes the data processing pipeline\n",
    "# easy to read and modify.\n",
    "#\n",
    "# The persist() function tells Spark to store the data frame in memory so it can be\n",
    "# accessed repeatedly without having to be reloaded.\n",
    "year_summary = (df\n",
    "                .groupBy(year(\"datecollected\").cast(\"integer\").alias(\"yearcollected\"))\n",
    "                .count()\n",
    "                .orderBy(\"yearcollected\")\n",
    "                .persist()\n",
    "                )"
   ]
  },
  {
   "cell_type": "markdown",
   "metadata": {},
   "source": [
    "Let's take a look at this new data frame using some of the commands from above:"
   ]
  },
  {
   "cell_type": "code",
   "execution_count": 10,
   "metadata": {
    "collapsed": false
   },
   "outputs": [
    {
     "data": {
      "text/plain": [
       "221"
      ]
     },
     "execution_count": 10,
     "metadata": {},
     "output_type": "execute_result"
    }
   ],
   "source": [
    "year_summary.count()"
   ]
  },
  {
   "cell_type": "code",
   "execution_count": 12,
   "metadata": {
    "collapsed": false
   },
   "outputs": [
    {
     "name": "stdout",
     "output_type": "stream",
     "text": [
      "root\n",
      " |-- yearcollected: integer (nullable = true)\n",
      " |-- count: long (nullable = false)\n",
      "\n"
     ]
    }
   ],
   "source": [
    "year_summary.printSchema()"
   ]
  },
  {
   "cell_type": "code",
   "execution_count": 13,
   "metadata": {
    "collapsed": false
   },
   "outputs": [
    {
     "data": {
      "text/plain": [
       "[Row(yearcollected=None, count=29225),\n",
       " Row(yearcollected=197, count=1),\n",
       " Row(yearcollected=931, count=1),\n",
       " Row(yearcollected=1700, count=12),\n",
       " Row(yearcollected=1764, count=2),\n",
       " Row(yearcollected=1765, count=1),\n",
       " Row(yearcollected=1767, count=7),\n",
       " Row(yearcollected=1768, count=1),\n",
       " Row(yearcollected=1769, count=5),\n",
       " Row(yearcollected=1772, count=1)]"
      ]
     },
     "execution_count": 13,
     "metadata": {},
     "output_type": "execute_result"
    }
   ],
   "source": [
    "year_summary.head(10)"
   ]
  },
  {
   "cell_type": "markdown",
   "metadata": {},
   "source": [
    "Now that our data is both much smaller and mostly numeric, we can use the `describe()` method to quickly make summary statistics. This method returns a data frame so we have to use `show()` to actually print the whole contents of the data frame."
   ]
  },
  {
   "cell_type": "code",
   "execution_count": 16,
   "metadata": {
    "collapsed": false
   },
   "outputs": [
    {
     "name": "stdout",
     "output_type": "stream",
     "text": [
      "+-------+------------------+-----------------+\n",
      "|summary|     yearcollected|            count|\n",
      "+-------+------------------+-----------------+\n",
      "|  count|               220|              221|\n",
      "|   mean|1898.9681818181818|452.4886877828054|\n",
      "| stddev|165.97737064869833| 1984.36413816265|\n",
      "|    min|               197|                1|\n",
      "|    max|              3010|            29225|\n",
      "+-------+------------------+-----------------+\n",
      "\n"
     ]
    }
   ],
   "source": [
    "year_summary.describe().show()"
   ]
  },
  {
   "cell_type": "markdown",
   "metadata": {},
   "source": [
    "## Spark data frames, Pandas data frames, and filtering\n",
    "\n",
    "The term \"data frame\" is a concept for how data is arranged. Different programming languages and even libraries in a single programming language have different implimentations of this idea.\n",
    "\n",
    "We have been working with a Spark data frame. Now we want to do some graphing and the Python graphing libraries know how to work with a [Pandas](http://pandas.pydata.org/) data frame. Fortunately this is such a common conversion that there is a built-in method to do it.\n",
    "\n",
    "One thing to be aware of is that Pandas data frames are not stored on our computation cluster like the Spark data frames are. This means they need to be small and you should not do too much computation on them. Our `year_summary` data frame is only 2 columns and about 220 rows this isn't a problem.\n",
    "\n",
    "While converting to a Pandas data frame, we will also reduce the years to the range 1817 - 2017. From the output of `describe()` we could see that there were some years that didn't make sense."
   ]
  },
  {
   "cell_type": "code",
   "execution_count": 17,
   "metadata": {
    "collapsed": false
   },
   "outputs": [],
   "source": [
    "pandas_year_summary = (year_summary\n",
    "                       .filter(year_summary.yearcollected >= 1817)\n",
    "                       .filter(year_summary.yearcollected <= 2017)\n",
    "                       .orderBy(\"yearcollected\")\n",
    "                       .toPandas()\n",
    "                       )"
   ]
  },
  {
   "cell_type": "code",
   "execution_count": 18,
   "metadata": {
    "collapsed": false
   },
   "outputs": [
    {
     "data": {
      "text/html": [
       "<div>\n",
       "<table border=\"1\" class=\"dataframe\">\n",
       "  <thead>\n",
       "    <tr style=\"text-align: right;\">\n",
       "      <th></th>\n",
       "      <th>yearcollected</th>\n",
       "      <th>count</th>\n",
       "    </tr>\n",
       "  </thead>\n",
       "  <tbody>\n",
       "    <tr>\n",
       "      <th>0</th>\n",
       "      <td>1818</td>\n",
       "      <td>1</td>\n",
       "    </tr>\n",
       "    <tr>\n",
       "      <th>1</th>\n",
       "      <td>1819</td>\n",
       "      <td>2</td>\n",
       "    </tr>\n",
       "    <tr>\n",
       "      <th>2</th>\n",
       "      <td>1820</td>\n",
       "      <td>11</td>\n",
       "    </tr>\n",
       "    <tr>\n",
       "      <th>3</th>\n",
       "      <td>1821</td>\n",
       "      <td>3</td>\n",
       "    </tr>\n",
       "    <tr>\n",
       "      <th>4</th>\n",
       "      <td>1822</td>\n",
       "      <td>5</td>\n",
       "    </tr>\n",
       "  </tbody>\n",
       "</table>\n",
       "</div>"
      ],
      "text/plain": [
       "   yearcollected  count\n",
       "0           1818      1\n",
       "1           1819      2\n",
       "2           1820     11\n",
       "3           1821      3\n",
       "4           1822      5"
      ]
     },
     "execution_count": 18,
     "metadata": {},
     "output_type": "execute_result"
    }
   ],
   "source": [
    "pandas_year_summary.head()"
   ]
  },
  {
   "cell_type": "markdown",
   "metadata": {},
   "source": [
    "(Notice that the display of the first rows looks different from when we ran `head()` on the Spark data frame? That's because we're looking at the display generated by the Pandas library instead of the Spark library.)"
   ]
  },
  {
   "cell_type": "markdown",
   "metadata": {},
   "source": [
    "## Making a graph"
   ]
  },
  {
   "cell_type": "markdown",
   "metadata": {},
   "source": [
    "The number of specimens collected in a year is discrete data so a bar graph is one appropriate way to display them."
   ]
  },
  {
   "cell_type": "code",
   "execution_count": 12,
   "metadata": {
    "collapsed": false
   },
   "outputs": [
    {
     "data": {
      "text/plain": [
       "<Container object of 201 artists>"
      ]
     },
     "execution_count": 12,
     "metadata": {},
     "output_type": "execute_result"
    },
    {
     "data": {
      "image/png": "[encoded data removed]",
      "text/plain": [
       "<matplotlib.figure.Figure at 0x7eff16f24630>"
      ]
     },
     "metadata": {},
     "output_type": "display_data"
    }
   ],
   "source": [
    "plt.bar(pandas_year_summary[\"yearcollected\"], \n",
    "        pandas_year_summary[\"count\"]\n",
    "        edgecolor='none', width=1.0\n",
    "       )"
   ]
  },
  {
   "cell_type": "code",
   "execution_count": null,
   "metadata": {
    "collapsed": true
   },
   "outputs": [],
   "source": []
  }
 ],
 "metadata": {
  "kernelspec": {
   "display_name": "0.25 - PySpark Python3 Micro",
   "language": "python",
   "name": "pyspark3-micro"
  },
  "language_info": {
   "codemirror_mode": {
    "name": "ipython",
    "version": 3
   },
   "file_extension": ".py",
   "mimetype": "text/x-python",
   "name": "python",
   "nbconvert_exporter": "python",
   "pygments_lexer": "ipython3",
   "version": "3.5.2"
  }
 },
 "nbformat": 4,
 "nbformat_minor": 1
}

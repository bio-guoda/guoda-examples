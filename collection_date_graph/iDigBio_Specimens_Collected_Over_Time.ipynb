{
 "cells": [
  {
   "cell_type": "code",
   "execution_count": 1,
   "metadata": {
    "collapsed": true
   },
   "outputs": [],
   "source": [
    "from pyspark.sql.functions import year, udf\n",
    "import matplotlib.pyplot as plt\n",
    "%matplotlib inline"
   ]
  },
  {
   "cell_type": "markdown",
   "metadata": {},
   "source": [
    "http://www.gbif.org/analytics/global"
   ]
  },
  {
   "cell_type": "code",
   "execution_count": 2,
   "metadata": {
    "collapsed": true
   },
   "outputs": [],
   "source": [
    "df = sqlContext.read.load(\"/guoda/data/idigbio-20170607T183747.parquet\")"
   ]
  },
  {
   "cell_type": "code",
   "execution_count": 3,
   "metadata": {
    "collapsed": false
   },
   "outputs": [
    {
     "data": {
      "text/plain": [
       "104661524"
      ]
     },
     "execution_count": 3,
     "metadata": {},
     "output_type": "execute_result"
    }
   ],
   "source": [
    "df.count()"
   ]
  },
  {
   "cell_type": "code",
   "execution_count": 4,
   "metadata": {
    "collapsed": false
   },
   "outputs": [],
   "source": [
    "year_summary = df.groupBy(year(\"datecollected\").cast(\"integer\").alias(\"yearcollected\")).count().orderBy(\"yearcollected\").persist()"
   ]
  },
  {
   "cell_type": "code",
   "execution_count": 5,
   "metadata": {
    "collapsed": false
   },
   "outputs": [
    {
     "data": {
      "text/plain": [
       "1390"
      ]
     },
     "execution_count": 5,
     "metadata": {},
     "output_type": "execute_result"
    }
   ],
   "source": [
    "year_summary.count()"
   ]
  },
  {
   "cell_type": "code",
   "execution_count": 6,
   "metadata": {
    "collapsed": false
   },
   "outputs": [
    {
     "name": "stdout",
     "output_type": "stream",
     "text": [
      "root\n",
      " |-- yearcollected: integer (nullable = true)\n",
      " |-- count: long (nullable = false)\n",
      "\n"
     ]
    }
   ],
   "source": [
    "year_summary.printSchema()"
   ]
  },
  {
   "cell_type": "code",
   "execution_count": 7,
   "metadata": {
    "collapsed": false
   },
   "outputs": [
    {
     "name": "stdout",
     "output_type": "stream",
     "text": [
      "+-------+----------------+-----------------+\n",
      "|summary|   yearcollected|            count|\n",
      "+-------+----------------+-----------------+\n",
      "|  count|            1389|             1390|\n",
      "|   mean|2316.51403887689|75296.06043165468|\n",
      "| stddev| 2122.4294635612|752125.4364303288|\n",
      "|    min|             100|                1|\n",
      "|    max|            9999|         27146522|\n",
      "+-------+----------------+-----------------+\n",
      "\n"
     ]
    }
   ],
   "source": [
    "year_summary.describe().show()"
   ]
  },
  {
   "cell_type": "code",
   "execution_count": 8,
   "metadata": {
    "collapsed": false
   },
   "outputs": [
    {
     "data": {
      "text/plain": [
       "[Row(yearcollected=None, count=27146522),\n",
       " Row(yearcollected=100, count=3),\n",
       " Row(yearcollected=102, count=1),\n",
       " Row(yearcollected=103, count=2),\n",
       " Row(yearcollected=104, count=2),\n",
       " Row(yearcollected=105, count=5),\n",
       " Row(yearcollected=106, count=9),\n",
       " Row(yearcollected=107, count=3),\n",
       " Row(yearcollected=108, count=3),\n",
       " Row(yearcollected=109, count=4)]"
      ]
     },
     "execution_count": 8,
     "metadata": {},
     "output_type": "execute_result"
    }
   ],
   "source": [
    "year_summary.head(10)"
   ]
  },
  {
   "cell_type": "code",
   "execution_count": 9,
   "metadata": {
    "collapsed": false
   },
   "outputs": [
    {
     "data": {
      "text/plain": [
       "[Row(yearcollected=9999, count=9187),\n",
       " Row(yearcollected=9998, count=1),\n",
       " Row(yearcollected=9983, count=1),\n",
       " Row(yearcollected=9972, count=4),\n",
       " Row(yearcollected=9960, count=1),\n",
       " Row(yearcollected=9948, count=2),\n",
       " Row(yearcollected=9863, count=1),\n",
       " Row(yearcollected=9855, count=1),\n",
       " Row(yearcollected=9840, count=2),\n",
       " Row(yearcollected=9832, count=3)]"
      ]
     },
     "execution_count": 9,
     "metadata": {},
     "output_type": "execute_result"
    }
   ],
   "source": [
    "year_summary.orderBy(\"yearcollected\", ascending=False).head(10)"
   ]
  },
  {
   "cell_type": "code",
   "execution_count": 10,
   "metadata": {
    "collapsed": false
   },
   "outputs": [],
   "source": [
    "pandas_year_summary = year_summary.filter(year_summary.yearcollected >= 1817).filter(year_summary.yearcollected <= 2017).orderBy(\"yearcollected\").toPandas()"
   ]
  },
  {
   "cell_type": "code",
   "execution_count": 11,
   "metadata": {
    "collapsed": false
   },
   "outputs": [
    {
     "data": {
      "text/html": [
       "<div>\n",
       "<table border=\"1\" class=\"dataframe\">\n",
       "  <thead>\n",
       "    <tr style=\"text-align: right;\">\n",
       "      <th></th>\n",
       "      <th>yearcollected</th>\n",
       "      <th>count</th>\n",
       "    </tr>\n",
       "  </thead>\n",
       "  <tbody>\n",
       "    <tr>\n",
       "      <th>0</th>\n",
       "      <td>1817</td>\n",
       "      <td>3447</td>\n",
       "    </tr>\n",
       "    <tr>\n",
       "      <th>1</th>\n",
       "      <td>1818</td>\n",
       "      <td>11556</td>\n",
       "    </tr>\n",
       "    <tr>\n",
       "      <th>2</th>\n",
       "      <td>1819</td>\n",
       "      <td>3748</td>\n",
       "    </tr>\n",
       "    <tr>\n",
       "      <th>3</th>\n",
       "      <td>1820</td>\n",
       "      <td>4009</td>\n",
       "    </tr>\n",
       "    <tr>\n",
       "      <th>4</th>\n",
       "      <td>1821</td>\n",
       "      <td>4754</td>\n",
       "    </tr>\n",
       "  </tbody>\n",
       "</table>\n",
       "</div>"
      ],
      "text/plain": [
       "   yearcollected  count\n",
       "0           1817   3447\n",
       "1           1818  11556\n",
       "2           1819   3748\n",
       "3           1820   4009\n",
       "4           1821   4754"
      ]
     },
     "execution_count": 11,
     "metadata": {},
     "output_type": "execute_result"
    }
   ],
   "source": [
    "pandas_year_summary.head()"
   ]
  },
  {
   "cell_type": "code",
   "execution_count": 12,
   "metadata": {
    "collapsed": false
   },
   "outputs": [
    {
     "data": {
      "text/plain": [
       "<Container object of 201 artists>"
      ]
     },
     "execution_count": 12,
     "metadata": {},
     "output_type": "execute_result"
    },
    {
     "data": {
      "image/png": "[encoded data removed]",
      "text/plain": [
       "<matplotlib.figure.Figure at 0x7f7b6b9b77f0>"
      ]
     },
     "metadata": {},
     "output_type": "display_data"
    }
   ],
   "source": [
    "plt.bar(pandas_year_summary[\"yearcollected\"], pandas_year_summary[\"count\"])"
   ]
  },
  {
   "cell_type": "code",
   "execution_count": 25,
   "metadata": {
    "collapsed": false
   },
   "outputs": [],
   "source": [
    "yc_sum = (df\n",
    "          .groupBy(year(\"datecollected\").cast(\"integer\").alias(\"yearcollected\"),\n",
    "                   \"continent\")\n",
    "          .count()\n",
    "          .orderBy(\"yearcollected\")\n",
    "          .persist()\n",
    "          )"
   ]
  },
  {
   "cell_type": "code",
   "execution_count": 26,
   "metadata": {
    "collapsed": false
   },
   "outputs": [
    {
     "data": {
      "text/plain": [
       "[Row(yearcollected=None, continent='australia', count=1386899),\n",
       " Row(yearcollected=None, continent='indian o.', count=29),\n",
       " Row(yearcollected=None, continent='néotropique', count=384),\n",
       " Row(yearcollected=None, continent='europe, europe', count=1636),\n",
       " Row(yearcollected=None, continent='afrotropique', count=252),\n",
       " Row(yearcollected=None, continent='east indies', count=268),\n",
       " Row(yearcollected=None, continent='southern end of chagos-laccadive ridge, indian ocean.', count=19),\n",
       " Row(yearcollected=None, continent='seas of japan', count=1),\n",
       " Row(yearcollected=None, continent='australia?', count=1),\n",
       " Row(yearcollected=None, continent='samoa islands', count=8)]"
      ]
     },
     "execution_count": 26,
     "metadata": {},
     "output_type": "execute_result"
    }
   ],
   "source": [
    "yc_sum.head(10)"
   ]
  },
  {
   "cell_type": "markdown",
   "metadata": {},
   "source": [
    "We're going to have to fix some data!"
   ]
  },
  {
   "cell_type": "code",
   "execution_count": 27,
   "metadata": {
    "collapsed": false
   },
   "outputs": [
    {
     "name": "stdout",
     "output_type": "stream",
     "text": [
      "europe\n",
      "other\n"
     ]
    }
   ],
   "source": [
    "continents = set([\"africa\", \"asia\", \"australia\", \"europe\", \"north america\", \"south america\"])\n",
    "def fix_continent(c):\n",
    "    if c in continents:\n",
    "        return c\n",
    "    else:\n",
    "        return \"other\"\n",
    "print(fix_continent(\"europe\"))    \n",
    "print(fix_continent(\"oceana\"))"
   ]
  },
  {
   "cell_type": "code",
   "execution_count": 28,
   "metadata": {
    "collapsed": false
   },
   "outputs": [],
   "source": [
    "fix_continent_udf = udf(fix_continent)\n",
    "yc_sum = (df\n",
    "          .withColumn(\"fixed\", fix_continent_udf(df.continent))\n",
    "          .groupBy(year(\"datecollected\").cast(\"integer\").alias(\"yearcollected\"),\n",
    "                   \"fixed\")\n",
    "          .count()\n",
    "          .orderBy(\"yearcollected\")\n",
    "          .persist()\n",
    "          )"
   ]
  },
  {
   "cell_type": "code",
   "execution_count": 29,
   "metadata": {
    "collapsed": false
   },
   "outputs": [
    {
     "data": {
      "text/plain": [
       "[Row(yearcollected=None, fixed='north america', count=6661147),\n",
       " Row(yearcollected=None, fixed='europe', count=2312443),\n",
       " Row(yearcollected=None, fixed='other', count=13130500),\n",
       " Row(yearcollected=None, fixed='africa', count=802446),\n",
       " Row(yearcollected=None, fixed='asia', count=1451924),\n",
       " Row(yearcollected=None, fixed='australia', count=1386899),\n",
       " Row(yearcollected=None, fixed='south america', count=1401163),\n",
       " Row(yearcollected=100, fixed='south america', count=1),\n",
       " Row(yearcollected=100, fixed='other', count=1),\n",
       " Row(yearcollected=100, fixed='north america', count=1)]"
      ]
     },
     "execution_count": 29,
     "metadata": {},
     "output_type": "execute_result"
    }
   ],
   "source": [
    "yc_sum.head(10)"
   ]
  },
  {
   "cell_type": "code",
   "execution_count": 30,
   "metadata": {
    "collapsed": false
   },
   "outputs": [
    {
     "name": "stdout",
     "output_type": "stream",
     "text": [
      "+-------------+-----+\n",
      "|        fixed|count|\n",
      "+-------------+-----+\n",
      "|    australia|  522|\n",
      "|north america|  994|\n",
      "|       europe|  546|\n",
      "|south america|  513|\n",
      "|        other|  779|\n",
      "|       africa|  412|\n",
      "|         asia|  413|\n",
      "+-------------+-----+\n",
      "\n"
     ]
    }
   ],
   "source": [
    "yc_sum.groupBy(yc_sum.fixed).count().show()"
   ]
  },
  {
   "cell_type": "code",
   "execution_count": 31,
   "metadata": {
    "collapsed": false
   },
   "outputs": [],
   "source": [
    "yc_cross = (df\n",
    "            .select(year(\"datecollected\").cast(\"integer\").alias(\"yearcollected\"),\n",
    "                    df.continent)\n",
    "            .withColumn(\"fixed\", fix_continent_udf(df.continent))\n",
    "            .crosstab(\"yearcollected\", \"fixed\")\n",
    "            )"
   ]
  },
  {
   "cell_type": "code",
   "execution_count": 32,
   "metadata": {
    "collapsed": false
   },
   "outputs": [
    {
     "data": {
      "text/plain": [
       "[Row(yearcollected_fixed='892', africa=0, asia=0, australia=0, europe=0, north america=2, other=0, south america=0),\n",
       " Row(yearcollected_fixed='2199', africa=0, asia=0, australia=0, europe=0, north america=1, other=1, south america=0),\n",
       " Row(yearcollected_fixed='1665', africa=2, asia=0, australia=0, europe=1, north america=2, other=2, south america=0),\n",
       " Row(yearcollected_fixed='1036', africa=0, asia=2, australia=0, europe=0, north america=15, other=0, south america=0),\n",
       " Row(yearcollected_fixed='9131', africa=0, asia=0, australia=0, europe=0, north america=1, other=0, south america=0)]"
      ]
     },
     "execution_count": 32,
     "metadata": {},
     "output_type": "execute_result"
    }
   ],
   "source": [
    "yc_cross.head(5)"
   ]
  },
  {
   "cell_type": "code",
   "execution_count": 33,
   "metadata": {
    "collapsed": false
   },
   "outputs": [],
   "source": [
    "pandas_yc_cross = (yc_cross\n",
    "                   .filter(yc_cross.yearcollected_fixed >= 1817)\n",
    "                   .filter(yc_cross.yearcollected_fixed <= 2017)\n",
    "                   .orderBy(yc_cross.yearcollected_fixed)\n",
    "                   .toPandas()\n",
    "                   )"
   ]
  },
  {
   "cell_type": "code",
   "execution_count": 34,
   "metadata": {
    "collapsed": false,
    "scrolled": true
   },
   "outputs": [
    {
     "data": {
      "text/html": [
       "<div>\n",
       "<table border=\"1\" class=\"dataframe\">\n",
       "  <thead>\n",
       "    <tr style=\"text-align: right;\">\n",
       "      <th></th>\n",
       "      <th>yearcollected_fixed</th>\n",
       "      <th>africa</th>\n",
       "      <th>asia</th>\n",
       "      <th>australia</th>\n",
       "      <th>europe</th>\n",
       "      <th>north america</th>\n",
       "      <th>other</th>\n",
       "      <th>south america</th>\n",
       "    </tr>\n",
       "  </thead>\n",
       "  <tbody>\n",
       "    <tr>\n",
       "      <th>0</th>\n",
       "      <td>1817</td>\n",
       "      <td>76</td>\n",
       "      <td>139</td>\n",
       "      <td>385</td>\n",
       "      <td>534</td>\n",
       "      <td>471</td>\n",
       "      <td>390</td>\n",
       "      <td>1452</td>\n",
       "    </tr>\n",
       "    <tr>\n",
       "      <th>1</th>\n",
       "      <td>1818</td>\n",
       "      <td>43</td>\n",
       "      <td>246</td>\n",
       "      <td>477</td>\n",
       "      <td>805</td>\n",
       "      <td>5365</td>\n",
       "      <td>4259</td>\n",
       "      <td>361</td>\n",
       "    </tr>\n",
       "    <tr>\n",
       "      <th>2</th>\n",
       "      <td>1819</td>\n",
       "      <td>76</td>\n",
       "      <td>332</td>\n",
       "      <td>487</td>\n",
       "      <td>1066</td>\n",
       "      <td>560</td>\n",
       "      <td>914</td>\n",
       "      <td>313</td>\n",
       "    </tr>\n",
       "    <tr>\n",
       "      <th>3</th>\n",
       "      <td>1820</td>\n",
       "      <td>50</td>\n",
       "      <td>155</td>\n",
       "      <td>217</td>\n",
       "      <td>1741</td>\n",
       "      <td>641</td>\n",
       "      <td>997</td>\n",
       "      <td>208</td>\n",
       "    </tr>\n",
       "    <tr>\n",
       "      <th>4</th>\n",
       "      <td>1821</td>\n",
       "      <td>79</td>\n",
       "      <td>715</td>\n",
       "      <td>115</td>\n",
       "      <td>1853</td>\n",
       "      <td>464</td>\n",
       "      <td>876</td>\n",
       "      <td>652</td>\n",
       "    </tr>\n",
       "    <tr>\n",
       "      <th>5</th>\n",
       "      <td>1822</td>\n",
       "      <td>343</td>\n",
       "      <td>451</td>\n",
       "      <td>547</td>\n",
       "      <td>1241</td>\n",
       "      <td>3362</td>\n",
       "      <td>1196</td>\n",
       "      <td>325</td>\n",
       "    </tr>\n",
       "    <tr>\n",
       "      <th>6</th>\n",
       "      <td>1823</td>\n",
       "      <td>66</td>\n",
       "      <td>82</td>\n",
       "      <td>1441</td>\n",
       "      <td>866</td>\n",
       "      <td>371</td>\n",
       "      <td>1032</td>\n",
       "      <td>247</td>\n",
       "    </tr>\n",
       "    <tr>\n",
       "      <th>7</th>\n",
       "      <td>1824</td>\n",
       "      <td>319</td>\n",
       "      <td>141</td>\n",
       "      <td>124</td>\n",
       "      <td>1553</td>\n",
       "      <td>516</td>\n",
       "      <td>1181</td>\n",
       "      <td>818</td>\n",
       "    </tr>\n",
       "    <tr>\n",
       "      <th>8</th>\n",
       "      <td>1825</td>\n",
       "      <td>338</td>\n",
       "      <td>178</td>\n",
       "      <td>311</td>\n",
       "      <td>1246</td>\n",
       "      <td>952</td>\n",
       "      <td>1628</td>\n",
       "      <td>300</td>\n",
       "    </tr>\n",
       "    <tr>\n",
       "      <th>9</th>\n",
       "      <td>1826</td>\n",
       "      <td>339</td>\n",
       "      <td>120</td>\n",
       "      <td>87</td>\n",
       "      <td>1584</td>\n",
       "      <td>889</td>\n",
       "      <td>2143</td>\n",
       "      <td>1250</td>\n",
       "    </tr>\n",
       "    <tr>\n",
       "      <th>10</th>\n",
       "      <td>1827</td>\n",
       "      <td>293</td>\n",
       "      <td>187</td>\n",
       "      <td>166</td>\n",
       "      <td>2196</td>\n",
       "      <td>752</td>\n",
       "      <td>3063</td>\n",
       "      <td>1249</td>\n",
       "    </tr>\n",
       "    <tr>\n",
       "      <th>11</th>\n",
       "      <td>1828</td>\n",
       "      <td>258</td>\n",
       "      <td>236</td>\n",
       "      <td>173</td>\n",
       "      <td>1950</td>\n",
       "      <td>2040</td>\n",
       "      <td>3001</td>\n",
       "      <td>954</td>\n",
       "    </tr>\n",
       "    <tr>\n",
       "      <th>12</th>\n",
       "      <td>1829</td>\n",
       "      <td>555</td>\n",
       "      <td>238</td>\n",
       "      <td>227</td>\n",
       "      <td>1807</td>\n",
       "      <td>1044</td>\n",
       "      <td>3407</td>\n",
       "      <td>718</td>\n",
       "    </tr>\n",
       "    <tr>\n",
       "      <th>13</th>\n",
       "      <td>1830</td>\n",
       "      <td>220</td>\n",
       "      <td>225</td>\n",
       "      <td>76</td>\n",
       "      <td>1712</td>\n",
       "      <td>523</td>\n",
       "      <td>3964</td>\n",
       "      <td>763</td>\n",
       "    </tr>\n",
       "    <tr>\n",
       "      <th>14</th>\n",
       "      <td>1831</td>\n",
       "      <td>49</td>\n",
       "      <td>218</td>\n",
       "      <td>102</td>\n",
       "      <td>1615</td>\n",
       "      <td>945</td>\n",
       "      <td>2642</td>\n",
       "      <td>1317</td>\n",
       "    </tr>\n",
       "    <tr>\n",
       "      <th>15</th>\n",
       "      <td>1832</td>\n",
       "      <td>209</td>\n",
       "      <td>224</td>\n",
       "      <td>196</td>\n",
       "      <td>1723</td>\n",
       "      <td>1500</td>\n",
       "      <td>4771</td>\n",
       "      <td>886</td>\n",
       "    </tr>\n",
       "    <tr>\n",
       "      <th>16</th>\n",
       "      <td>1833</td>\n",
       "      <td>139</td>\n",
       "      <td>261</td>\n",
       "      <td>225</td>\n",
       "      <td>2579</td>\n",
       "      <td>2045</td>\n",
       "      <td>4977</td>\n",
       "      <td>954</td>\n",
       "    </tr>\n",
       "    <tr>\n",
       "      <th>17</th>\n",
       "      <td>1834</td>\n",
       "      <td>374</td>\n",
       "      <td>294</td>\n",
       "      <td>241</td>\n",
       "      <td>1824</td>\n",
       "      <td>1694</td>\n",
       "      <td>2821</td>\n",
       "      <td>881</td>\n",
       "    </tr>\n",
       "    <tr>\n",
       "      <th>18</th>\n",
       "      <td>1835</td>\n",
       "      <td>677</td>\n",
       "      <td>570</td>\n",
       "      <td>267</td>\n",
       "      <td>1744</td>\n",
       "      <td>1405</td>\n",
       "      <td>3377</td>\n",
       "      <td>973</td>\n",
       "    </tr>\n",
       "    <tr>\n",
       "      <th>19</th>\n",
       "      <td>1836</td>\n",
       "      <td>178</td>\n",
       "      <td>901</td>\n",
       "      <td>497</td>\n",
       "      <td>3318</td>\n",
       "      <td>881</td>\n",
       "      <td>3752</td>\n",
       "      <td>2488</td>\n",
       "    </tr>\n",
       "    <tr>\n",
       "      <th>20</th>\n",
       "      <td>1837</td>\n",
       "      <td>2048</td>\n",
       "      <td>576</td>\n",
       "      <td>595</td>\n",
       "      <td>3238</td>\n",
       "      <td>1464</td>\n",
       "      <td>5717</td>\n",
       "      <td>1138</td>\n",
       "    </tr>\n",
       "    <tr>\n",
       "      <th>21</th>\n",
       "      <td>1838</td>\n",
       "      <td>1943</td>\n",
       "      <td>671</td>\n",
       "      <td>2013</td>\n",
       "      <td>3125</td>\n",
       "      <td>2981</td>\n",
       "      <td>9108</td>\n",
       "      <td>4119</td>\n",
       "    </tr>\n",
       "    <tr>\n",
       "      <th>22</th>\n",
       "      <td>1839</td>\n",
       "      <td>1828</td>\n",
       "      <td>238</td>\n",
       "      <td>3187</td>\n",
       "      <td>3149</td>\n",
       "      <td>2278</td>\n",
       "      <td>6150</td>\n",
       "      <td>1841</td>\n",
       "    </tr>\n",
       "    <tr>\n",
       "      <th>23</th>\n",
       "      <td>1840</td>\n",
       "      <td>1760</td>\n",
       "      <td>388</td>\n",
       "      <td>2724</td>\n",
       "      <td>5650</td>\n",
       "      <td>2979</td>\n",
       "      <td>7144</td>\n",
       "      <td>1894</td>\n",
       "    </tr>\n",
       "    <tr>\n",
       "      <th>24</th>\n",
       "      <td>1841</td>\n",
       "      <td>1315</td>\n",
       "      <td>1655</td>\n",
       "      <td>906</td>\n",
       "      <td>4406</td>\n",
       "      <td>3521</td>\n",
       "      <td>5255</td>\n",
       "      <td>1931</td>\n",
       "    </tr>\n",
       "    <tr>\n",
       "      <th>25</th>\n",
       "      <td>1842</td>\n",
       "      <td>538</td>\n",
       "      <td>2882</td>\n",
       "      <td>1174</td>\n",
       "      <td>4458</td>\n",
       "      <td>3814</td>\n",
       "      <td>7077</td>\n",
       "      <td>2995</td>\n",
       "    </tr>\n",
       "    <tr>\n",
       "      <th>26</th>\n",
       "      <td>1843</td>\n",
       "      <td>288</td>\n",
       "      <td>1361</td>\n",
       "      <td>2793</td>\n",
       "      <td>3816</td>\n",
       "      <td>2640</td>\n",
       "      <td>7017</td>\n",
       "      <td>1386</td>\n",
       "    </tr>\n",
       "    <tr>\n",
       "      <th>27</th>\n",
       "      <td>1844</td>\n",
       "      <td>320</td>\n",
       "      <td>876</td>\n",
       "      <td>1373</td>\n",
       "      <td>4322</td>\n",
       "      <td>2419</td>\n",
       "      <td>6085</td>\n",
       "      <td>1315</td>\n",
       "    </tr>\n",
       "    <tr>\n",
       "      <th>28</th>\n",
       "      <td>1845</td>\n",
       "      <td>237</td>\n",
       "      <td>1037</td>\n",
       "      <td>789</td>\n",
       "      <td>4818</td>\n",
       "      <td>3275</td>\n",
       "      <td>4734</td>\n",
       "      <td>2008</td>\n",
       "    </tr>\n",
       "    <tr>\n",
       "      <th>29</th>\n",
       "      <td>1846</td>\n",
       "      <td>417</td>\n",
       "      <td>1005</td>\n",
       "      <td>882</td>\n",
       "      <td>5464</td>\n",
       "      <td>4362</td>\n",
       "      <td>3782</td>\n",
       "      <td>1781</td>\n",
       "    </tr>\n",
       "    <tr>\n",
       "      <th>...</th>\n",
       "      <td>...</td>\n",
       "      <td>...</td>\n",
       "      <td>...</td>\n",
       "      <td>...</td>\n",
       "      <td>...</td>\n",
       "      <td>...</td>\n",
       "      <td>...</td>\n",
       "      <td>...</td>\n",
       "    </tr>\n",
       "    <tr>\n",
       "      <th>170</th>\n",
       "      <td>1987</td>\n",
       "      <td>34874</td>\n",
       "      <td>37605</td>\n",
       "      <td>130764</td>\n",
       "      <td>46302</td>\n",
       "      <td>397502</td>\n",
       "      <td>118522</td>\n",
       "      <td>129859</td>\n",
       "    </tr>\n",
       "    <tr>\n",
       "      <th>171</th>\n",
       "      <td>1988</td>\n",
       "      <td>44456</td>\n",
       "      <td>31930</td>\n",
       "      <td>141211</td>\n",
       "      <td>48189</td>\n",
       "      <td>383202</td>\n",
       "      <td>104349</td>\n",
       "      <td>123776</td>\n",
       "    </tr>\n",
       "    <tr>\n",
       "      <th>172</th>\n",
       "      <td>1989</td>\n",
       "      <td>38428</td>\n",
       "      <td>36151</td>\n",
       "      <td>134280</td>\n",
       "      <td>45063</td>\n",
       "      <td>381650</td>\n",
       "      <td>99985</td>\n",
       "      <td>127818</td>\n",
       "    </tr>\n",
       "    <tr>\n",
       "      <th>173</th>\n",
       "      <td>1990</td>\n",
       "      <td>42041</td>\n",
       "      <td>36005</td>\n",
       "      <td>136161</td>\n",
       "      <td>56755</td>\n",
       "      <td>391754</td>\n",
       "      <td>99632</td>\n",
       "      <td>109858</td>\n",
       "    </tr>\n",
       "    <tr>\n",
       "      <th>174</th>\n",
       "      <td>1991</td>\n",
       "      <td>29538</td>\n",
       "      <td>39925</td>\n",
       "      <td>131091</td>\n",
       "      <td>62951</td>\n",
       "      <td>405979</td>\n",
       "      <td>109148</td>\n",
       "      <td>113523</td>\n",
       "    </tr>\n",
       "    <tr>\n",
       "      <th>175</th>\n",
       "      <td>1992</td>\n",
       "      <td>30309</td>\n",
       "      <td>37354</td>\n",
       "      <td>151296</td>\n",
       "      <td>67376</td>\n",
       "      <td>408740</td>\n",
       "      <td>113462</td>\n",
       "      <td>114611</td>\n",
       "    </tr>\n",
       "    <tr>\n",
       "      <th>176</th>\n",
       "      <td>1993</td>\n",
       "      <td>37388</td>\n",
       "      <td>40643</td>\n",
       "      <td>159553</td>\n",
       "      <td>77994</td>\n",
       "      <td>421136</td>\n",
       "      <td>132286</td>\n",
       "      <td>106249</td>\n",
       "    </tr>\n",
       "    <tr>\n",
       "      <th>177</th>\n",
       "      <td>1994</td>\n",
       "      <td>39959</td>\n",
       "      <td>32979</td>\n",
       "      <td>145041</td>\n",
       "      <td>69078</td>\n",
       "      <td>451914</td>\n",
       "      <td>128029</td>\n",
       "      <td>115625</td>\n",
       "    </tr>\n",
       "    <tr>\n",
       "      <th>178</th>\n",
       "      <td>1995</td>\n",
       "      <td>52436</td>\n",
       "      <td>49346</td>\n",
       "      <td>172370</td>\n",
       "      <td>71207</td>\n",
       "      <td>511523</td>\n",
       "      <td>138048</td>\n",
       "      <td>112657</td>\n",
       "    </tr>\n",
       "    <tr>\n",
       "      <th>179</th>\n",
       "      <td>1996</td>\n",
       "      <td>38526</td>\n",
       "      <td>41148</td>\n",
       "      <td>137164</td>\n",
       "      <td>68625</td>\n",
       "      <td>444017</td>\n",
       "      <td>127164</td>\n",
       "      <td>113196</td>\n",
       "    </tr>\n",
       "    <tr>\n",
       "      <th>180</th>\n",
       "      <td>1997</td>\n",
       "      <td>28611</td>\n",
       "      <td>40305</td>\n",
       "      <td>138453</td>\n",
       "      <td>76381</td>\n",
       "      <td>433645</td>\n",
       "      <td>149017</td>\n",
       "      <td>124524</td>\n",
       "    </tr>\n",
       "    <tr>\n",
       "      <th>181</th>\n",
       "      <td>1998</td>\n",
       "      <td>33057</td>\n",
       "      <td>46807</td>\n",
       "      <td>133546</td>\n",
       "      <td>71646</td>\n",
       "      <td>439901</td>\n",
       "      <td>123515</td>\n",
       "      <td>104031</td>\n",
       "    </tr>\n",
       "    <tr>\n",
       "      <th>182</th>\n",
       "      <td>1999</td>\n",
       "      <td>38141</td>\n",
       "      <td>42899</td>\n",
       "      <td>140347</td>\n",
       "      <td>63971</td>\n",
       "      <td>407015</td>\n",
       "      <td>135641</td>\n",
       "      <td>107499</td>\n",
       "    </tr>\n",
       "    <tr>\n",
       "      <th>183</th>\n",
       "      <td>2000</td>\n",
       "      <td>51413</td>\n",
       "      <td>40252</td>\n",
       "      <td>114264</td>\n",
       "      <td>72520</td>\n",
       "      <td>426556</td>\n",
       "      <td>164377</td>\n",
       "      <td>118871</td>\n",
       "    </tr>\n",
       "    <tr>\n",
       "      <th>184</th>\n",
       "      <td>2001</td>\n",
       "      <td>132746</td>\n",
       "      <td>31912</td>\n",
       "      <td>109268</td>\n",
       "      <td>60116</td>\n",
       "      <td>410070</td>\n",
       "      <td>145436</td>\n",
       "      <td>107078</td>\n",
       "    </tr>\n",
       "    <tr>\n",
       "      <th>185</th>\n",
       "      <td>2002</td>\n",
       "      <td>85929</td>\n",
       "      <td>30626</td>\n",
       "      <td>96699</td>\n",
       "      <td>65991</td>\n",
       "      <td>440842</td>\n",
       "      <td>152949</td>\n",
       "      <td>74342</td>\n",
       "    </tr>\n",
       "    <tr>\n",
       "      <th>186</th>\n",
       "      <td>2003</td>\n",
       "      <td>68127</td>\n",
       "      <td>30017</td>\n",
       "      <td>101329</td>\n",
       "      <td>92905</td>\n",
       "      <td>440627</td>\n",
       "      <td>173595</td>\n",
       "      <td>108202</td>\n",
       "    </tr>\n",
       "    <tr>\n",
       "      <th>187</th>\n",
       "      <td>2004</td>\n",
       "      <td>45539</td>\n",
       "      <td>53708</td>\n",
       "      <td>119930</td>\n",
       "      <td>100434</td>\n",
       "      <td>452017</td>\n",
       "      <td>148997</td>\n",
       "      <td>81527</td>\n",
       "    </tr>\n",
       "    <tr>\n",
       "      <th>188</th>\n",
       "      <td>2005</td>\n",
       "      <td>54908</td>\n",
       "      <td>39664</td>\n",
       "      <td>107732</td>\n",
       "      <td>101349</td>\n",
       "      <td>422926</td>\n",
       "      <td>199265</td>\n",
       "      <td>71840</td>\n",
       "    </tr>\n",
       "    <tr>\n",
       "      <th>189</th>\n",
       "      <td>2006</td>\n",
       "      <td>37666</td>\n",
       "      <td>45890</td>\n",
       "      <td>83399</td>\n",
       "      <td>63043</td>\n",
       "      <td>411666</td>\n",
       "      <td>210184</td>\n",
       "      <td>57729</td>\n",
       "    </tr>\n",
       "    <tr>\n",
       "      <th>190</th>\n",
       "      <td>2007</td>\n",
       "      <td>51341</td>\n",
       "      <td>35545</td>\n",
       "      <td>83050</td>\n",
       "      <td>59972</td>\n",
       "      <td>378394</td>\n",
       "      <td>188704</td>\n",
       "      <td>68636</td>\n",
       "    </tr>\n",
       "    <tr>\n",
       "      <th>191</th>\n",
       "      <td>2008</td>\n",
       "      <td>41523</td>\n",
       "      <td>35243</td>\n",
       "      <td>84874</td>\n",
       "      <td>59476</td>\n",
       "      <td>410031</td>\n",
       "      <td>184670</td>\n",
       "      <td>48399</td>\n",
       "    </tr>\n",
       "    <tr>\n",
       "      <th>192</th>\n",
       "      <td>2009</td>\n",
       "      <td>41027</td>\n",
       "      <td>21076</td>\n",
       "      <td>73359</td>\n",
       "      <td>48657</td>\n",
       "      <td>404088</td>\n",
       "      <td>189340</td>\n",
       "      <td>60834</td>\n",
       "    </tr>\n",
       "    <tr>\n",
       "      <th>193</th>\n",
       "      <td>2010</td>\n",
       "      <td>33274</td>\n",
       "      <td>21877</td>\n",
       "      <td>69704</td>\n",
       "      <td>48589</td>\n",
       "      <td>454417</td>\n",
       "      <td>181268</td>\n",
       "      <td>54929</td>\n",
       "    </tr>\n",
       "    <tr>\n",
       "      <th>194</th>\n",
       "      <td>2011</td>\n",
       "      <td>33872</td>\n",
       "      <td>21994</td>\n",
       "      <td>52976</td>\n",
       "      <td>43900</td>\n",
       "      <td>368527</td>\n",
       "      <td>157945</td>\n",
       "      <td>48408</td>\n",
       "    </tr>\n",
       "    <tr>\n",
       "      <th>195</th>\n",
       "      <td>2012</td>\n",
       "      <td>52683</td>\n",
       "      <td>22216</td>\n",
       "      <td>43513</td>\n",
       "      <td>34557</td>\n",
       "      <td>537893</td>\n",
       "      <td>183608</td>\n",
       "      <td>46927</td>\n",
       "    </tr>\n",
       "    <tr>\n",
       "      <th>196</th>\n",
       "      <td>2013</td>\n",
       "      <td>26231</td>\n",
       "      <td>22368</td>\n",
       "      <td>39975</td>\n",
       "      <td>39156</td>\n",
       "      <td>512247</td>\n",
       "      <td>119463</td>\n",
       "      <td>33712</td>\n",
       "    </tr>\n",
       "    <tr>\n",
       "      <th>197</th>\n",
       "      <td>2014</td>\n",
       "      <td>16198</td>\n",
       "      <td>19373</td>\n",
       "      <td>28999</td>\n",
       "      <td>24021</td>\n",
       "      <td>403086</td>\n",
       "      <td>106155</td>\n",
       "      <td>28562</td>\n",
       "    </tr>\n",
       "    <tr>\n",
       "      <th>198</th>\n",
       "      <td>2015</td>\n",
       "      <td>12080</td>\n",
       "      <td>15112</td>\n",
       "      <td>21054</td>\n",
       "      <td>14454</td>\n",
       "      <td>135191</td>\n",
       "      <td>69078</td>\n",
       "      <td>7593</td>\n",
       "    </tr>\n",
       "    <tr>\n",
       "      <th>199</th>\n",
       "      <td>2016</td>\n",
       "      <td>3571</td>\n",
       "      <td>10894</td>\n",
       "      <td>6803</td>\n",
       "      <td>9361</td>\n",
       "      <td>88688</td>\n",
       "      <td>36387</td>\n",
       "      <td>5159</td>\n",
       "    </tr>\n",
       "  </tbody>\n",
       "</table>\n",
       "<p>200 rows × 8 columns</p>\n",
       "</div>"
      ],
      "text/plain": [
       "    yearcollected_fixed  africa   asia  australia  europe  north america  \\\n",
       "0                  1817      76    139        385     534            471   \n",
       "1                  1818      43    246        477     805           5365   \n",
       "2                  1819      76    332        487    1066            560   \n",
       "3                  1820      50    155        217    1741            641   \n",
       "4                  1821      79    715        115    1853            464   \n",
       "5                  1822     343    451        547    1241           3362   \n",
       "6                  1823      66     82       1441     866            371   \n",
       "7                  1824     319    141        124    1553            516   \n",
       "8                  1825     338    178        311    1246            952   \n",
       "9                  1826     339    120         87    1584            889   \n",
       "10                 1827     293    187        166    2196            752   \n",
       "11                 1828     258    236        173    1950           2040   \n",
       "12                 1829     555    238        227    1807           1044   \n",
       "13                 1830     220    225         76    1712            523   \n",
       "14                 1831      49    218        102    1615            945   \n",
       "15                 1832     209    224        196    1723           1500   \n",
       "16                 1833     139    261        225    2579           2045   \n",
       "17                 1834     374    294        241    1824           1694   \n",
       "18                 1835     677    570        267    1744           1405   \n",
       "19                 1836     178    901        497    3318            881   \n",
       "20                 1837    2048    576        595    3238           1464   \n",
       "21                 1838    1943    671       2013    3125           2981   \n",
       "22                 1839    1828    238       3187    3149           2278   \n",
       "23                 1840    1760    388       2724    5650           2979   \n",
       "24                 1841    1315   1655        906    4406           3521   \n",
       "25                 1842     538   2882       1174    4458           3814   \n",
       "26                 1843     288   1361       2793    3816           2640   \n",
       "27                 1844     320    876       1373    4322           2419   \n",
       "28                 1845     237   1037        789    4818           3275   \n",
       "29                 1846     417   1005        882    5464           4362   \n",
       "..                  ...     ...    ...        ...     ...            ...   \n",
       "170                1987   34874  37605     130764   46302         397502   \n",
       "171                1988   44456  31930     141211   48189         383202   \n",
       "172                1989   38428  36151     134280   45063         381650   \n",
       "173                1990   42041  36005     136161   56755         391754   \n",
       "174                1991   29538  39925     131091   62951         405979   \n",
       "175                1992   30309  37354     151296   67376         408740   \n",
       "176                1993   37388  40643     159553   77994         421136   \n",
       "177                1994   39959  32979     145041   69078         451914   \n",
       "178                1995   52436  49346     172370   71207         511523   \n",
       "179                1996   38526  41148     137164   68625         444017   \n",
       "180                1997   28611  40305     138453   76381         433645   \n",
       "181                1998   33057  46807     133546   71646         439901   \n",
       "182                1999   38141  42899     140347   63971         407015   \n",
       "183                2000   51413  40252     114264   72520         426556   \n",
       "184                2001  132746  31912     109268   60116         410070   \n",
       "185                2002   85929  30626      96699   65991         440842   \n",
       "186                2003   68127  30017     101329   92905         440627   \n",
       "187                2004   45539  53708     119930  100434         452017   \n",
       "188                2005   54908  39664     107732  101349         422926   \n",
       "189                2006   37666  45890      83399   63043         411666   \n",
       "190                2007   51341  35545      83050   59972         378394   \n",
       "191                2008   41523  35243      84874   59476         410031   \n",
       "192                2009   41027  21076      73359   48657         404088   \n",
       "193                2010   33274  21877      69704   48589         454417   \n",
       "194                2011   33872  21994      52976   43900         368527   \n",
       "195                2012   52683  22216      43513   34557         537893   \n",
       "196                2013   26231  22368      39975   39156         512247   \n",
       "197                2014   16198  19373      28999   24021         403086   \n",
       "198                2015   12080  15112      21054   14454         135191   \n",
       "199                2016    3571  10894       6803    9361          88688   \n",
       "\n",
       "      other  south america  \n",
       "0       390           1452  \n",
       "1      4259            361  \n",
       "2       914            313  \n",
       "3       997            208  \n",
       "4       876            652  \n",
       "5      1196            325  \n",
       "6      1032            247  \n",
       "7      1181            818  \n",
       "8      1628            300  \n",
       "9      2143           1250  \n",
       "10     3063           1249  \n",
       "11     3001            954  \n",
       "12     3407            718  \n",
       "13     3964            763  \n",
       "14     2642           1317  \n",
       "15     4771            886  \n",
       "16     4977            954  \n",
       "17     2821            881  \n",
       "18     3377            973  \n",
       "19     3752           2488  \n",
       "20     5717           1138  \n",
       "21     9108           4119  \n",
       "22     6150           1841  \n",
       "23     7144           1894  \n",
       "24     5255           1931  \n",
       "25     7077           2995  \n",
       "26     7017           1386  \n",
       "27     6085           1315  \n",
       "28     4734           2008  \n",
       "29     3782           1781  \n",
       "..      ...            ...  \n",
       "170  118522         129859  \n",
       "171  104349         123776  \n",
       "172   99985         127818  \n",
       "173   99632         109858  \n",
       "174  109148         113523  \n",
       "175  113462         114611  \n",
       "176  132286         106249  \n",
       "177  128029         115625  \n",
       "178  138048         112657  \n",
       "179  127164         113196  \n",
       "180  149017         124524  \n",
       "181  123515         104031  \n",
       "182  135641         107499  \n",
       "183  164377         118871  \n",
       "184  145436         107078  \n",
       "185  152949          74342  \n",
       "186  173595         108202  \n",
       "187  148997          81527  \n",
       "188  199265          71840  \n",
       "189  210184          57729  \n",
       "190  188704          68636  \n",
       "191  184670          48399  \n",
       "192  189340          60834  \n",
       "193  181268          54929  \n",
       "194  157945          48408  \n",
       "195  183608          46927  \n",
       "196  119463          33712  \n",
       "197  106155          28562  \n",
       "198   69078           7593  \n",
       "199   36387           5159  \n",
       "\n",
       "[200 rows x 8 columns]"
      ]
     },
     "execution_count": 34,
     "metadata": {},
     "output_type": "execute_result"
    }
   ],
   "source": [
    "pandas_yc_cross.head(200)"
   ]
  },
  {
   "cell_type": "code",
   "execution_count": 35,
   "metadata": {
    "collapsed": false,
    "scrolled": true
   },
   "outputs": [
    {
     "data": {
      "image/png": "[encoded data removed]",
      "text/plain": [
       "<matplotlib.figure.Figure at 0x7f7b673d5d68>"
      ]
     },
     "metadata": {},
     "output_type": "display_data"
    }
   ],
   "source": [
    "p1 = plt.bar(pandas_yc_cross['yearcollected_fixed'], \n",
    "                 pandas_yc_cross['asia'], color='#d62728', edgecolor='none')\n",
    "#p2 = plt.bar(pandas_yc_cross['yearcollected_fixed'], \n",
    "#                 pandas_yc_cross['africa'], color='#05ff05', edgecolor='none')"
   ]
  },
  {
   "cell_type": "code",
   "execution_count": 41,
   "metadata": {
    "collapsed": false,
    "scrolled": true
   },
   "outputs": [
    {
     "data": {
      "image/png": "[encoded data removed]",
      "text/plain": [
       "<matplotlib.figure.Figure at 0x7f7b679e5390>"
      ]
     },
     "metadata": {},
     "output_type": "display_data"
    }
   ],
   "source": [
    "import pandas as pd\n",
    "import numpy as np\n",
    "continents_list = sorted(continents)\n",
    "continents_list.insert(0, \"other\")\n",
    "# the 100k subset has no australia stuff so graph loop fails\n",
    "#continents_list.remove(\"australia\")\n",
    "\n",
    "# blue -> red\n",
    "#colors = [\"#6d6263\", \"#00e5c8\", \"#1bc4ae\", \"#36a395\", \"#51827c\", \"#88414a\", \"#a32031\", \"#bf0018\"]\n",
    "\n",
    "# blue -> orange\n",
    "colors = [\"#a75902\", \"#00e5c8\", \"#1bcda7\", \"#37b686\", \"#539f65\", \"#51827c\", \"#bf6603\"]\n",
    "\n",
    "plots = []\n",
    "bottoms = pd.DataFrame(np.zeros((len(pandas_yc_cross['yearcollected_fixed']), 1)))\n",
    "for c in continents_list:\n",
    "    plots.append(\n",
    "      plt.bar(pandas_yc_cross['yearcollected_fixed'], pandas_yc_cross[c], \n",
    "              color=colors[len(plots)], edgecolor='none',\n",
    "              width=1.0, bottom=bottoms[0])\n",
    "    )\n",
    "    bottoms[0] += pandas_yc_cross[c]\n",
    "    #print(pandas_yc_cross[c])\n",
    "\n",
    "#print(bottoms)\n",
    "\n",
    "plt.axvline(x=1980)\n",
    "plt.axvline(x=1988)\n",
    "\n",
    "plt.legend(plots, continents_list, loc=2)\n",
    "plt.title(\"Specimens in iDigBio by Collection Year and Continent\")\n",
    "plt.ylabel(\"Number of Specimen Records\")\n",
    "plt.xlabel(\"Year\")\n",
    "axes = plt.gca()\n",
    "axes.set_xlim([1815, 2020])\n",
    "axes.set_ylim([0, 1200000])\n",
    "fig = plt.gcf()\n",
    "fig.set_size_inches(12, 4)"
   ]
  },
  {
   "cell_type": "code",
   "execution_count": null,
   "metadata": {
    "collapsed": true
   },
   "outputs": [],
   "source": []
  }
 ],
 "metadata": {
  "kernelspec": {
   "display_name": "3 - PySpark Python3 Medium",
   "language": "python",
   "name": "pyspark3-med"
  },
  "language_info": {
   "codemirror_mode": {
    "name": "ipython",
    "version": 3
   },
   "file_extension": ".py",
   "mimetype": "text/x-python",
   "name": "python",
   "nbconvert_exporter": "python",
   "pygments_lexer": "ipython3",
   "version": "3.5.2"
  }
 },
 "nbformat": 4,
 "nbformat_minor": 1
}

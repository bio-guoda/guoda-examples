{
 "cells": [
  {
   "cell_type": "markdown",
   "metadata": {},
   "source": [
    "# Importing libraries\n",
    "\n",
    "The following imports are for making a quick inline plot at the end"
   ]
  },
  {
   "cell_type": "code",
   "execution_count": 1,
   "metadata": {
    "collapsed": false
   },
   "outputs": [],
   "source": [
    "%matplotlib inline\n",
    "import matplotlib.pyplot as plt"
   ]
  },
  {
   "cell_type": "markdown",
   "metadata": {},
   "source": [
    "This imports the [col](http://spark.apache.org/docs/latest/api/python/pyspark.sql.html#pyspark.sql.functions.col) \n",
    "function which is used later to get the column object for something that is calculated as part\n",
    "of the pipeline and does not yet have a name that can be refered to."
   ]
  },
  {
   "cell_type": "code",
   "execution_count": 2,
   "metadata": {
    "collapsed": false
   },
   "outputs": [],
   "source": [
    "from pyspark.sql.functions import col"
   ]
  },
  {
   "cell_type": "markdown",
   "metadata": {},
   "source": [
    "# Reading in the iDigBio data frame\n",
    "\n",
    "There is a [parquet file](https://parquet.apache.org/) stored on the HDFS file system used by the Spark cluster that already has a copy of iDigBio data in it. This is a testing export and does not have all of the columns from iDigBio but it has a lot of the commonly used ones."
   ]
  },
  {
   "cell_type": "code",
   "execution_count": 3,
   "metadata": {
    "collapsed": false
   },
   "outputs": [
    {
     "data": {
      "text/plain": [
       "<pyspark.sql.context.SQLContext at 0x7f57bc06d240>"
      ]
     },
     "execution_count": 3,
     "metadata": {},
     "output_type": "execute_result"
    }
   ],
   "source": [
    "# Confirm we've started SPARK and created a SQL context that can be used\n",
    "sqlContext"
   ]
  },
  {
   "cell_type": "code",
   "execution_count": 15,
   "metadata": {
    "collapsed": false
   },
   "outputs": [],
   "source": [
    "idb_df = sqlContext.read.parquet(\"/guoda/data/idigbio-20171209T023310.parquet\")"
   ]
  },
  {
   "cell_type": "code",
   "execution_count": 16,
   "metadata": {
    "collapsed": false
   },
   "outputs": [
    {
     "data": {
      "text/plain": [
       "106202428"
      ]
     },
     "execution_count": 16,
     "metadata": {},
     "output_type": "execute_result"
    }
   ],
   "source": [
    "idb_df.count()"
   ]
  },
  {
   "cell_type": "code",
   "execution_count": 17,
   "metadata": {
    "collapsed": true
   },
   "outputs": [],
   "source": [
    "checklists = (idb_df\n",
    "              .select(idb_df.countrycode, idb_df.scientificname)\n",
    "              .filter(idb_df.countrycode != \"\")\n",
    "              .groupBy(idb_df.countrycode, idb_df.scientificname)\n",
    "              .count()\n",
    "              )"
   ]
  },
  {
   "cell_type": "code",
   "execution_count": null,
   "metadata": {
    "collapsed": true
   },
   "outputs": [],
   "source": []
  },
  {
   "cell_type": "code",
   "execution_count": 18,
   "metadata": {
    "collapsed": false
   },
   "outputs": [
    {
     "name": "stdout",
     "output_type": "stream",
     "text": [
      "5803132\n"
     ]
    }
   ],
   "source": [
    "print(checklists.count())\n",
    "#checklists.head(10)"
   ]
  },
  {
   "cell_type": "code",
   "execution_count": 19,
   "metadata": {
    "collapsed": false
   },
   "outputs": [
    {
     "data": {
      "text/plain": [
       "[Row(countrycode='usa', scientificname='bolboschoenus maritimus', count=733),\n",
       " Row(countrycode='usa', scientificname='penstemon pseudospectabilis', count=366),\n",
       " Row(countrycode='usa', scientificname='rhus aromatica', count=2281),\n",
       " Row(countrycode='usa', scientificname='chorizanthe spinosa', count=180),\n",
       " Row(countrycode='usa', scientificname='mucronea californica', count=445),\n",
       " Row(countrycode='usa', scientificname='ericameria nauseosa var. hololeuca', count=623),\n",
       " Row(countrycode='usa', scientificname='carex divulsa subsp. divulsa', count=32),\n",
       " Row(countrycode='usa', scientificname='keckiella lemmonii', count=408),\n",
       " Row(countrycode='usa', scientificname='lasthenia minor', count=641),\n",
       " Row(countrycode='usa', scientificname='tanacetum parthenium', count=297)]"
      ]
     },
     "execution_count": 19,
     "metadata": {},
     "output_type": "execute_result"
    }
   ],
   "source": [
    "checklists.head(10)"
   ]
  },
  {
   "cell_type": "markdown",
   "metadata": {},
   "source": [
    "# Filtering and summarizing data\n",
    "\n",
    "All the iDigBio data is first filtered to only those records related to arthopods. Notice that there are two syntaxes for the [filter](http://spark.apache.org/docs/latest/api/python/pyspark.sql.html#pyspark.sql.DataFrame.filter) function and each line uses one of them. The SQL-style IN clause was an easier way of expressing the country codes than a set of equality and or operations."
   ]
  },
  {
   "cell_type": "code",
   "execution_count": 20,
   "metadata": {
    "collapsed": false
   },
   "outputs": [
    {
     "data": {
      "text/plain": [
       "8941230"
      ]
     },
     "execution_count": 20,
     "metadata": {},
     "output_type": "execute_result"
    }
   ],
   "source": [
    "arthropods = (idb_df\n",
    "              .filter(idb_df.phylum == \"arthropoda\")\n",
    "              .filter(\"countrycode IN ('usa', 'can', 'mex')\")\n",
    "              )\n",
    "arthropods.count()"
   ]
  },
  {
   "cell_type": "markdown",
   "metadata": {},
   "source": [
    "The syntax for summarizing data also resembles SQL. (In fact, all this can be done with an actual SQL statement using registerTempTable() and sqlContext.sql() if you wanted to work only with SQL syntax.) Notice the use of the col() function to get the newly calculated column of counts. This is needed because there is no column arthropods.counts, the column only exists in the context of the calulation before the assignment to species_counts happens."
   ]
  },
  {
   "cell_type": "code",
   "execution_count": 21,
   "metadata": {
    "collapsed": false
   },
   "outputs": [],
   "source": [
    "species_counts = (arthropods\n",
    "                  .groupBy(arthropods.scientificname)\n",
    "                  .count()\n",
    "                  .orderBy(col(\"count\"), ascending=False)\n",
    "                  )"
   ]
  },
  {
   "cell_type": "code",
   "execution_count": 22,
   "metadata": {
    "collapsed": false
   },
   "outputs": [
    {
     "name": "stdout",
     "output_type": "stream",
     "text": [
      "260629\n"
     ]
    },
    {
     "data": {
      "text/plain": [
       "[Row(scientificname=None, count=367960),\n",
       " Row(scientificname='aphodius', count=49429),\n",
       " Row(scientificname='megaselia', count=47294),\n",
       " Row(scientificname='diptera', count=40279),\n",
       " Row(scientificname='undetermined', count=39643),\n",
       " Row(scientificname='hymenoptera', count=32855),\n",
       " Row(scientificname='ichneumonidae', count=27857),\n",
       " Row(scientificname='georgecraigius epactius', count=22113),\n",
       " Row(scientificname='empoasca', count=21334),\n",
       " Row(scientificname='undetermined sp.', count=19327)]"
      ]
     },
     "execution_count": 22,
     "metadata": {},
     "output_type": "execute_result"
    }
   ],
   "source": [
    "print(species_counts.count())\n",
    "species_counts.head(10)"
   ]
  },
  {
   "cell_type": "markdown",
   "metadata": {},
   "source": [
    "# Graph the distribution\n",
    "\n",
    "To make a quick graph, the Spark dataframe needs to be converted to a structure that graphing libraries like matplotlib understand. The topPandas() method of a dataframe will convert the data to a Pandas dataframe but this is a single object in the memory of the notebook server, it is not on the Spark cluster. Additionally, graphing more than 10,000 things is unreadable so be very sure to cut down the size of the dataframe before converting to Pandas. Here only species with more than 100 occurences are graphed."
   ]
  },
  {
   "cell_type": "code",
   "execution_count": 23,
   "metadata": {
    "collapsed": false
   },
   "outputs": [
    {
     "name": "stdout",
     "output_type": "stream",
     "text": [
      "(2686, 2)\n"
     ]
    }
   ],
   "source": [
    "top_species_for_graph = (species_counts\n",
    "                         .filter(\"count > 500\")\n",
    "                         .toPandas()\n",
    "                         )\n",
    "print(top_species_for_graph.shape)"
   ]
  },
  {
   "cell_type": "code",
   "execution_count": 24,
   "metadata": {
    "collapsed": false
   },
   "outputs": [
    {
     "data": {
      "image/png": "[encoded data removed]",
      "text/plain": [
       "<matplotlib.figure.Figure at 0x7f578d8537f0>"
      ]
     },
     "metadata": {},
     "output_type": "display_data"
    }
   ],
   "source": [
    "ax = plt.bar(left=top_species_for_graph.index,\n",
    "            height=top_species_for_graph[\"count\"])"
   ]
  },
  {
   "cell_type": "markdown",
   "metadata": {},
   "source": [
    "# Save the list\n",
    "\n",
    "Finally, save the full dataframe out as a CSV file for other uses. Right now this writes the file to the HDFS cluster for which there is no user access. Please email mcollins@acis.ufl.edu to get a copy of your files."
   ]
  },
  {
   "cell_type": "code",
   "execution_count": 14,
   "metadata": {
    "collapsed": false
   },
   "outputs": [],
   "source": [
    "(species_counts\n",
    " .write\n",
    " .format(\"com.databricks.spark.csv\")\n",
    " .mode(\"overwrite\")\n",
    " .option(\"header\", \"true\")\n",
    " .save(\"/outputs/species_counts.csv\")\n",
    ")"
   ]
  },
  {
   "cell_type": "code",
   "execution_count": null,
   "metadata": {
    "collapsed": true
   },
   "outputs": [],
   "source": []
  }
 ],
 "metadata": {
  "kernelspec": {
   "display_name": "3 - PySpark Python3 Medium",
   "language": "python",
   "name": "pyspark3-med"
  },
  "language_info": {
   "codemirror_mode": {
    "name": "ipython",
    "version": 3
   },
   "file_extension": ".py",
   "mimetype": "text/x-python",
   "name": "python",
   "nbconvert_exporter": "python",
   "pygments_lexer": "ipython3",
   "version": "3.5.2"
  }
 },
 "nbformat": 4,
 "nbformat_minor": 1
}
